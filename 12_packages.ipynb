{
 "cells": [
  {
   "cell_type": "markdown",
   "metadata": {},
   "source": [
    "<a id=\"1\"></a>\n",
    "\n",
    "# Packages"
   ]
  },
  {
   "cell_type": "markdown",
   "metadata": {},
   "source": [
    "**C O N T E N T S**\n",
    "\n",
    "- [Packages](#1)\n",
    "    - [Purpose](#11)\n",
    "        - [Files `__init__.py`, `__main__.py`](#111)\n",
    "        - [Import package behaviour](#112)\n",
    "    - [Create your own package](#12)"
   ]
  },
  {
   "cell_type": "markdown",
   "metadata": {},
   "source": [
    "<a id=\"11\"></a>\n",
    "\n",
    "## Purpose"
   ]
  },
  {
   "cell_type": "markdown",
   "metadata": {},
   "source": [
    "A package is a way to organize related modules (Python files) into a single directory hierarchy. \n",
    "\n",
    "This directory hierarchy includes a special file named `__init__.py` which is executed when the package is imported, and it can contain initialization code for the package. \n",
    "\n",
    "Packages are used to create a structured and hierarchical namespace for your code, making it easier to manage and organize larger projects."
   ]
  },
  {
   "cell_type": "markdown",
   "metadata": {},
   "source": [
    "<a id=\"111\"></a>\n",
    "\n",
    "### Files `__init__.py`, `__main__.py`"
   ]
  },
  {
   "cell_type": "markdown",
   "metadata": {},
   "source": [
    "Package: A package is a collection of Python modules grouped together in a directory structure. It allows you to organize your code into logical units, promoting modularity and reusability.\n",
    "\n",
    "`__init__.py`: This is a special file that should be present in every package directory. It is executed when the package is imported and can contain initialization code or other package-level settings. In recent versions of Python (3.3 and above), `__init__.py` is not strictly required for a directory to be considered a package, but it's still commonly used.\n",
    "\n",
    "`__main__.py`: This file has special significance when dealing with executable packages. When you execute a package using the -m flag, Python will look for and execute the `__main__.py` file within the package. This can be useful when you want to treat a package as a script."
   ]
  },
  {
   "cell_type": "markdown",
   "metadata": {},
   "source": [
    "<a id=\"113\"></a>\n",
    "\n",
    "### Import package behaviour"
   ]
  },
  {
   "cell_type": "markdown",
   "metadata": {},
   "source": [
    "When you import a package in Python, a series of steps occur:\n",
    "\n",
    "__init__.py Execution: If the package contains an __init__.py file, it is executed. This is where you can define package-level variables, functions, and classes that will be available when the package is imported.\n",
    "\n",
    "Module Discovery: Python looks for other Python files (modules) in the package directory. These modules can be other Python files or sub-packages (subdirectories with their own __init__.py files).\n",
    "\n",
    "Importing Modules: Modules within the package can be imported using dot notation. For example, if you have a package named my_package and a module named module_name within it, you can import it as import my_package.module_name.\n",
    "\n",
    "Namespace: Imported modules become attributes of the package, creating a namespace hierarchy. You can access the module's variables, functions, and classes using dot notation: my_package.module_name.some_function().\n",
    "\n",
    "Sub-Packages: If the package contains sub-packages (subdirectories with their own __init__.py files), the import process is recursively applied to them."
   ]
  },
  {
   "cell_type": "markdown",
   "metadata": {},
   "source": [
    "<a id=\"12\"></a>\n",
    "\n",
    "## Create your own package"
   ]
  },
  {
   "cell_type": "markdown",
   "metadata": {},
   "source": [
    "Suppose we have a project for working with geometric shapes, and we want to create a package to handle different types of shapes: circles and squares."
   ]
  },
  {
   "cell_type": "markdown",
   "metadata": {},
   "source": [
    "1. Creating Directory Structure:\n",
    "<pre>\n",
    "geometry_package/\n",
    "├── __init__.py\n",
    "├── shapes/\n",
    "│   ├── __init__.py\n",
    "│   ├── circle.py\n",
    "│   └── square.py\n",
    "└── __main__.py\n",
    "</pre>"
   ]
  },
  {
   "cell_type": "markdown",
   "metadata": {},
   "source": [
    "2. Defining Modules"
   ]
  },
  {
   "cell_type": "code",
   "execution_count": null,
   "metadata": {},
   "outputs": [],
   "source": [
    "# geometry_package/shapes/circle.py\n",
    "\n",
    "class Circle:\n",
    "    def __init__(self, radius):\n",
    "        self.radius = radius\n",
    "\n",
    "    def area(self):\n",
    "        return 3.14159 * self.radius ** 2"
   ]
  },
  {
   "cell_type": "code",
   "execution_count": null,
   "metadata": {},
   "outputs": [],
   "source": [
    "# geometry_package/shapes/square.py\n",
    "\n",
    "class Square:\n",
    "    def __init__(self, side_length):\n",
    "        self.side_length = side_length\n",
    "\n",
    "    def area(self):\n",
    "        return self.side_length ** 2"
   ]
  },
  {
   "cell_type": "markdown",
   "metadata": {},
   "source": [
    "3. Initializing the Package"
   ]
  },
  {
   "cell_type": "code",
   "execution_count": null,
   "metadata": {},
   "outputs": [],
   "source": [
    "# geometry_package/__init__.py\n",
    "\n",
    "print(\"Initializing geometry_package\")\n",
    "\n",
    "# This can be used for convenient import:\n",
    "from .shapes.circle import Circle\n",
    "from .shapes.figures import Func1, Func2\n",
    "from .shapes.square import Square\n",
    "[func circle, func1, func2, square] - package\n",
    "main import -> init.py -> shapes -> init.py -> circle.py / imports'\n",
    "\n",
    "function wei2():\n",
    "    from .shapes.circle import Circle\n"
   ]
  },
  {
   "cell_type": "markdown",
   "metadata": {},
   "source": [
    "4. Using the Package"
   ]
  },
  {
   "cell_type": "code",
   "execution_count": null,
   "metadata": {},
   "outputs": [],
   "source": [
    "# geometry_package/__main__.py\n",
    "from .shapes.circle import Circle\n",
    "from .shapes.square import Square\n",
    "\n",
    "circle = Circle(5)\n",
    "square = Square(4)\n",
    "\n",
    "print(\"Circle Area:\", circle.area())\n",
    "print(\"Square Area:\", square.area())"
   ]
  },
  {
   "cell_type": "markdown",
   "metadata": {},
   "source": [
    "Now, when you run the geometry_package/`__main__.py` file, the following will happen:\n",
    "\n",
    "1. The geometry_package/`__init__.py` file will be executed, and you will see the message \"Initializing geometry_package\".\n",
    "2. The *Circle* and *Square* classes will be imported from their respective modules.\n",
    "3. Instances of the *Circle* and *Square* classes will be created, and their areas will be calculated.\n",
    "4. The calculated areas will be printed to the screen."
   ]
  },
  {
   "cell_type": "markdown",
   "metadata": {},
   "source": [
    "# TO-DO\n",
    "practice with diff init.py vs main.py\n",
    "\n",
    "learn about main and init from packages\n",
    "\n",
    "__all__, __version__, __author__, __email__ and etc.\n",
    "\n",
    "next lesson:\n",
    "requirements.txt vs pyproject .TOML (TIPA YAML) - more detailed\n",
    "packages dependency python libraries\n",
    "+ and -: pip, poetry, conda, pipenv, rye (smth new), pyenv\n",
    "lock file\n",
    "\n",
    "poetry: run, custom commands\n",
    "\n",
    "pipfile vs pipfile.lock\n",
    "\n",
    "\n",
    "how memory works with packages:\n",
    "\n",
    "shapes.circle vs shapes.figures - if imported in function:"
   ]
  },
  {
   "cell_type": "code",
   "execution_count": null,
   "metadata": {},
   "outputs": [],
   "source": [
    "from geometry_package.shapes.figures import Func1, Func2\n",
    "from shapes.square import Square\n",
    "[func circle, func1, func2, square] - package\n",
    "main import -> init.py -> shapes -> init.py -> circle.py / imports\n",
    "\n",
    "function wei2():\n",
    "    from shapes.circle import Circle"
   ]
  }
 ],
 "metadata": {
  "kernelspec": {
   "display_name": "Python 3.10.4 64-bit",
   "language": "python",
   "name": "python3"
  },
  "language_info": {
   "name": "python",
   "version": "3.10.4"
  },
  "orig_nbformat": 4,
  "vscode": {
   "interpreter": {
    "hash": "350ec87d84c6c58898f5c2e4bbb3396f5f55fe152cf4ea5d1a9ddc7ca48985be"
   }
  }
 },
 "nbformat": 4,
 "nbformat_minor": 2
}
