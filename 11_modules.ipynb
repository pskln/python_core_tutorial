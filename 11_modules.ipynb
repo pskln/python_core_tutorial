{
 "cells": [
  {
   "cell_type": "markdown",
   "metadata": {},
   "source": [
    "<a id=\"1\"></a>\n",
    "# Modules"
   ]
  },
  {
   "cell_type": "markdown",
   "metadata": {},
   "source": [
    "**C O N T E N T S**\n",
    "- [Modules](#1)\n",
    "    - [Purpose & Import order](#11)\n",
    "        - [Relative Imports](#112)\n",
    "        - [How to Work with modules: `import`, `from`, `dot notation`](#113)\n",
    "        - [Priority of Search for Imports](#114)\n",
    "    - [Import vs. From](#12)\n",
    "    - [Cyclic Import](#13)\n",
    "    - [Additional: Module Execution on Loading and Reload module](#14)\n"
   ]
  },
  {
   "cell_type": "markdown",
   "metadata": {},
   "source": [
    "<a id=\"11\"></a>\n",
    "## Purpose & Import order"
   ]
  },
  {
   "cell_type": "markdown",
   "metadata": {},
   "source": [
    "Modules serves as a way to organize and reuse code in a program. It allow you to encapsulate related functionality into separate files, making your code more modular and maintainable."
   ]
  },
  {
   "cell_type": "markdown",
   "metadata": {},
   "source": [
    "When importing modules in Python, the interpreter follows a specific order to locate and import the modules. The import order is as follows:\n",
    "\n",
    "1. Built-in modules: These are modules that are part of the Python standard library.\n",
    "2. Modules in the same directory: Python looks for modules with the same name in the same directory as the script or module being executed.\n",
    "3. Modules in the system's path / Third-party modules: Python checks the directories listed in the sys.path variable to find the module. These are modules that are installed separately from the Python standard library."
   ]
  },
  {
   "cell_type": "markdown",
   "metadata": {},
   "source": [
    "<a id=\"112\"></a>\n",
    "### Relative Imports"
   ]
  },
  {
   "cell_type": "markdown",
   "metadata": {},
   "source": [
    "Relative imports are used to import modules that are located relative to the current module. They are specified using dot notation. Here's an example:"
   ]
  },
  {
   "cell_type": "code",
   "execution_count": null,
   "metadata": {},
   "outputs": [],
   "source": [
    "from . import mymodule\n",
    "\n",
    "result = mymodule.some_function()\n",
    "print(result)"
   ]
  },
  {
   "cell_type": "markdown",
   "metadata": {},
   "source": [
    "In this example, the module mymodule is imported from the same package/directory as the current module. The dot (.) represents the current package or module, allowing you to perform relative imports."
   ]
  },
  {
   "cell_type": "markdown",
   "metadata": {},
   "source": [
    "`mypackage/`\n",
    "- `__init__.py`\n",
    "- `module1.py`\n",
    "- `subpackage/`\n",
    "    - `__init__.py`\n",
    "    - `module2.py`"
   ]
  },
  {
   "cell_type": "code",
   "execution_count": null,
   "metadata": {},
   "outputs": [],
   "source": [
    "from .subpackage import module2\n",
    "\n",
    "# Now you can use functions and classes from module2"
   ]
  },
  {
   "cell_type": "markdown",
   "metadata": {},
   "source": [
    "Best practices for relative imports include:\n",
    "\n",
    "- Avoid excessive use of relative imports; they are most useful within a package.\n",
    "- Avoid deep nesting of packages to keep relative imports readable and maintainable.\n",
    "- Use absolute imports for top-level modules and third-party packages.\n",
    "\n",
    "Remember that relative imports only work inside packages and require a `__init__.py` file in the respective directories to define the package hierarchy."
   ]
  },
  {
   "cell_type": "markdown",
   "metadata": {},
   "source": [
    "<a id=\"113\"></a>\n",
    "### How to Work with modules: `import`, `from`, `dot notation`"
   ]
  },
  {
   "cell_type": "markdown",
   "metadata": {},
   "source": [
    "> Import"
   ]
  },
  {
   "cell_type": "markdown",
   "metadata": {},
   "source": [
    "The import statement allows you to import the entire module, and you access its contents using the module's name as a prefix.\n",
    "\n",
    "Suppose we have a module named `math_operations.py` with the following content:"
   ]
  },
  {
   "cell_type": "code",
   "execution_count": 1,
   "metadata": {},
   "outputs": [],
   "source": [
    "# math_operations.py\n",
    "def add(a, b):\n",
    "    return a + b\n",
    "\n",
    "def subtract(a, b):\n",
    "    return a - b"
   ]
  },
  {
   "cell_type": "code",
   "execution_count": null,
   "metadata": {},
   "outputs": [],
   "source": [
    "# main.py\n",
    "import math_operations\n",
    "\n",
    "result = math_operations.add(5, 3)\n",
    "print(result)  # Output: 8\n",
    "\n",
    "result = math_operations.subtract(10, 4)\n",
    "print(result)  # Output: 6"
   ]
  },
  {
   "cell_type": "markdown",
   "metadata": {},
   "source": [
    "> From"
   ]
  },
  {
   "cell_type": "markdown",
   "metadata": {},
   "source": [
    "The from statement allows you to import specific functions or variables from a module without using the module's name as a prefix.\n",
    "\n",
    "Using the same `math_operations.py` module, here's how you can use the from statement:"
   ]
  },
  {
   "cell_type": "code",
   "execution_count": null,
   "metadata": {},
   "outputs": [],
   "source": [
    "# main.py\n",
    "from math_operations import add, subtract\n",
    "\n",
    "result = add(5, 3)\n",
    "print(result)  # Output: 8\n",
    "\n",
    "result = subtract(10, 4)\n",
    "print(result)  # Output: 6"
   ]
  },
  {
   "cell_type": "markdown",
   "metadata": {},
   "source": [
    "> Dot notation"
   ]
  },
  {
   "cell_type": "markdown",
   "metadata": {},
   "source": [
    "The dot notation is used to access attributes or submodules within a module.\n",
    "\n",
    "Suppose we have a module named `geometry.py` with the following content:"
   ]
  },
  {
   "cell_type": "code",
   "execution_count": null,
   "metadata": {},
   "outputs": [],
   "source": [
    "# geometry.py\n",
    "PI = 3.14159\n",
    "\n",
    "def circle_area(radius):\n",
    "    return PI * radius * radius\n",
    "\n",
    "def rectangle_area(length, width):\n",
    "    return length * width"
   ]
  },
  {
   "cell_type": "markdown",
   "metadata": {},
   "source": [
    "Now, let's use the dot notation to access the `PI` constant and the `rectangle_area` function from the geometry module:"
   ]
  },
  {
   "cell_type": "code",
   "execution_count": null,
   "metadata": {},
   "outputs": [],
   "source": [
    "# main.py\n",
    "import geometry\n",
    "\n",
    "circle_radius = 5\n",
    "area = geometry.circle_area(circle_radius)\n",
    "print(f\"Circle area with radius {circle_radius}: {area:.2f}\")  # Output: Circle area with radius 5: 78.54\n",
    "\n",
    "length = 8\n",
    "width = 3\n",
    "area = geometry.rectangle_area(length, width)\n",
    "print(f\"Rectangle area with length {length} and width {width}: {area}\")  # Output: Rectangle area with length 8 and width 3: 24"
   ]
  },
  {
   "cell_type": "markdown",
   "metadata": {},
   "source": [
    "<a id=\"114\"></a>\n",
    "### Priority of Search for Imports"
   ]
  },
  {
   "cell_type": "markdown",
   "metadata": {},
   "source": [
    "The interpreter looks for modules in the following order:\n",
    "\n",
    "- The current directory (where your main script is located).\n",
    "- Directories listed in the PYTHONPATH environment variable (if set).\n",
    "- Standard library directories and Third-party packages installed via `pip`."
   ]
  },
  {
   "cell_type": "markdown",
   "metadata": {},
   "source": [
    "The sys.path variable is a list that contains directories where Python looks for modules. You can modify this list at runtime to add custom directories to the import search path."
   ]
  },
  {
   "cell_type": "markdown",
   "metadata": {},
   "source": [
    "Suppose we have a custom module named `my_module.py` located in the `/path/to/my_module_directory` directory. We want to add this directory to the import search path using `sys.path`."
   ]
  },
  {
   "cell_type": "code",
   "execution_count": null,
   "metadata": {},
   "outputs": [],
   "source": [
    "# main.py\n",
    "import sys\n",
    "\n",
    "# Add the custom directory to the import search path\n",
    "sys.path.insert(0, '/path/to/my_module_directory')\n",
    "\n",
    "# Now you can import the module as if it was in the current directory\n",
    "import my_module\n",
    "\n",
    "result = my_module.my_function()\n",
    "print(result)"
   ]
  },
  {
   "cell_type": "markdown",
   "metadata": {},
   "source": [
    "As mentioned earlier, you can set the `PYTHONPATH` environment variable to specify additional directories for Python to search for modules."
   ]
  },
  {
   "cell_type": "markdown",
   "metadata": {},
   "source": [
    "Let's assume we have the same my_module.py as in the previous example, but this time we'll set the PYTHONPATH environment variable."
   ]
  },
  {
   "cell_type": "markdown",
   "metadata": {},
   "source": [
    "On Unix/Linux/Mac:\n",
    "\n",
    "`export PYTHONPATH=/path/to/my_module_directory:$PYTHONPATH`"
   ]
  },
  {
   "cell_type": "markdown",
   "metadata": {},
   "source": [
    "On Windows (Command Prompt):\n",
    "\n",
    "`set PYTHONPATH=C:\\path\\to\\my_module_directory;%PYTHONPATH%`"
   ]
  },
  {
   "cell_type": "markdown",
   "metadata": {},
   "source": [
    "After setting the PYTHONPATH, you can use import my_module directly in your main script, and Python will look for the module in the specified directory."
   ]
  },
  {
   "cell_type": "markdown",
   "metadata": {},
   "source": [
    "<a id=\"12\"></a>\n",
    "## Import vs. From"
   ]
  },
  {
   "cell_type": "markdown",
   "metadata": {},
   "source": [
    "In Python, there are two ways to import modules: `import` and `from`. They have slightly different behaviors and use cases."
   ]
  },
  {
   "cell_type": "markdown",
   "metadata": {},
   "source": [
    "**`import`**"
   ]
  },
  {
   "cell_type": "markdown",
   "metadata": {},
   "source": [
    "The import statement allows you to import an entire module or specific attributes from a module. Here's an example:"
   ]
  },
  {
   "cell_type": "code",
   "execution_count": null,
   "metadata": {},
   "outputs": [],
   "source": [
    "import math\n",
    "\n",
    "result = math.sqrt(16)\n",
    "print(result)"
   ]
  },
  {
   "cell_type": "markdown",
   "metadata": {},
   "source": [
    "**`from`**"
   ]
  },
  {
   "cell_type": "markdown",
   "metadata": {},
   "source": [
    "The from statement allows you to import specific attributes (functions, classes, variables) from a module directly into the current namespace. Here's an example:"
   ]
  },
  {
   "cell_type": "code",
   "execution_count": null,
   "metadata": {},
   "outputs": [],
   "source": [
    "from math import sqrt\n",
    "\n",
    "result = sqrt(16)\n",
    "print(result)"
   ]
  },
  {
   "cell_type": "markdown",
   "metadata": {},
   "source": [
    "### Benefits of Import and From\n",
    "\n",
    "- **`import`** allows you to access all attributes from a module, providing a clear indication of their origin.\n",
    "- **`from`** allows you to directly access specific attributes without the need for explicit module name prefixing."
   ]
  },
  {
   "cell_type": "markdown",
   "metadata": {},
   "source": [
    "### Performance"
   ]
  },
  {
   "cell_type": "markdown",
   "metadata": {},
   "source": [
    "- The performance difference between `import` and `from` in Python is negligible.\n",
    "- `import` imports the entire module, while `from` allows importing specific items into the current namespace.\n",
    "- The overhead of importing a module occurs only once during the first import and has little impact on subsequent imports.\n",
    "- `from` might offer slightly faster lookups in the current namespace, but the time saved is generally insignificant.\n",
    "- Performance considerations should not be the primary factor when choosing between `import` and `from`.\n",
    "- Choose `import` for accessing multiple items from a module or to avoid naming conflicts.\n",
    "- Use `from` when you only need to access a few specific items from a module and to improve code readability."
   ]
  },
  {
   "cell_type": "markdown",
   "metadata": {},
   "source": [
    "### Limits of From"
   ]
  },
  {
   "cell_type": "markdown",
   "metadata": {},
   "source": [
    "Using from can lead to namespace collisions if the imported attribute names conflict with existing names in the current namespace. It can make it harder to determine the origin of imported attributes, especially in large projects with many modules."
   ]
  },
  {
   "cell_type": "markdown",
   "metadata": {},
   "source": [
    "### Import vs. From: Changing Value in the Module"
   ]
  },
  {
   "cell_type": "markdown",
   "metadata": {},
   "source": [
    "- When using **`import`** to import a module, any changes made to the module's attributes will affect the module and any other modules that import it. \n",
    "- When using **`from`** to import specific attributes, changing the values of those attributes will not affect the original module."
   ]
  },
  {
   "cell_type": "markdown",
   "metadata": {},
   "source": [
    "Consider a module named `my_module.py` with the following content:"
   ]
  },
  {
   "cell_type": "code",
   "execution_count": null,
   "metadata": {},
   "outputs": [],
   "source": [
    "# my_module.py\n",
    "variable = 42\n",
    "\n",
    "def func():\n",
    "    return \"Hello, world!\""
   ]
  },
  {
   "cell_type": "markdown",
   "metadata": {},
   "source": [
    "Now, let's see how changes to the variable affect import and from statements in another Python script."
   ]
  },
  {
   "cell_type": "code",
   "execution_count": null,
   "metadata": {},
   "outputs": [],
   "source": [
    "# Using import\n",
    "\n",
    "# main.py\n",
    "import my_module\n",
    "\n",
    "print(my_module.variable)  # Output: 42\n",
    "\n",
    "# Modifying the variable in my_module\n",
    "my_module.variable = 100\n",
    "\n",
    "# The change affects the variable in the module\n",
    "print(my_module.variable)  # Output: 100\n",
    "\n",
    "# When imported again, the modified value is retained\n",
    "import my_module\n",
    "\n",
    "print(my_module.variable)  # Output: 100"
   ]
  },
  {
   "cell_type": "markdown",
   "metadata": {},
   "source": [
    "As you can see, using import, changes made to the module's variable directly affect the original module. The modified value persists when the module is imported again."
   ]
  },
  {
   "cell_type": "code",
   "execution_count": null,
   "metadata": {},
   "outputs": [],
   "source": [
    "# Using from\n",
    "\n",
    "# main.py\n",
    "from my_module import variable\n",
    "\n",
    "print(variable)  # Output: 42\n",
    "\n",
    "# Modifying the variable in the current module\n",
    "variable = 200\n",
    "\n",
    "# The change affects the variable in the current module\n",
    "print(variable)  # Output: 200\n",
    "\n",
    "# When the module is imported again, the original value is retained\n",
    "import my_module\n",
    "\n",
    "print(my_module.variable)  # Output: 42"
   ]
  },
  {
   "cell_type": "markdown",
   "metadata": {},
   "source": [
    "When using from, changes to the imported variable do not propagate back to the original module. The imported variable becomes a separate entity, independent of the module's variable. Subsequent imports of the module will have the original value."
   ]
  },
  {
   "cell_type": "markdown",
   "metadata": {},
   "source": [
    "<a id=\"13\"></a>\n",
    "## Cyclic Import"
   ]
  },
  {
   "cell_type": "markdown",
   "metadata": {},
   "source": [
    "Cyclic imports occur when two or more modules depend on each other, creating a circular dependency."
   ]
  },
  {
   "cell_type": "markdown",
   "metadata": {},
   "source": [
    "### Cyclic Import Example"
   ]
  },
  {
   "cell_type": "markdown",
   "metadata": {},
   "source": [
    "Suppose we have two modules, module1.py and module2.py, where each imports a function from the other:"
   ]
  },
  {
   "cell_type": "code",
   "execution_count": null,
   "metadata": {},
   "outputs": [],
   "source": [
    "# module1.py\n",
    "from module2 import foo\n",
    "\n",
    "def bar():\n",
    "    return \"bar\""
   ]
  },
  {
   "cell_type": "code",
   "execution_count": null,
   "metadata": {},
   "outputs": [],
   "source": [
    "# module2.py \n",
    "from module1 import bar\n",
    "\n",
    "def foo():\n",
    "    return \"foo\""
   ]
  },
  {
   "cell_type": "markdown",
   "metadata": {},
   "source": [
    "This creates a cyclic import since module1 imports from module2, and module2 imports from module1."
   ]
  },
  {
   "cell_type": "markdown",
   "metadata": {},
   "source": [
    "To fix cyclic imports, you can reorganize your code or refactor it to remove the circular dependency. Here are a couple of ways to fix the cyclic import:"
   ]
  },
  {
   "cell_type": "markdown",
   "metadata": {},
   "source": [
    "1. Move the common functionality into a third module:"
   ]
  },
  {
   "cell_type": "markdown",
   "metadata": {},
   "source": [
    "Create a new module, such as common.py, and move the common functionality there. Both module1 and module2 can then import from common.py.\n",
    "\n"
   ]
  },
  {
   "cell_type": "code",
   "execution_count": null,
   "metadata": {},
   "outputs": [],
   "source": [
    "# common.py\n",
    "def bar():\n",
    "    return \"bar\"\n",
    "\n",
    "def foo():\n",
    "    return \"foo\""
   ]
  },
  {
   "cell_type": "code",
   "execution_count": null,
   "metadata": {},
   "outputs": [],
   "source": [
    "# module1.py\n",
    "from common import foo\n",
    "\n",
    "def my_function():\n",
    "    result = foo()\n",
    "    return f\"my_function: {result}\""
   ]
  },
  {
   "cell_type": "code",
   "execution_count": null,
   "metadata": {},
   "outputs": [],
   "source": [
    "# module2.py\n",
    "from common import bar\n",
    "\n",
    "def another_function():\n",
    "    result = bar()\n",
    "    return f\"another_function: {result}\""
   ]
  },
  {
   "cell_type": "markdown",
   "metadata": {},
   "source": [
    "2. Delay import inside functions:\n",
    "\n",
    "You can also import the required module inside functions where the import is needed rather than at the module level."
   ]
  },
  {
   "cell_type": "code",
   "execution_count": null,
   "metadata": {},
   "outputs": [],
   "source": [
    "# module1.py \n",
    "def bar():\n",
    "    from module2 import foo\n",
    "    return \"bar\""
   ]
  },
  {
   "cell_type": "code",
   "execution_count": null,
   "metadata": {},
   "outputs": [],
   "source": [
    "# module2.py\n",
    "def foo():\n",
    "    from module1 import bar\n",
    "    return \"foo\""
   ]
  },
  {
   "cell_type": "markdown",
   "metadata": {},
   "source": [
    "**Best Practices to Avoid Cyclic Imports:**\n",
    "\n",
    "1. *Keep Modules Focused and Cohesive:*\n",
    "\n",
    "Avoid creating modules that have circular dependencies. Organize your code into modules that have clear responsibilities and are independent as much as possible.\n",
    "\n",
    "2. *Minimize Dependencies:*\n",
    "\n",
    "Reduce the number of interdependent modules. Aim for a more modular design to avoid complex dependencies.\n",
    "\n",
    "3. *Use Delayed Imports Sparingly:*\n",
    "\n",
    "While delaying imports can help avoid immediate circular dependencies, it can also lead to less readable code. Use this approach sparingly and only when necessary.\n",
    "\n",
    "4. *Refactor if Necessary:*\n",
    "\n",
    "If you encounter cyclic import issues, consider refactoring your code to break the circular dependency. Create separate modules for shared functionality or rethink the organization of your code.\n",
    "\n",
    "5. *Use Absolute Imports for Clarity:*\n",
    "\n",
    "When importing modules, use absolute imports (e.g., import module) rather than relative imports (e.g., from . import module) to make your import statements more explicit and reduce the likelihood of cyclic imports."
   ]
  },
  {
   "cell_type": "markdown",
   "metadata": {},
   "source": [
    "<a id=\"14\"></a>\n",
    "## Additional: Module Execution on Loading and Reload module"
   ]
  },
  {
   "cell_type": "markdown",
   "metadata": {},
   "source": [
    "### Module Execution on Loading"
   ]
  },
  {
   "cell_type": "markdown",
   "metadata": {},
   "source": [
    "When a module is imported, its code is executed from top to bottom. This includes defining functions, classes, and variables, as well as executing any other statements present in the module. This initialization process happens only the first time a module is imported."
   ]
  },
  {
   "cell_type": "markdown",
   "metadata": {},
   "source": [
    "### Reload module"
   ]
  },
  {
   "cell_type": "markdown",
   "metadata": {},
   "source": [
    "To reload a module in Python, you can use the importlib module's reload function. Here's an example:"
   ]
  },
  {
   "cell_type": "code",
   "execution_count": null,
   "metadata": {},
   "outputs": [],
   "source": [
    "import importlib\n",
    "import mymodule\n",
    "\n",
    "# Do something with mymodule...\n",
    "\n",
    "importlib.reload(mymodule)"
   ]
  },
  {
   "cell_type": "markdown",
   "metadata": {},
   "source": [
    "This code first imports the `mymodule` module, performs some operations using it, and then reloads the module using `importlib.reload` if necessary."
   ]
  }
 ],
 "metadata": {
  "kernelspec": {
   "display_name": "Python 3.10.4 64-bit",
   "language": "python",
   "name": "python3"
  },
  "language_info": {
   "codemirror_mode": {
    "name": "ipython",
    "version": 3
   },
   "file_extension": ".py",
   "mimetype": "text/x-python",
   "name": "python",
   "nbconvert_exporter": "python",
   "pygments_lexer": "ipython3",
   "version": "3.10.4"
  },
  "orig_nbformat": 4,
  "vscode": {
   "interpreter": {
    "hash": "350ec87d84c6c58898f5c2e4bbb3396f5f55fe152cf4ea5d1a9ddc7ca48985be"
   }
  }
 },
 "nbformat": 4,
 "nbformat_minor": 2
}
