{
 "cells": [
  {
   "cell_type": "code",
   "execution_count": null,
   "metadata": {},
   "outputs": [],
   "source": [
    "class A():\n",
    "    pass\n",
    "\n",
    "class B(A):\n",
    "    pass\n",
    "\n",
    "class C(B):\n",
    "    pass\n",
    "\n",
    "\n",
    "class D(A):\n",
    "    pass\n",
    "\n",
    "\n",
    "\n",
    "class F(D):\n",
    "    pass\n",
    "\n",
    "\n",
    "class QWE(C, F):\n",
    "    pass\n",
    "\n",
    "\n",
    "if __name__ == '__main__':\n",
    "    qwe = QWE()\n",
    "    print(QWE.mro())\n",
    "    print(dir(QWE))\n",
    "\n",
    "# A -> B -> C -> E -> QWE\n",
    "# A -> D -> F -> QWE\n",
    "\n",
    "# = QWE, E, C, F, D, B, A\n",
    "\n",
    "# A -> B -> C -> QWE\n",
    "# A -> D -> F -> QWE\n",
    "# = QWE, C, B, F, D, A\n"
   ]
  }
 ],
 "metadata": {
  "language_info": {
   "name": "python"
  }
 },
 "nbformat": 4,
 "nbformat_minor": 2
}
