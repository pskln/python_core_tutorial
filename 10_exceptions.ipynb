{
 "cells": [
  {
   "cell_type": "markdown",
   "metadata": {},
   "source": [
    "<a id=\"1\"></a>\n",
    "# Exceptions"
   ]
  },
  {
   "cell_type": "markdown",
   "metadata": {},
   "source": [
    "**C O N T E N T S**\n",
    "- [Exceptions](#1)\n",
    "    - [Purpose](#11)\n",
    "    - [Block instructions](#12)\n",
    "    - [Re-raising / exception chaining](#13)\n",
    "    - [Custom exceptions](#14)\n",
    "    - [Exceptions hierarchy](#15)\n",
    "    - [Some live examples](#16)\n",
    "    - [Test yourself](#17)"
   ]
  },
  {
   "cell_type": "markdown",
   "metadata": {},
   "source": [
    "<a id=\"11\"></a>\n",
    "## Purpose"
   ]
  },
  {
   "cell_type": "markdown",
   "metadata": {},
   "source": [
    "Exceptions in Python are a powerful mechanism for handling errors and exceptional conditions that may occur during the execution of a program. They allow you to gracefully handle unexpected situations and provide a way to control program flow when something goes wrong."
   ]
  },
  {
   "cell_type": "markdown",
   "metadata": {},
   "source": [
    "The purpose of exceptions is to separate the normal flow of a program from exceptional conditions. Instead of having to check for errors at every step, you can enclose the code that might raise an exception in a try-except block. If an exception occurs within the try block, the corresponding except block is executed, allowing you to handle the exception appropriately."
   ]
  },
  {
   "cell_type": "markdown",
   "metadata": {},
   "source": [
    "<a id=\"12\"></a>\n",
    "## Block instructions"
   ]
  },
  {
   "cell_type": "code",
   "execution_count": 2,
   "metadata": {},
   "outputs": [
    {
     "ename": "IndentationError",
     "evalue": "expected an indented block after 'try' statement on line 1 (3441774682.py, line 3)",
     "output_type": "error",
     "traceback": [
      "\u001b[1;36m  Cell \u001b[1;32mIn[2], line 3\u001b[1;36m\u001b[0m\n\u001b[1;33m    except ExceptionType1:\u001b[0m\n\u001b[1;37m    ^\u001b[0m\n\u001b[1;31mIndentationError\u001b[0m\u001b[1;31m:\u001b[0m expected an indented block after 'try' statement on line 1\n"
     ]
    }
   ],
   "source": [
    "try:\n",
    "    # Code that might raise an exception\n",
    "except ExceptionType1:\n",
    "    # Handle the ExceptionType1\n",
    "except ExceptionType2:\n",
    "    # Handle the ExceptionType2\n",
    "else:\n",
    "    # Execute if no exception occurred in the try block\n",
    "finally:\n",
    "    # Always executed regardless of whether an exception occurred or not"
   ]
  },
  {
   "cell_type": "markdown",
   "metadata": {},
   "source": [
    "When an exception occurs in the try block, the code execution immediately jumps to the corresponding except block. You can have multiple except blocks to handle different types of exceptions. If no exception occurs, the code in the else block is executed. The finally block is always executed, whether an exception occurred or not."
   ]
  },
  {
   "cell_type": "markdown",
   "metadata": {},
   "source": [
    "### Rules of exception mechanism "
   ]
  },
  {
   "cell_type": "markdown",
   "metadata": {},
   "source": [
    "1. An exception is raised using the `raise` statement.\n",
    "2. An exception can be caught using the `try` and `except` statements.\n",
    "3. The `try` block is used to enclose the code that might raise an exception.\n",
    "4. The `except` block is used to catch and handle the raised exception.\n",
    "5. Multiple `except` blocks can be used to handle different types of exceptions.\n",
    "6. An `else` block can be used after the `except` block(s) to specify code that should be executed if no exceptions occur.\n",
    "7. A `finally` block can be used after the `try` and `except` blocks to specify code that should be executed regardless of whether an exception occurred or not."
   ]
  },
  {
   "cell_type": "markdown",
   "metadata": {},
   "source": [
    "<a id=\"13\"></a>\n",
    "## Re-raising / Exception Chaining"
   ]
  },
  {
   "cell_type": "markdown",
   "metadata": {},
   "source": [
    "Sometimes, you may want to catch an exception, perform some additional actions, and then re-raise the same exception to be handled at a higher level or propagate it further up the call stack. This is called exception chaining or re-raising an exception. You can use the raise statement without an argument to re-raise the last exception that was caught."
   ]
  },
  {
   "cell_type": "code",
   "execution_count": 3,
   "metadata": {},
   "outputs": [
    {
     "ename": "IndentationError",
     "evalue": "expected an indented block after 'try' statement on line 1 (905941427.py, line 3)",
     "output_type": "error",
     "traceback": [
      "\u001b[1;36m  Cell \u001b[1;32mIn[3], line 3\u001b[1;36m\u001b[0m\n\u001b[1;33m    except ExceptionType as e:\u001b[0m\n\u001b[1;37m    ^\u001b[0m\n\u001b[1;31mIndentationError\u001b[0m\u001b[1;31m:\u001b[0m expected an indented block after 'try' statement on line 1\n"
     ]
    }
   ],
   "source": [
    "try:\n",
    "    # Code that might raise an exception\n",
    "except ExceptionType as e:\n",
    "    # Additional actions\n",
    "    raise"
   ]
  },
  {
   "cell_type": "markdown",
   "metadata": {},
   "source": [
    "<a id=\"14\"></a>\n",
    "## Custom Exceptions"
   ]
  },
  {
   "cell_type": "markdown",
   "metadata": {},
   "source": [
    "In addition to the built-in exceptions provided by Python, you can define your own custom exceptions to handle specific error conditions in your code. Custom exceptions are typically defined as classes that inherit from the built-in Exception class or one of its subclasses."
   ]
  },
  {
   "cell_type": "code",
   "execution_count": null,
   "metadata": {},
   "outputs": [
    {
     "ename": "CustomException",
     "evalue": "This is a custom exception.",
     "output_type": "error",
     "traceback": [
      "\u001b[1;31m---------------------------------------------------------------------------\u001b[0m",
      "\u001b[1;31mCustomException\u001b[0m                           Traceback (most recent call last)",
      "Cell \u001b[1;32mIn[4], line 5\u001b[0m\n\u001b[0;32m      2\u001b[0m     \u001b[39mpass\u001b[39;00m\n\u001b[0;32m      4\u001b[0m \u001b[39m# Raise custom exception\u001b[39;00m\n\u001b[1;32m----> 5\u001b[0m \u001b[39mraise\u001b[39;00m CustomException(\u001b[39m\"\u001b[39m\u001b[39mThis is a custom exception.\u001b[39m\u001b[39m\"\u001b[39m)\n",
      "\u001b[1;31mCustomException\u001b[0m: This is a custom exception."
     ]
    }
   ],
   "source": [
    "class CustomException(Exception):\n",
    "    pass\n",
    "\n",
    "# Raise custom exception\n",
    "raise CustomException(\"This is a custom exception.\")"
   ]
  },
  {
   "cell_type": "markdown",
   "metadata": {},
   "source": [
    "<a id=\"16\"></a>\n",
    "## Some live examples"
   ]
  },
  {
   "cell_type": "code",
   "execution_count": null,
   "metadata": {},
   "outputs": [],
   "source": [
    "# Handling Specific Exceptions\n",
    "try:\n",
    "    num1 = int(input(\"Enter a number: \"))\n",
    "    num2 = int(input(\"Enter another number: \"))\n",
    "    result = num1 / num2\n",
    "    print(\"Result:\", result)\n",
    "except ValueError:\n",
    "    print(\"Invalid input. Please enter a valid number.\")\n",
    "except ZeroDivisionError:\n",
    "    print(\"Cannot divide by zero.\")"
   ]
  },
  {
   "cell_type": "code",
   "execution_count": null,
   "metadata": {},
   "outputs": [],
   "source": [
    "# Handling Multiple Exceptions\n",
    "try:\n",
    "    try:\n",
    "        file = open(\"myfile.txt\", \"r\")\n",
    "    except FileNotFoundError:\n",
    "        print(\"File not found.\")\n",
    "\n",
    "    try:\n",
    "        content = file.read()\n",
    "    except IOError:\n",
    "        print(\"Error reading the file.\")\n",
    "    print(\"File content:\", content)\n",
    "finally: \n",
    "    file.close()\n",
    "    \n",
    "# TO-DO Bad exception, change on more useful"
   ]
  },
  {
   "cell_type": "code",
   "execution_count": 6,
   "metadata": {},
   "outputs": [
    {
     "name": "stdout",
     "output_type": "stream",
     "text": [
      "Invalid input. Number must be positive.\n",
      "You entered: -2\n"
     ]
    }
   ],
   "source": [
    "# Using the else Block\n",
    "try:\n",
    "    num = int(input(\"Enter a positive number: \"))\n",
    "    if num <= 0:\n",
    "        raise ValueError(\"Invalid input. Number must be positive.\")\n",
    "except ValueError as ve:\n",
    "    print(ve)\n",
    "else:\n",
    "    print(\"You entered:\", num)"
   ]
  },
  {
   "cell_type": "code",
   "execution_count": 12,
   "metadata": {},
   "outputs": [],
   "source": [
    "# Exception Chaining\n",
    "try:\n",
    "    file = open(\"test.py\", \"r\")\n",
    "    content = file.read()\n",
    "    file.close()\n",
    "    if len(content) == 0:\n",
    "        raise Exception(\"Empty file.\")\n",
    "except FileNotFoundError:\n",
    "    print(\"File not found.\")\n",
    "except Exception as e:\n",
    "    print(\"An error occurred:\", e)\n",
    "    raise\n",
    "\n",
    "# TO-DO Change example re-raise on live example\n",
    "# func(func2)"
   ]
  },
  {
   "cell_type": "code",
   "execution_count": null,
   "metadata": {},
   "outputs": [],
   "source": [
    "# Creating Custom Exceptions\n",
    "\n",
    "class InsufficientFundsError(Exception):\n",
    "    pass\n",
    "\n",
    "class BankAccount:\n",
    "    def __init__(self, balance):\n",
    "        self.balance = balance\n",
    "\n",
    "    def withdraw(self, amount):\n",
    "        if amount > self.balance:\n",
    "            raise InsufficientFundsError(\"Insufficient funds.\")\n",
    "        self.balance -= amount\n",
    "\n",
    "# Usage\n",
    "account = BankAccount(100)\n",
    "try:\n",
    "    account.withdraw(150)\n",
    "except InsufficientFundsError as e:\n",
    "    print(e)"
   ]
  },
  {
   "cell_type": "markdown",
   "metadata": {},
   "source": [
    "<a id=\"17\"></a>\n",
    "## Test yourself"
   ]
  },
  {
   "cell_type": "markdown",
   "metadata": {},
   "source": [
    "> Question: What's will be printed here?"
   ]
  },
  {
   "cell_type": "code",
   "execution_count": 13,
   "metadata": {},
   "outputs": [
    {
     "name": "stdout",
     "output_type": "stream",
     "text": [
      "Result: 5.0\n",
      "Error: Division by zero.\n",
      "Finally block executed.\n"
     ]
    }
   ],
   "source": [
    "def process_data(data):\n",
    "    try:\n",
    "        for item in data:\n",
    "            result = 10 / item\n",
    "            print(\"Result:\", result)\n",
    "    except ZeroDivisionError:\n",
    "        print(\"Error: Division by zero.\")\n",
    "    finally:\n",
    "        print(\"Finally block executed.\")\n",
    "\n",
    "data = [2, 0, 4, '6', 8]\n",
    "\n",
    "try:\n",
    "    process_data(data)\n",
    "except TypeError:\n",
    "    print(\"Caught TypeError: Invalid data type.\")"
   ]
  },
  {
   "cell_type": "code",
   "execution_count": 14,
   "metadata": {},
   "outputs": [
    {
     "name": "stdout",
     "output_type": "stream",
     "text": [
      "Result: 5.0\n",
      "Finally block executed.\n",
      "Caught TypeError: Invalid data type.\n"
     ]
    }
   ],
   "source": [
    "def process_data(data):\n",
    "    try:\n",
    "        for item in data:\n",
    "            result = 10 / item\n",
    "            print(\"Result:\", result)\n",
    "    except ZeroDivisionError:\n",
    "        print(\"Error: Division by zero.\")\n",
    "    finally:\n",
    "        print(\"Finally block executed.\")\n",
    "\n",
    "data = [2, '0', 4, 0, 8]\n",
    "\n",
    "try:\n",
    "    process_data(data)\n",
    "except TypeError:\n",
    "    print(\"Caught TypeError: Invalid data type.\")"
   ]
  },
  {
   "cell_type": "markdown",
   "metadata": {},
   "source": [
    "# TO-DO"
   ]
  },
  {
   "cell_type": "markdown",
   "metadata": {},
   "source": [
    "1. \n",
    "- Exception hierarchy / Inherited exceptions\n",
    "\n",
    "2. \n",
    "- More useful examples of re-raising\n",
    "- Exception chaining\n",
    "\n",
    "3. \n",
    "- Raise from cause / context \n",
    "- https://stackoverflow.com/questions/24752395/python-raise-from-usage\n",
    "- Output from print\n",
    "\n",
    "4. \n",
    "- Exception internally check\n",
    "- def __exit__(self, exception_type, exception_value, traceback):\n"
   ]
  },
  {
   "cell_type": "markdown",
   "metadata": {},
   "source": [
    "<a id=\"16\"></a>\n",
    "## Exception hierarchy"
   ]
  },
  {
   "cell_type": "markdown",
   "metadata": {},
   "source": [
    "### Built-in exceptions hierarchy"
   ]
  },
  {
   "cell_type": "markdown",
   "metadata": {},
   "source": [
    "BaseException (Base class for all built-in exceptions)\n",
    "- SystemExit\n",
    "- KeyboardInterrupt\n",
    "- GeneratorExit\n",
    "- Exception (Base class for all non-system-exit exceptions)\n",
    "    - StopIteration\n",
    "    - StopAsyncIteration\n",
    "    - ArithmeticError (Base class for all arithmetic errors)\n",
    "        - FloatingPointError\n",
    "        - OverflowError\n",
    "        - ZeroDivisionError\n",
    "    - AssertionError\n",
    "    - AttributeError\n",
    "    - BufferError\n",
    "    - EOFError\n",
    "    - ImportError\n",
    "    - LookupError (Base class for all lookup errors)\n",
    "        - IndexError\n",
    "        - KeyError\n",
    "    - MemoryError\n",
    "    - NameError\n",
    "    - OSError (Base class for all OS-related errors)\n",
    "        - FileNotFoundError\n",
    "        - PermissionError\n",
    "        - TimeoutError\n",
    "    - ReferenceError\n",
    "    - RuntimeError\n",
    "        - NotImplementedError\n",
    "        - RecursionError\n",
    "    - SyntaxError\n",
    "    - IndentationError\n",
    "        - TabError\n",
    "    - SystemError\n",
    "    - TypeError\n",
    "    - ValueError\n",
    "    - UnicodeError\n",
    "        - UnicodeDecodeError\n",
    "        - UnicodeEncodeError\n",
    "        - UnicodeTranslateError\n",
    "    - Warning (Base class for all warnings)\n",
    "        - DeprecationWarning\n",
    "        - PendingDeprecationWarning\n",
    "        - RuntimeWarning\n",
    "        - SyntaxWarning\n",
    "        - UserWarning\n",
    "        - FutureWarning\n",
    "        - ImportWarning\n",
    "        - UnicodeWarning\n",
    "        - BytesWarning\n",
    "        - ResourceWarning"
   ]
  },
  {
   "cell_type": "markdown",
   "metadata": {},
   "source": [
    "### Custom Exceptions Hierarchy"
   ]
  },
  {
   "cell_type": "markdown",
   "metadata": {},
   "source": [
    "You can create custom exception classes in Python by subclassing from the Exception class or its subclasses. For example:"
   ]
  },
  {
   "cell_type": "code",
   "execution_count": null,
   "metadata": {},
   "outputs": [],
   "source": [
    "class CustomError(Exception):\n",
    "    pass\n",
    "\n",
    "class SpecificError(CustomError):\n",
    "    pass"
   ]
  },
  {
   "cell_type": "markdown",
   "metadata": {},
   "source": [
    "In this example, CustomError is a custom exception class that directly inherits from Exception. SpecificError is a more specific exception class that inherits from CustomError. This allows you to handle different types of exceptions separately based on their hierarchy."
   ]
  },
  {
   "cell_type": "markdown",
   "metadata": {},
   "source": [
    "> It's can be used for orchestrate custom exceptions and create custom hierarchy in the project."
   ]
  }
 ],
 "metadata": {
  "kernelspec": {
   "display_name": "Python 3.10.4 64-bit",
   "language": "python",
   "name": "python3"
  },
  "language_info": {
   "codemirror_mode": {
    "name": "ipython",
    "version": 3
   },
   "file_extension": ".py",
   "mimetype": "text/x-python",
   "name": "python",
   "nbconvert_exporter": "python",
   "pygments_lexer": "ipython3",
   "version": "3.10.4"
  },
  "orig_nbformat": 4,
  "vscode": {
   "interpreter": {
    "hash": "350ec87d84c6c58898f5c2e4bbb3396f5f55fe152cf4ea5d1a9ddc7ca48985be"
   }
  }
 },
 "nbformat": 4,
 "nbformat_minor": 2
}
