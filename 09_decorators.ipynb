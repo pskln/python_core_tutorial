{
 "cells": [
  {
   "cell_type": "markdown",
   "metadata": {
    "collapsed": true,
    "pycharm": {
     "name": "#%% md\n"
    }
   },
   "source": [
    "### What is decorator?\n",
    "\n",
    "It's just syntax sugar!"
   ]
  },
  {
   "cell_type": "code",
   "execution_count": 1,
   "metadata": {
    "pycharm": {
     "name": "#%%\n"
    }
   },
   "outputs": [],
   "source": [
    "from functools import lru_cache\n",
    "\n",
    "@lru_cache\n",
    "def my_sum(a, b):\n",
    "    return a + b"
   ]
  },
  {
   "cell_type": "markdown",
   "metadata": {
    "pycharm": {
     "name": "#%% md\n"
    }
   },
   "source": [
    "Same as this"
   ]
  },
  {
   "cell_type": "code",
   "execution_count": 2,
   "metadata": {
    "pycharm": {
     "name": "#%%\n"
    }
   },
   "outputs": [],
   "source": [
    "from functools import lru_cache\n",
    "\n",
    "def my_sum(a, b):\n",
    "    return a + b\n",
    "my_sum = lru_cache(my_sum)"
   ]
  },
  {
   "cell_type": "markdown",
   "metadata": {
    "pycharm": {
     "name": "#%% md\n"
    }
   },
   "source": [
    "### Two decorators?\n",
    "\n",
    "Here's example from flask app"
   ]
  },
  {
   "cell_type": "code",
   "execution_count": 3,
   "metadata": {
    "pycharm": {
     "name": "#%%\n"
    }
   },
   "outputs": [
    {
     "ename": "NameError",
     "evalue": "name 'app' is not defined",
     "output_type": "error",
     "traceback": [
      "\u001b[0;31m---------------------------------------------------------------------------\u001b[0m",
      "\u001b[0;31mNameError\u001b[0m                                 Traceback (most recent call last)",
      "\u001b[0;32m<ipython-input-3-257fd3922ce8>\u001b[0m in \u001b[0;36m<module>\u001b[0;34m\u001b[0m\n\u001b[0;32m----> 1\u001b[0;31m \u001b[0;34m@\u001b[0m\u001b[0mapp\u001b[0m\u001b[0;34m.\u001b[0m\u001b[0mroute\u001b[0m\u001b[0;34m(\u001b[0m\u001b[0;34m\"/api/ping\"\u001b[0m\u001b[0;34m,\u001b[0m \u001b[0mmethods\u001b[0m\u001b[0;34m=\u001b[0m\u001b[0;34m[\u001b[0m\u001b[0;34m\"POST\"\u001b[0m\u001b[0;34m]\u001b[0m\u001b[0;34m)\u001b[0m\u001b[0;34m\u001b[0m\u001b[0;34m\u001b[0m\u001b[0m\n\u001b[0m\u001b[1;32m      2\u001b[0m \u001b[0;34m@\u001b[0m\u001b[0mjwt_required\u001b[0m\u001b[0;34m\u001b[0m\u001b[0;34m\u001b[0m\u001b[0m\n\u001b[1;32m      3\u001b[0m \u001b[0;32mdef\u001b[0m \u001b[0mping\u001b[0m\u001b[0;34m(\u001b[0m\u001b[0;34m)\u001b[0m\u001b[0;34m:\u001b[0m\u001b[0;34m\u001b[0m\u001b[0;34m\u001b[0m\u001b[0m\n\u001b[1;32m      4\u001b[0m     \u001b[0;32mreturn\u001b[0m \u001b[0;34m\"pong\"\u001b[0m\u001b[0;34m,\u001b[0m \u001b[0;36m200\u001b[0m\u001b[0;34m\u001b[0m\u001b[0;34m\u001b[0m\u001b[0m\n\u001b[1;32m      5\u001b[0m \u001b[0;34m\u001b[0m\u001b[0m\n",
      "\u001b[0;31mNameError\u001b[0m: name 'app' is not defined"
     ]
    }
   ],
   "source": [
    "@app.route(\"/api/ping\", methods=[\"POST\"])\n",
    "@jwt_required\n",
    "def ping():\n",
    "    return \"pong\", 200"
   ]
  },
  {
   "cell_type": "markdown",
   "metadata": {
    "pycharm": {
     "name": "#%% md\n"
    }
   },
   "source": [
    "Is the same as"
   ]
  },
  {
   "cell_type": "code",
   "execution_count": null,
   "metadata": {
    "pycharm": {
     "name": "#%%\n"
    }
   },
   "outputs": [],
   "source": [
    "def ping():\n",
    "    return \"pong\", 200\n",
    "ping = jwt_required(ping)\n",
    "ping = app.route(\"/api/ping\", methods=[\"POST\"])(ping)"
   ]
  },
  {
   "cell_type": "markdown",
   "metadata": {
    "pycharm": {
     "name": "#%% md\n"
    }
   },
   "source": [
    "That's it. Done.\n",
    "### Implementing own decorator\n",
    "\n",
    "Well, decorator is something callable, that returns new object that\n",
    "will be assigned to the same variable name as original function.\n",
    "\n",
    "Here is fun but useless decorator:"
   ]
  },
  {
   "cell_type": "code",
   "execution_count": 4,
   "metadata": {
    "pycharm": {
     "name": "#%%\n"
    }
   },
   "outputs": [
    {
     "name": "stdout",
     "output_type": "stream",
     "text": [
      "It's just a string now. Ha-ha.\n"
     ]
    },
    {
     "ename": "TypeError",
     "evalue": "'str' object is not callable",
     "output_type": "error",
     "traceback": [
      "\u001b[0;31m---------------------------------------------------------------------------\u001b[0m",
      "\u001b[0;31mTypeError\u001b[0m                                 Traceback (most recent call last)",
      "\u001b[0;32m<ipython-input-4-4b9d8798985b>\u001b[0m in \u001b[0;36m<module>\u001b[0;34m\u001b[0m\n\u001b[1;32m      9\u001b[0m \u001b[0mprint\u001b[0m\u001b[0;34m(\u001b[0m\u001b[0msum\u001b[0m\u001b[0;34m)\u001b[0m\u001b[0;34m\u001b[0m\u001b[0;34m\u001b[0m\u001b[0m\n\u001b[1;32m     10\u001b[0m \u001b[0;34m\u001b[0m\u001b[0m\n\u001b[0;32m---> 11\u001b[0;31m \u001b[0msum\u001b[0m\u001b[0;34m(\u001b[0m\u001b[0;36m1\u001b[0m\u001b[0;34m,\u001b[0m \u001b[0;36m3\u001b[0m\u001b[0;34m)\u001b[0m\u001b[0;34m\u001b[0m\u001b[0;34m\u001b[0m\u001b[0m\n\u001b[0m",
      "\u001b[0;31mTypeError\u001b[0m: 'str' object is not callable"
     ]
    }
   ],
   "source": [
    "def my_decorator(original_function):\n",
    "    return \"It's just a string now. Ha-ha.\"\n",
    "\n",
    "\n",
    "@my_decorator\n",
    "def sum(a, b):\n",
    "    return a + b\n",
    "\n",
    "print(sum)\n",
    "\n",
    "sum(1, 3)"
   ]
  },
  {
   "cell_type": "markdown",
   "metadata": {
    "pycharm": {
     "name": "#%% md\n"
    }
   },
   "source": [
    "So to implement some useful decorator you can return some function.\n",
    "\n",
    "In this case we'll return original functions"
   ]
  },
  {
   "cell_type": "code",
   "execution_count": 5,
   "metadata": {
    "pycharm": {
     "name": "#%%\n"
    }
   },
   "outputs": [
    {
     "name": "stdout",
     "output_type": "stream",
     "text": [
      "sum(1, 2)=3\n",
      "sub(5, 3)=2\n",
      "registered_functions=[<function sum at 0x11533dee0>, <function sub at 0x11533df70>]\n"
     ]
    }
   ],
   "source": [
    "registered_functions = []\n",
    "\n",
    "def func_keeper(original_function):\n",
    "    registered_functions.append(original_function)\n",
    "    return original_function\n",
    "\n",
    "@func_keeper\n",
    "def sum(a, b):\n",
    "    return a + b\n",
    "\n",
    "@func_keeper\n",
    "def sub(a, b):\n",
    "    return a - b\n",
    "\n",
    "print(f'{sum(1, 2)=}')\n",
    "print(f'{sub(5, 3)=}')\n",
    "\n",
    "print(f'{registered_functions=}')\n"
   ]
  },
  {
   "cell_type": "markdown",
   "metadata": {
    "pycharm": {
     "name": "#%% md\n"
    }
   },
   "source": [
    "But now let's modify function behavior, for this we must return new function"
   ]
  },
  {
   "cell_type": "code",
   "execution_count": 6,
   "metadata": {
    "pycharm": {
     "name": "#%%\n"
    }
   },
   "outputs": [
    {
     "name": "stdout",
     "output_type": "stream",
     "text": [
      "sum(1, 2)=9\n",
      "sum(3, 3)=36\n"
     ]
    }
   ],
   "source": [
    "def square_all_output(original_function):\n",
    "    def wrapper(*args, **kwargs):\n",
    "        result = original_function(*args, **kwargs)\n",
    "        return result ** 2\n",
    "    return wrapper # we return new function\n",
    "\n",
    "\n",
    "@square_all_output\n",
    "def sum(a, b):\n",
    "    \"\"\"Sum two numbers\"\"\"\n",
    "    return a + b\n",
    "\n",
    "print(f'{sum(1, 2)=}')\n",
    "print(f'{sum(3, 3)=}')\n"
   ]
  },
  {
   "cell_type": "code",
   "execution_count": 7,
   "metadata": {
    "pycharm": {
     "name": "#%%\n"
    }
   },
   "outputs": [
    {
     "name": "stdout",
     "output_type": "stream",
     "text": [
      "wrapper\n",
      "None\n"
     ]
    }
   ],
   "source": [
    "# Check the function name!\n",
    "print(sum.__name__)\n",
    "print(sum.__doc__)"
   ]
  },
  {
   "cell_type": "markdown",
   "metadata": {
    "pycharm": {
     "name": "#%% md\n"
    }
   },
   "source": [
    "It's not our \"original_function\" it's another one that uses original.\n",
    "\n",
    "But it's kinda ugly, we would want to new function to have same name and docstring.\n",
    "\n",
    "We just need to use another decorator :)"
   ]
  },
  {
   "cell_type": "code",
   "execution_count": 8,
   "metadata": {
    "pycharm": {
     "name": "#%%\n"
    }
   },
   "outputs": [
    {
     "name": "stdout",
     "output_type": "stream",
     "text": [
      "sum\n",
      "Sum two numbers\n"
     ]
    }
   ],
   "source": [
    "from functools import wraps\n",
    "\n",
    "def square_all_output(original_function):\n",
    "    @wraps(original_function)  # it will copy name and docstring to wrapper\n",
    "    def wrapper(*args, **kwargs):\n",
    "        result = original_function(*args, **kwargs)\n",
    "        return result ** 2\n",
    "    return wrapper # we return new function\n",
    "\n",
    "\n",
    "@square_all_output\n",
    "def sum(a, b):\n",
    "    \"\"\"Sum two numbers\"\"\"\n",
    "    return a + b\n",
    "\n",
    "print(sum.__name__)\n",
    "print(sum.__doc__)\n"
   ]
  },
  {
   "cell_type": "markdown",
   "metadata": {
    "pycharm": {
     "name": "#%% md\n"
    }
   },
   "source": [
    "### OK. More useful example"
   ]
  },
  {
   "cell_type": "code",
   "execution_count": 9,
   "metadata": {
    "pycharm": {
     "name": "#%%\n"
    }
   },
   "outputs": [
    {
     "name": "stdout",
     "output_type": "stream",
     "text": [
      "Function sum took 1.005s\n",
      "sum(1, 2)=3\n",
      "Function square took 0.503s\n",
      "square(0.5)=0.25\n"
     ]
    }
   ],
   "source": [
    "from functools import wraps\n",
    "import time\n",
    "\n",
    "def my_timer(func):\n",
    "    @wraps(func)\n",
    "    def wrapper(*args, **kwargs):\n",
    "        start_time = time.time()\n",
    "        result = func(*args, **kwargs)\n",
    "        elapsed = time.time() - start_time\n",
    "        print(f'Function {func.__name__} took {elapsed:.3f}s')\n",
    "        return result\n",
    "    return wrapper\n",
    "\n",
    "@my_timer\n",
    "def sum(a, b):\n",
    "    time.sleep(a)\n",
    "    return a + b\n",
    "\n",
    "@my_timer\n",
    "def square(a):\n",
    "    time.sleep(a)\n",
    "    return a ** 2\n",
    "\n",
    "print(f'{sum(1, 2)=}')\n",
    "print(f'{square(0.5)=}')"
   ]
  },
  {
   "cell_type": "markdown",
   "metadata": {
    "pycharm": {
     "name": "#%% md\n"
    }
   },
   "source": [
    "### Parametrized decorator\n",
    "\n",
    "It's just a function, that returns a decorator.\n",
    "\n",
    "And decorator is a function, that returns a function.\n",
    "\n",
    "So we need to implement function, in function, in function."
   ]
  },
  {
   "cell_type": "code",
   "execution_count": 10,
   "metadata": {
    "pycharm": {
     "name": "#%%\n"
    }
   },
   "outputs": [
    {
     "name": "stdout",
     "output_type": "stream",
     "text": [
      "sum_powered_on_three(1, 2)=27\n",
      "sum_powered_on_two(1, 2)=9\n"
     ]
    }
   ],
   "source": [
    "def power_all_output(power=2):\n",
    "    def decorator(original_function):\n",
    "        def wrapper(*args, **kwargs):\n",
    "            return original_function(*args, **kwargs) ** power\n",
    "        return wrapper\n",
    "    return decorator\n",
    "\n",
    "\n",
    "@power_all_output(3)\n",
    "def sum_powered_on_three(a, b):\n",
    "    return a + b\n",
    "\n",
    "print(f'{sum_powered_on_three(1, 2)=}')\n",
    "\n",
    "\n",
    "@power_all_output()  # we still need to call `power_all_output` to get decorator\n",
    "def sum_powered_on_two(a, b):\n",
    "    return a + b\n",
    "\n",
    "print(f'{sum_powered_on_two(1, 2)=}')\n"
   ]
  },
  {
   "cell_type": "code",
   "execution_count": null,
   "metadata": {},
   "outputs": [],
   "source": [
    "def sum_powered_on_three(a, b):\n",
    "    return a + b\n",
    "\n",
    "decorator = power_all_output(3)\n",
    "sum_powered_on_three = decorator(sum_powered_on_three)"
   ]
  },
  {
   "cell_type": "markdown",
   "metadata": {
    "pycharm": {
     "name": "#%% md\n"
    }
   },
   "source": [
    "Decorator is not a function, it's a callable object.\n",
    "\n",
    "### Implementing decorator as class"
   ]
  },
  {
   "cell_type": "code",
   "execution_count": 11,
   "metadata": {
    "pycharm": {
     "name": "#%%\n"
    }
   },
   "outputs": [
    {
     "name": "stdout",
     "output_type": "stream",
     "text": [
      "sum is called with a=1 b=2\n",
      "sum(1, 2)=3\n",
      "sum(1, 2)=3\n",
      "sum is called with a=2 b=2\n",
      "sum(2, 2)=4\n"
     ]
    }
   ],
   "source": [
    "class Cacher:\n",
    "    def __init__(self, original_function):\n",
    "        self.cache = {}\n",
    "        self.original_function = original_function\n",
    "\n",
    "    def __call__(self, *args):  # deleted **kwargs for simplicity\n",
    "        if args not in self.cache:\n",
    "            self.cache[args] = self.original_function(*args)\n",
    "\n",
    "        return self.cache[args]\n",
    "\n",
    "\n",
    "# a =    Cacher() # __init__\n",
    "# a()  # __call__\n",
    "@Cacher\n",
    "def sum(a, b):\n",
    "    print(f'sum is called with {a=} {b=}')\n",
    "    return a + b\n",
    "\n",
    "\n",
    "print(f'{sum(1, 2)=}')\n",
    "print(f'{sum(1, 2)=}')  # will be taken from cache\n",
    "print(f'{sum(2, 2)=}')"
   ]
  },
  {
   "cell_type": "markdown",
   "metadata": {
    "pycharm": {
     "name": "#%% md\n"
    }
   },
   "source": [
    "Note: For caching, no need to invent bicycle, just use `@functools.lru_cache`\n",
    "\n",
    "In the case above constructor of the class is a decorator, and class itself is used later."
   ]
  },
  {
   "cell_type": "markdown",
   "metadata": {
    "pycharm": {
     "name": "#%% md\n"
    }
   },
   "source": [
    "### Let's create Flask-app-like router"
   ]
  },
  {
   "cell_type": "code",
   "execution_count": 17,
   "metadata": {
    "pycharm": {
     "name": "#%%\n"
    }
   },
   "outputs": [
    {
     "name": "stdout",
     "output_type": "stream",
     "text": [
      "{'/api/sum': <function sum at 0x115363ca0>, '/api/sub': <function sub at 0x115363b80>}\n",
      "router.execute('/api/sum', 2, 3)=5\n",
      "router.execute('/api/sub', 3, 2)=1\n"
     ]
    }
   ],
   "source": [
    "class Router:\n",
    "    def __init__(self):\n",
    "        self.routes = {}\n",
    "\n",
    "    def register(self, path):\n",
    "        def decorator(original_function):\n",
    "            self.routes[path] = original_function\n",
    "            return original_function\n",
    "        return decorator\n",
    "\n",
    "    def execute(self, path, *args):\n",
    "        return self.routes[path](*args)\n",
    "\n",
    "router = Router()\n",
    "\n",
    "@router.register('/api/sum')\n",
    "def sum(a, b):\n",
    "    return a + b\n",
    "\n",
    "@router.register('/api/sub')\n",
    "def sub(a, b):\n",
    "    return a - b\n",
    "\n",
    "print(router.routes)\n",
    "\n",
    "print(f\"{router.execute('/api/sum', 2, 3)=}\")\n",
    "print(f\"{router.execute('/api/sub', 3, 2)=}\")\n"
   ]
  },
  {
   "cell_type": "markdown",
   "metadata": {
    "pycharm": {
     "name": "#%% md\n"
    }
   },
   "source": [
    "You can apply decorator on the class, methods, function.\n",
    "\n",
    "Here is some examples"
   ]
  },
  {
   "cell_type": "code",
   "execution_count": 18,
   "metadata": {
    "pycharm": {
     "name": "#%%\n"
    }
   },
   "outputs": [],
   "source": [
    "from dataclasses import dataclass\n",
    "from functools import lru_cache\n",
    "\n",
    "@dataclass\n",
    "class MyClass:\n",
    "\n",
    "    # you can't apply decorator here\n",
    "    attribute1 = 23\n",
    "\n",
    "    @lru_cache\n",
    "    def sum(self, a, b):\n",
    "        return a + b\n",
    "\n",
    "    @staticmethod\n",
    "    def sub(a, b):\n",
    "        return a - b\n",
    "\n",
    "    @lru_cache\n",
    "    def __call__(self, a, b):\n",
    "        return a ** b\n",
    "\n",
    "    @property\n",
    "    def attr1(self):\n",
    "        return self.attribute1\n"
   ]
  }
 ],
 "metadata": {
  "kernelspec": {
   "display_name": "Python 3",
   "language": "python",
   "name": "python3"
  },
  "language_info": {
   "codemirror_mode": {
    "name": "ipython",
    "version": 3
   },
   "file_extension": ".py",
   "mimetype": "text/x-python",
   "name": "python",
   "nbconvert_exporter": "python",
   "pygments_lexer": "ipython3",
   "version": "3.8.7"
  }
 },
 "nbformat": 4,
 "nbformat_minor": 1
}
