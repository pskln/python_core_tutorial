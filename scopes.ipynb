{
 "cells": [
  {
   "cell_type": "code",
   "execution_count": 3,
   "metadata": {
    "collapsed": true
   },
   "outputs": [],
   "source": [
    "def inspect(func):\n",
    "    print(func.__name__)\n",
    "    print('varnames', func.__code__.co_varnames)\n",
    "    print('freevars', func.__code__.co_freevars)\n",
    "    print('cellvars', func.__code__.co_cellvars)"
   ]
  },
  {
   "cell_type": "code",
   "execution_count": 11,
   "metadata": {
    "collapsed": false,
    "pycharm": {
     "name": "#%%\n"
    }
   },
   "outputs": [
    {
     "name": "stdout",
     "output_type": "stream",
     "text": [
      "myfunc1\n",
      "varnames ('a1',)\n",
      "freevars ()\n",
      "cellvars ()\n",
      "14\n"
     ]
    }
   ],
   "source": [
    "a1 = 13\n",
    "def myfunc1():\n",
    "    a1 = 14\n",
    "    print(a1)\n",
    "\n",
    "inspect(myfunc1)\n",
    "myfunc1()"
   ]
  },
  {
   "cell_type": "code",
   "execution_count": 12,
   "metadata": {
    "collapsed": false,
    "pycharm": {
     "name": "#%%\n"
    }
   },
   "outputs": [
    {
     "name": "stdout",
     "output_type": "stream",
     "text": [
      "myfunc2\n",
      "varnames ('b',)\n",
      "freevars ()\n",
      "cellvars ()\n",
      "27\n"
     ]
    }
   ],
   "source": [
    "a2 = 13\n",
    "def myfunc2():\n",
    "    b = 14 + a2\n",
    "    print(b)\n",
    "\n",
    "inspect(myfunc2)\n",
    "myfunc2()"
   ]
  },
  {
   "cell_type": "code",
   "execution_count": 4,
   "metadata": {
    "collapsed": false,
    "pycharm": {
     "name": "#%%\n"
    }
   },
   "outputs": [
    {
     "name": "stdout",
     "output_type": "stream",
     "text": [
      "myfunc3\n",
      "varnames ('a3', 'b')\n",
      "freevars ()\n",
      "cellvars ()\n"
     ]
    },
    {
     "ename": "UnboundLocalError",
     "evalue": "local variable 'a3' referenced before assignment",
     "output_type": "error",
     "traceback": [
      "\u001b[0;31m---------------------------------------------------------------------------\u001b[0m",
      "\u001b[0;31mUnboundLocalError\u001b[0m                         Traceback (most recent call last)",
      "\u001b[0;32m<ipython-input-4-ca57207d7079>\u001b[0m in \u001b[0;36m<module>\u001b[0;34m\u001b[0m\n\u001b[1;32m      6\u001b[0m \u001b[0;34m\u001b[0m\u001b[0m\n\u001b[1;32m      7\u001b[0m \u001b[0minspect\u001b[0m\u001b[0;34m(\u001b[0m\u001b[0mmyfunc3\u001b[0m\u001b[0;34m)\u001b[0m\u001b[0;34m\u001b[0m\u001b[0;34m\u001b[0m\u001b[0m\n\u001b[0;32m----> 8\u001b[0;31m \u001b[0mmyfunc3\u001b[0m\u001b[0;34m(\u001b[0m\u001b[0;34m)\u001b[0m\u001b[0;34m\u001b[0m\u001b[0;34m\u001b[0m\u001b[0m\n\u001b[0m\u001b[1;32m      9\u001b[0m \u001b[0;34m\u001b[0m\u001b[0m\n\u001b[1;32m     10\u001b[0m \u001b[0;34m\u001b[0m\u001b[0m\n",
      "\u001b[0;32m<ipython-input-4-ca57207d7079>\u001b[0m in \u001b[0;36mmyfunc3\u001b[0;34m()\u001b[0m\n\u001b[1;32m      1\u001b[0m \u001b[0ma3\u001b[0m \u001b[0;34m=\u001b[0m \u001b[0;36m13\u001b[0m\u001b[0;34m\u001b[0m\u001b[0;34m\u001b[0m\u001b[0m\n\u001b[1;32m      2\u001b[0m \u001b[0;32mdef\u001b[0m \u001b[0mmyfunc3\u001b[0m\u001b[0;34m(\u001b[0m\u001b[0;34m)\u001b[0m\u001b[0;34m:\u001b[0m\u001b[0;34m\u001b[0m\u001b[0;34m\u001b[0m\u001b[0m\n\u001b[0;32m----> 3\u001b[0;31m     \u001b[0mb\u001b[0m \u001b[0;34m=\u001b[0m \u001b[0;36m14\u001b[0m \u001b[0;34m+\u001b[0m \u001b[0ma3\u001b[0m\u001b[0;34m\u001b[0m\u001b[0;34m\u001b[0m\u001b[0m\n\u001b[0m\u001b[1;32m      4\u001b[0m     \u001b[0ma3\u001b[0m \u001b[0;34m=\u001b[0m \u001b[0;36m1\u001b[0m\u001b[0;34m\u001b[0m\u001b[0;34m\u001b[0m\u001b[0m\n\u001b[1;32m      5\u001b[0m     \u001b[0mprint\u001b[0m\u001b[0;34m(\u001b[0m\u001b[0ma3\u001b[0m\u001b[0;34m)\u001b[0m\u001b[0;34m\u001b[0m\u001b[0;34m\u001b[0m\u001b[0m\n",
      "\u001b[0;31mUnboundLocalError\u001b[0m: local variable 'a3' referenced before assignment"
     ]
    }
   ],
   "source": [
    "a3 = 13\n",
    "def myfunc3():\n",
    "    b = 14 + a3\n",
    "\n",
    "    a3 = 1\n",
    "    print(a3)\n",
    "\n",
    "inspect(myfunc3)\n",
    "myfunc3()\n"
   ]
  },
  {
   "cell_type": "code",
   "execution_count": 8,
   "metadata": {
    "collapsed": false,
    "pycharm": {
     "name": "#%%\n"
    }
   },
   "outputs": [
    {
     "name": "stdout",
     "output_type": "stream",
     "text": [
      "myfunc1\n",
      "varnames ('arg1', 'a', 'myfunc2')\n",
      "freevars ()\n",
      "cellvars ()\n",
      "myfunc2\n",
      "varnames ('arg2', 'a')\n",
      "freevars ()\n",
      "cellvars ()\n"
     ]
    }
   ],
   "source": [
    "\n",
    "a = 13\n",
    "\n",
    "def myfunc1(arg1):\n",
    "    a = 15\n",
    "    def myfunc2(arg2):\n",
    "        a = 16\n",
    "\n",
    "    inspect(myfunc2)\n",
    "    myfunc2(2)\n",
    "\n",
    "inspect(myfunc1)\n",
    "myfunc1(1)\n"
   ]
  },
  {
   "cell_type": "code",
   "execution_count": 10,
   "metadata": {
    "collapsed": false,
    "pycharm": {
     "name": "#%%\n"
    }
   },
   "outputs": [
    {
     "name": "stdout",
     "output_type": "stream",
     "text": [
      "  2           0 LOAD_CONST               0 (13)\n",
      "              2 STORE_NAME               0 (a)\n",
      "\n",
      "  4           4 LOAD_CONST               1 (<code object myfunc1 at 0x1113f9450, file \"\", line 4>)\n",
      "              6 LOAD_CONST               2 ('myfunc1')\n",
      "              8 MAKE_FUNCTION            0\n",
      "             10 STORE_NAME               1 (myfunc1)\n",
      "\n",
      " 11          12 LOAD_NAME                1 (myfunc1)\n",
      "             14 LOAD_CONST               3 (1)\n",
      "             16 CALL_FUNCTION            1\n",
      "             18 POP_TOP\n",
      "             20 LOAD_CONST               4 (None)\n",
      "             22 RETURN_VALUE\n",
      "\n",
      "Disassembly of <code object myfunc1 at 0x1113f9450, file \"\", line 4>:\n",
      "  5           0 LOAD_CONST               1 (15)\n",
      "              2 STORE_FAST               1 (a)\n",
      "\n",
      "  6           4 LOAD_CONST               2 (<code object myfunc2 at 0x10f963920, file \"\", line 6>)\n",
      "              6 LOAD_CONST               3 ('myfunc1.<locals>.myfunc2')\n",
      "              8 MAKE_FUNCTION            0\n",
      "             10 STORE_FAST               2 (myfunc2)\n",
      "\n",
      "  9          12 LOAD_FAST                2 (myfunc2)\n",
      "             14 LOAD_CONST               4 (2)\n",
      "             16 CALL_FUNCTION            1\n",
      "             18 POP_TOP\n",
      "             20 LOAD_CONST               0 (None)\n",
      "             22 RETURN_VALUE\n",
      "\n",
      "Disassembly of <code object myfunc2 at 0x10f963920, file \"\", line 6>:\n",
      "  7           0 LOAD_CONST               1 (16)\n",
      "              2 STORE_FAST               1 (a)\n",
      "              4 LOAD_CONST               0 (None)\n",
      "              6 RETURN_VALUE\n"
     ]
    }
   ],
   "source": [
    "from dis import dis\n",
    "dis(compile('''\n",
    "a = 13\n",
    "\n",
    "def myfunc1(arg1):\n",
    "    a = 15\n",
    "    def myfunc2(arg2):\n",
    "        a = 16\n",
    "\n",
    "    myfunc2(2)\n",
    "\n",
    "myfunc1(1)\n",
    "''', '', 'exec'))\n",
    "\n"
   ]
  },
  {
   "cell_type": "markdown",
   "metadata": {
    "collapsed": false,
    "pycharm": {
     "name": "#%% md\n"
    }
   },
   "source": [
    "\n",
    "\n",
    "Frame object\n",
    "\n",
    "https://github.com/python/cpython/blob/cb9879b948a19c9434316f8ab6aba9c4601a8173/Include/cpython/frameobject.h#L28\n",
    "\n",
    "Function call:\n",
    "\n",
    "https://github.com/python/cpython/blob/cb9879b948a19c9434316f8ab6aba9c4601a8173/Objects/call.c#L307\n",
    "\n",
    "\n",
    "\n",
    "\n"
   ]
  },
  {
   "cell_type": "code",
   "execution_count": 13,
   "metadata": {
    "collapsed": false,
    "pycharm": {
     "name": "#%%\n"
    }
   },
   "outputs": [
    {
     "name": "stdout",
     "output_type": "stream",
     "text": [
      "myfunc1\n",
      "varnames ('arg1', 'myfunc2')\n",
      "freevars ()\n",
      "cellvars ('a',)\n",
      "myfunc2\n",
      "varnames ('arg2',)\n",
      "freevars ('a',)\n",
      "cellvars ()\n"
     ]
    }
   ],
   "source": [
    "a = 13\n",
    "\n",
    "def myfunc1(arg1):\n",
    "    a = 15\n",
    "    def myfunc2(arg2):\n",
    "        nonlocal a\n",
    "        a = 16\n",
    "\n",
    "    inspect(myfunc2)\n",
    "    myfunc2(2)\n",
    "\n",
    "inspect(myfunc1)\n",
    "myfunc1(1)"
   ]
  },
  {
   "cell_type": "code",
   "execution_count": 15,
   "metadata": {
    "collapsed": false,
    "pycharm": {
     "name": "#%%\n"
    }
   },
   "outputs": [
    {
     "ename": "SyntaxError",
     "evalue": "name 'a' is nonlocal and global (<ipython-input-15-9502d492ecfb>, line 7)",
     "output_type": "error",
     "traceback": [
      "\u001b[0;36m  File \u001b[0;32m\"<ipython-input-15-9502d492ecfb>\"\u001b[0;36m, line \u001b[0;32m7\u001b[0m\n\u001b[0;31m    nonlocal a\u001b[0m\n\u001b[0m    ^\u001b[0m\n\u001b[0;31mSyntaxError\u001b[0m\u001b[0;31m:\u001b[0m name 'a' is nonlocal and global\n"
     ]
    }
   ],
   "source": [
    "a = 13\n",
    "\n",
    "def myfunc1(arg1):\n",
    "    a = 15\n",
    "    def myfunc2(arg2):\n",
    "        def myfunc3():\n",
    "            nonlocal a\n",
    "            a = 17\n",
    "        inspect(myfunc3)\n",
    "        myfunc3()\n",
    "\n",
    "    inspect(myfunc2)\n",
    "    myfunc2(2)\n",
    "    print(a)\n",
    "\n",
    "inspect(myfunc1)\n",
    "myfunc1(1)"
   ]
  },
  {
   "cell_type": "code",
   "execution_count": 18,
   "metadata": {
    "collapsed": false,
    "pycharm": {
     "name": "#%%\n"
    }
   },
   "outputs": [
    {
     "ename": "SyntaxError",
     "evalue": "no binding for nonlocal 'a' found (<ipython-input-18-93c8de48bd02>, line 11)",
     "output_type": "error",
     "traceback": [
      "\u001b[0;36m  File \u001b[0;32m\"<ipython-input-18-93c8de48bd02>\"\u001b[0;36m, line \u001b[0;32m11\u001b[0m\n\u001b[0;31m    nonlocal a\u001b[0m\n\u001b[0m    ^\u001b[0m\n\u001b[0;31mSyntaxError\u001b[0m\u001b[0;31m:\u001b[0m no binding for nonlocal 'a' found\n"
     ]
    }
   ],
   "source": [
    "a = 13\n",
    "\n",
    "def myfunc1(arg1):\n",
    "    global a\n",
    "    a = 15\n",
    "    def myfunc2(arg2):\n",
    "        global  a\n",
    "        a = 16\n",
    "\n",
    "        def myfunc3():\n",
    "            nonlocal a\n",
    "            a = 17\n",
    "        inspect(myfunc3)\n",
    "        myfunc3()\n",
    "\n",
    "    inspect(myfunc2)\n",
    "    myfunc2(2)\n",
    "    print(a)\n",
    "\n",
    "inspect(myfunc1)\n",
    "myfunc1(1)\n",
    "\n"
   ]
  },
  {
   "cell_type": "code",
   "execution_count": 17,
   "metadata": {
    "collapsed": false,
    "pycharm": {
     "name": "#%%\n"
    }
   },
   "outputs": [
    {
     "name": "stdout",
     "output_type": "stream",
     "text": [
      "myfunc1\n",
      "varnames ('arg1', 'a', 'myfunc2')\n",
      "freevars ()\n",
      "cellvars ()\n",
      "myfunc2\n",
      "varnames ('arg2', 'myfunc3')\n",
      "freevars ()\n",
      "cellvars ('a',)\n",
      "myfunc3\n",
      "varnames ()\n",
      "freevars ('a',)\n",
      "cellvars ()\n",
      "15\n"
     ]
    }
   ],
   "source": [
    "a = 13\n",
    "\n",
    "def myfunc1(arg1):\n",
    "    a = 15\n",
    "    def myfunc2(arg2):\n",
    "        a = 16\n",
    "        def myfunc3():\n",
    "            nonlocal a\n",
    "            a = 17\n",
    "        inspect(myfunc3)\n",
    "        myfunc3()\n",
    "\n",
    "\n",
    "    inspect(myfunc2)\n",
    "    myfunc2(2)\n",
    "    print(a)\n",
    "\n",
    "inspect(myfunc1)\n",
    "myfunc1(1)\n"
   ]
  },
  {
   "cell_type": "markdown",
   "metadata": {
    "collapsed": false,
    "pycharm": {
     "name": "#%% md\n"
    }
   },
   "source": [
    "https://cpython-devguide.readthedocs.io/compiler/#ast-to-cfg-to-bytecode\n",
    "\n",
    "> variables can be classified as local, free/cell for closures, or global"
   ]
  }
 ],
 "metadata": {
  "kernelspec": {
   "display_name": "Python 3.10.4 64-bit",
   "language": "python",
   "name": "python3"
  },
  "language_info": {
   "codemirror_mode": {
    "name": "ipython",
    "version": 2
   },
   "file_extension": ".py",
   "mimetype": "text/x-python",
   "name": "python",
   "nbconvert_exporter": "python",
   "pygments_lexer": "ipython2",
   "version": "3.10.4"
  },
  "vscode": {
   "interpreter": {
    "hash": "350ec87d84c6c58898f5c2e4bbb3396f5f55fe152cf4ea5d1a9ddc7ca48985be"
   }
  }
 },
 "nbformat": 4,
 "nbformat_minor": 0
}
