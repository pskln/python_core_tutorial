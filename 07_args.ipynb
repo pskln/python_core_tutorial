{
 "cells": [
  {
   "cell_type": "markdown",
   "metadata": {},
   "source": [
    "# Function arguments in python"
   ]
  },
  {
   "cell_type": "code",
   "execution_count": 1,
   "metadata": {},
   "outputs": [
    {
     "data": {
      "text/plain": [
       "<function __main__.<lambda>()>"
      ]
     },
     "execution_count": 1,
     "metadata": {},
     "output_type": "execute_result"
    }
   ],
   "source": [
    "# What is a function?\n",
    "\n",
    "# a mathematical function is \"something\" that transforms an input into an output, in a deterministic way\n",
    "#\n",
    "# Python functions are more pragmatic\n",
    "#\n",
    "# * There can be 0 inputs\n",
    "# * There can be side-effects\n",
    "# * There can be varying output (e.g. random)\n",
    "# * There can be streamed output (yields)\n",
    "\n",
    "# this is the simplest version\n",
    "# a function without a name that always returns 1\n",
    "lambda: 1\n",
    "\n"
   ]
  },
  {
   "cell_type": "code",
   "execution_count": 2,
   "metadata": {},
   "outputs": [
    {
     "data": {
      "text/plain": [
       "1"
      ]
     },
     "execution_count": 2,
     "metadata": {},
     "output_type": "execute_result"
    }
   ],
   "source": [
    "# let's execute it:\n",
    "(lambda: 1)()"
   ]
  },
  {
   "cell_type": "code",
   "execution_count": 3,
   "metadata": {},
   "outputs": [
    {
     "data": {
      "text/plain": [
       "1"
      ]
     },
     "execution_count": 3,
     "metadata": {},
     "output_type": "execute_result"
    }
   ],
   "source": [
    "# let's name the function\n",
    "my_func = lambda: 1\n",
    "\n",
    "my_func()"
   ]
  },
  {
   "cell_type": "code",
   "execution_count": 4,
   "metadata": {},
   "outputs": [
    {
     "ename": "TypeError",
     "evalue": "<lambda>() missing 1 required positional argument: 'x'",
     "output_type": "error",
     "traceback": [
      "\u001b[0;31m---------------------------------------------------------------------------\u001b[0m",
      "\u001b[0;31mTypeError\u001b[0m                                 Traceback (most recent call last)",
      "\u001b[0;32m<ipython-input-4-b03d0c8c7e1b>\u001b[0m in \u001b[0;36m<module>\u001b[0;34m\u001b[0m\n\u001b[1;32m      2\u001b[0m \u001b[0mmy_func\u001b[0m \u001b[0;34m=\u001b[0m \u001b[0;32mlambda\u001b[0m \u001b[0mx\u001b[0m \u001b[0;34m:\u001b[0m \u001b[0mx\u001b[0m \u001b[0;34m+\u001b[0m \u001b[0;36m1\u001b[0m\u001b[0;34m\u001b[0m\u001b[0;34m\u001b[0m\u001b[0m\n\u001b[1;32m      3\u001b[0m \u001b[0;34m\u001b[0m\u001b[0m\n\u001b[0;32m----> 4\u001b[0;31m \u001b[0mmy_func\u001b[0m\u001b[0;34m(\u001b[0m\u001b[0;34m)\u001b[0m\u001b[0;34m\u001b[0m\u001b[0;34m\u001b[0m\u001b[0m\n\u001b[0m",
      "\u001b[0;31mTypeError\u001b[0m: <lambda>() missing 1 required positional argument: 'x'"
     ]
    }
   ],
   "source": [
    "# let's add an input\n",
    "my_func = lambda x : x + 1\n",
    "\n",
    "my_func()"
   ]
  },
  {
   "cell_type": "code",
   "execution_count": 6,
   "metadata": {},
   "outputs": [
    {
     "data": {
      "text/plain": [
       "2"
      ]
     },
     "execution_count": 6,
     "metadata": {},
     "output_type": "execute_result"
    }
   ],
   "source": [
    "# oops, we forgot to supply the argument\n",
    "my_func(1)"
   ]
  },
  {
   "cell_type": "code",
   "execution_count": 7,
   "metadata": {},
   "outputs": [
    {
     "data": {
      "text/plain": [
       "2"
      ]
     },
     "execution_count": 7,
     "metadata": {},
     "output_type": "execute_result"
    }
   ],
   "source": [
    "# now let's forget about lambdas and do \"normal\" functions.\n",
    "# this is exactly the same as the myfunc = lambda... from above\n",
    "\n",
    "def my_func(x):\n",
    "    return x + 1\n",
    "\n",
    "# and a lot more readable to non-mathematicians\n",
    "\n",
    "# let's run it again\n",
    "\n",
    "my_func(1)"
   ]
  },
  {
   "cell_type": "code",
   "execution_count": 8,
   "metadata": {},
   "outputs": [
    {
     "data": {
      "text/plain": [
       "['__annotations__',\n",
       " '__call__',\n",
       " '__class__',\n",
       " '__closure__',\n",
       " '__code__',\n",
       " '__defaults__',\n",
       " '__delattr__',\n",
       " '__dict__',\n",
       " '__dir__',\n",
       " '__doc__',\n",
       " '__eq__',\n",
       " '__format__',\n",
       " '__ge__',\n",
       " '__get__',\n",
       " '__getattribute__',\n",
       " '__globals__',\n",
       " '__gt__',\n",
       " '__hash__',\n",
       " '__init__',\n",
       " '__init_subclass__',\n",
       " '__kwdefaults__',\n",
       " '__le__',\n",
       " '__lt__',\n",
       " '__module__',\n",
       " '__name__',\n",
       " '__ne__',\n",
       " '__new__',\n",
       " '__qualname__',\n",
       " '__reduce__',\n",
       " '__reduce_ex__',\n",
       " '__repr__',\n",
       " '__setattr__',\n",
       " '__sizeof__',\n",
       " '__str__',\n",
       " '__subclasshook__']"
      ]
     },
     "execution_count": 8,
     "metadata": {},
     "output_type": "execute_result"
    }
   ],
   "source": [
    "# what can we do with a function?\n",
    "\n",
    "dir(my_func)"
   ]
  },
  {
   "cell_type": "code",
   "execution_count": 9,
   "metadata": {},
   "outputs": [
    {
     "data": {
      "text/plain": [
       "2"
      ]
     },
     "execution_count": 9,
     "metadata": {},
     "output_type": "execute_result"
    }
   ],
   "source": [
    "my_func.__call__(1)"
   ]
  },
  {
   "cell_type": "code",
   "execution_count": 10,
   "metadata": {},
   "outputs": [
    {
     "ename": "TypeError",
     "evalue": "my_func() takes 1 positional argument but 2 were given",
     "output_type": "error",
     "traceback": [
      "\u001b[0;31m---------------------------------------------------------------------------\u001b[0m",
      "\u001b[0;31mTypeError\u001b[0m                                 Traceback (most recent call last)",
      "\u001b[0;32m<ipython-input-10-d7aa168b0394>\u001b[0m in \u001b[0;36m<module>\u001b[0;34m\u001b[0m\n\u001b[1;32m      3\u001b[0m \u001b[0;31m# can we add extra arguments?\u001b[0m\u001b[0;34m\u001b[0m\u001b[0;34m\u001b[0m\u001b[0;34m\u001b[0m\u001b[0m\n\u001b[1;32m      4\u001b[0m \u001b[0;34m\u001b[0m\u001b[0m\n\u001b[0;32m----> 5\u001b[0;31m \u001b[0mmy_func\u001b[0m\u001b[0;34m(\u001b[0m\u001b[0;36m1\u001b[0m\u001b[0;34m,\u001b[0m \u001b[0;36m2\u001b[0m\u001b[0;34m)\u001b[0m\u001b[0;34m\u001b[0m\u001b[0;34m\u001b[0m\u001b[0m\n\u001b[0m",
      "\u001b[0;31mTypeError\u001b[0m: my_func() takes 1 positional argument but 2 were given"
     ]
    }
   ],
   "source": [
    "# ok, back to the simple stuff\n",
    "\n",
    "# can we add extra arguments?\n",
    "\n",
    "my_func(1, 2)"
   ]
  },
  {
   "cell_type": "code",
   "execution_count": 11,
   "metadata": {},
   "outputs": [
    {
     "ename": "TypeError",
     "evalue": "my_func() missing 1 required positional argument: 'x'",
     "output_type": "error",
     "traceback": [
      "\u001b[0;31m---------------------------------------------------------------------------\u001b[0m",
      "\u001b[0;31mTypeError\u001b[0m                                 Traceback (most recent call last)",
      "\u001b[0;32m<ipython-input-11-6cad2d5779b5>\u001b[0m in \u001b[0;36m<module>\u001b[0;34m\u001b[0m\n\u001b[1;32m      3\u001b[0m \u001b[0;31m# can we add fewer?\u001b[0m\u001b[0;34m\u001b[0m\u001b[0;34m\u001b[0m\u001b[0;34m\u001b[0m\u001b[0m\n\u001b[1;32m      4\u001b[0m \u001b[0;34m\u001b[0m\u001b[0m\n\u001b[0;32m----> 5\u001b[0;31m \u001b[0mmy_func\u001b[0m\u001b[0;34m(\u001b[0m\u001b[0;34m)\u001b[0m\u001b[0;34m\u001b[0m\u001b[0;34m\u001b[0m\u001b[0m\n\u001b[0m",
      "\u001b[0;31mTypeError\u001b[0m: my_func() missing 1 required positional argument: 'x'"
     ]
    }
   ],
   "source": [
    "# no\n",
    "\n",
    "# can we add fewer?\n",
    "\n",
    "my_func()"
   ]
  },
  {
   "cell_type": "markdown",
   "metadata": {},
   "source": [
    "# Intermezzo\n",
    "\n",
    "Sometimes we'd like some flexibility in the arguments of functions. Different programming languages try to solve this in different ways.\n",
    "\n",
    "In Java this is done via \"overloading\". There can be multiple different implementations of the same function if the types or amount of arguments differ.\n",
    "\n",
    "For example a function `add` can work on both `Integers` and `Floats`.\n",
    "\n",
    "In Java you could have 4 different `add` functions:\n",
    "- add(float a, float b)\n",
    "- add(int a, float b)\n",
    "- add(float a, int b)\n",
    "- add(int a, int b)\n",
    "\n",
    "All of these functions would have completely separate bodies. Here's one of the four:\n",
    "\n",
    "    public Int add(Integer a, Integer b) {\n",
    "        return a + b; // <- this is the body\n",
    "    }\n",
    "\n",
    "In python this works differently. There is only one function body.\n",
    "\n",
    "All of the \"overloading\" has to be handled in one body.\n",
    "\n",
    "Both are fine approaches with different pros and cons."
   ]
  },
  {
   "cell_type": "code",
   "execution_count": 12,
   "metadata": {},
   "outputs": [
    {
     "name": "stdout",
     "output_type": "stream",
     "text": [
      "the supplied FoV is 20\n"
     ]
    },
    {
     "ename": "TypeError",
     "evalue": "get_distance_from_image() missing 1 required positional argument: 'field_of_view'",
     "output_type": "error",
     "traceback": [
      "\u001b[0;31m---------------------------------------------------------------------------\u001b[0m",
      "\u001b[0;31mTypeError\u001b[0m                                 Traceback (most recent call last)",
      "\u001b[0;32m<ipython-input-12-2f46aad42e89>\u001b[0m in \u001b[0;36m<module>\u001b[0;34m\u001b[0m\n\u001b[1;32m      9\u001b[0m \u001b[0;31m# what if I don't know the field of view?\u001b[0m\u001b[0;34m\u001b[0m\u001b[0;34m\u001b[0m\u001b[0;34m\u001b[0m\u001b[0m\n\u001b[1;32m     10\u001b[0m \u001b[0;34m\u001b[0m\u001b[0m\n\u001b[0;32m---> 11\u001b[0;31m \u001b[0mget_distance_from_image\u001b[0m\u001b[0;34m(\u001b[0m\u001b[0;34m\"/home/user/jo.jpg\"\u001b[0m\u001b[0;34m)\u001b[0m\u001b[0;34m\u001b[0m\u001b[0;34m\u001b[0m\u001b[0m\n\u001b[0m",
      "\u001b[0;31mTypeError\u001b[0m: get_distance_from_image() missing 1 required positional argument: 'field_of_view'"
     ]
    }
   ],
   "source": [
    "# Let's use a concrete example for easee\n",
    "\n",
    "def get_distance_from_image(image_file, field_of_view):\n",
    "    print(\"the supplied FoV is\", field_of_view)\n",
    "    return \"wow, if I could disclose our awesome algorithms here\"\n",
    "\n",
    "get_distance_from_image(\"/home/user/jo.jpg\", 20)\n",
    "\n",
    "# what if I don't know the field of view?\n",
    "\n",
    "get_distance_from_image(\"/home/user/jo.jpg\")\n"
   ]
  },
  {
   "cell_type": "code",
   "execution_count": 13,
   "metadata": {},
   "outputs": [
    {
     "name": "stdout",
     "output_type": "stream",
     "text": [
      "the supplied FoV is 20\n",
      "the supplied FoV is None\n"
     ]
    },
    {
     "data": {
      "text/plain": [
       "'wow, if I could disclose our awesome algorithms here'"
      ]
     },
     "execution_count": 13,
     "metadata": {},
     "output_type": "execute_result"
    }
   ],
   "source": [
    "# Let's make the parameter optional!\n",
    "# If the user doesn't know, we'll do our best to get the FoV from the image itself.\n",
    "\n",
    "def difficult_fov_calculation(image_file):\n",
    "    return 65\n",
    "\n",
    "def get_distance_from_image(image_file, field_of_view=None):\n",
    "    print(\"the supplied FoV is\", field_of_view)\n",
    "    if field_of_view is None:\n",
    "        field_of_view = difficult_fov_calculation(image_file)\n",
    "    return \"wow, if I could disclose our awesome algorithms here\"\n",
    "\n",
    "get_distance_from_image(\"/home/user/jo.jpg\", 20)\n",
    "\n",
    "# what if I don't know the field of view?\n",
    "\n",
    "get_distance_from_image(\"/home/user/jo.jpg\")"
   ]
  },
  {
   "cell_type": "code",
   "execution_count": 14,
   "metadata": {},
   "outputs": [
    {
     "name": "stdout",
     "output_type": "stream",
     "text": [
      "1 this is really hard\n"
     ]
    },
    {
     "data": {
      "text/plain": [
       "'Screenshot taken'"
      ]
     },
     "execution_count": 14,
     "metadata": {},
     "output_type": "execute_result"
    }
   ],
   "source": [
    "# Ok, that's optional arguments.\n",
    "\n",
    "# Now let's get to more complex functions to see why we need other things too. Next up: keyword arguments.\n",
    "\n",
    "# A good library function supports all kinds of operations has lots of options:\n",
    "def take_screenshot(browser, browser_version, resolution, url, image_type, use_webkit, use_antialising, simulate_haptic_feedback, simulate_device_type, output_file):\n",
    "    # complicated implementation....\n",
    "    print(\"1 this is really hard\")\n",
    "    return \"Screenshot taken\"\n",
    "\n",
    "\n",
    "\n",
    "\n",
    "# if Python was stupid, we would have to call this like so:\n",
    "\n",
    "take_screenshot(\"chrome\", \"86.0.1\", \"1920x1080\", \"https://www.easee.online\", \"png\", True, True, False, \"iPhone X\", \"/tmp/out.png\")\n",
    "\n",
    "# True, True, False, what the hell does that mean? Not very readable."
   ]
  },
  {
   "cell_type": "code",
   "execution_count": 15,
   "metadata": {},
   "outputs": [
    {
     "ename": "SyntaxError",
     "evalue": "non-default argument follows default argument (<ipython-input-15-ae11198e8c06>, line 2)",
     "output_type": "error",
     "traceback": [
      "\u001b[0;36m  File \u001b[0;32m\"<ipython-input-15-ae11198e8c06>\"\u001b[0;36m, line \u001b[0;32m2\u001b[0m\n\u001b[0;31m    def take_screenshot(browser=\"Chrome\", browser_version=\"latest\", resolution=\"1920x1080\", url, image_type=\"png\", use_webkit=False, use_antialising=True, simulate_haptic_feedback=False, simulate_device_type=None, output_file=None):\u001b[0m\n\u001b[0m                       ^\u001b[0m\n\u001b[0;31mSyntaxError\u001b[0m\u001b[0;31m:\u001b[0m non-default argument follows default argument\n"
     ]
    }
   ],
   "source": [
    "# Let's add some defaults so we can do it better\n",
    "def take_screenshot(browser=\"Chrome\", browser_version=\"latest\", resolution=\"1920x1080\", url, image_type=\"png\", use_webkit=False, use_antialising=True, simulate_haptic_feedback=False, simulate_device_type=None, output_file=None):\n",
    "    if output_file is None:\n",
    "        output_file = \"/tmp/temporary_screenshot\"\n",
    "    # complicated implementation....\n",
    "    return \"Screenshot taken\""
   ]
  },
  {
   "cell_type": "code",
   "execution_count": 16,
   "metadata": {},
   "outputs": [
    {
     "name": "stdout",
     "output_type": "stream",
     "text": [
      "running screenshot on url https://www.easee.online, browser Chrome, version latest, resolution 1920x1080, image_type png\n",
      "running screenshot on url https://www.easee.online, browser Firefox, version 37, resolution 1920x1080, image_type png\n"
     ]
    },
    {
     "data": {
      "text/plain": [
       "'Screenshot taken'"
      ]
     },
     "execution_count": 16,
     "metadata": {},
     "output_type": "execute_result"
    }
   ],
   "source": [
    "# Oh, there are some rules?\n",
    "\n",
    "# Let's try again. We have to put default arguments first\n",
    "def take_screenshot(url, browser=\"Chrome\", browser_version=\"latest\", resolution=\"1920x1080\", image_type=\"png\", use_webkit=False, use_antialising=True, simulate_haptic_feedback=False, simulate_device_type=None, output_file=None):\n",
    "    if output_file is None:\n",
    "        output_file = \"/tmp/temporary_screenshot\"\n",
    "    # complicated implementation....\n",
    "    print(f\"running screenshot on url {url}, browser {browser}, version {browser_version}, resolution {resolution}, image_type {image_type}\")\n",
    "    return \"Screenshot taken\"\n",
    "\n",
    "# now we can call it like this, with \"sane defaults\":\n",
    "\n",
    "take_screenshot(\"https://www.easee.online\")\n",
    "\n",
    "# And if we want to do more specific things we can do that too!\n",
    "# Let's run it on the best Firefox ever!\n",
    "take_screenshot(\"https://www.easee.online\", \"Firefox\", \"37\")\n"
   ]
  },
  {
   "cell_type": "code",
   "execution_count": 17,
   "metadata": {},
   "outputs": [
    {
     "name": "stdout",
     "output_type": "stream",
     "text": [
      "running screenshot on url https://www.easee.online, browser Firefox, version 37, resolution 1024x786, image_type png\n"
     ]
    },
    {
     "data": {
      "text/plain": [
       "'Screenshot taken'"
      ]
     },
     "execution_count": 17,
     "metadata": {},
     "output_type": "execute_result"
    }
   ],
   "source": [
    "# But what if we want to get to the 4th argument resolution. Do we need to fill in 2, 3 too?\n",
    "take_screenshot(\"https://www.easee.online\", \"Firefox\", \"37\", \"1024x786\")"
   ]
  },
  {
   "cell_type": "code",
   "execution_count": 18,
   "metadata": {},
   "outputs": [
    {
     "name": "stdout",
     "output_type": "stream",
     "text": [
      "running screenshot on url https://www.easee.online, browser 1024x786, version latest, resolution 1920x1080, image_type png\n"
     ]
    },
    {
     "data": {
      "text/plain": [
       "'Screenshot taken'"
      ]
     },
     "execution_count": 18,
     "metadata": {},
     "output_type": "execute_result"
    }
   ],
   "source": [
    "# What if I want the defaults for browser and browser_version?\n",
    "take_screenshot(\"https://www.easee.online\", \"1024x786\")"
   ]
  },
  {
   "cell_type": "code",
   "execution_count": 19,
   "metadata": {},
   "outputs": [
    {
     "name": "stdout",
     "output_type": "stream",
     "text": [
      "running screenshot on url https://www.easee.online, browser Chrome, version latest, resolution 1024x786, image_type png\n"
     ]
    },
    {
     "data": {
      "text/plain": [
       "'Screenshot taken'"
      ]
     },
     "execution_count": 19,
     "metadata": {},
     "output_type": "execute_result"
    }
   ],
   "source": [
    "# We can use keyword arguments!\n",
    "take_screenshot(\"https://www.easee.online\", resolution=\"1024x786\")"
   ]
  },
  {
   "cell_type": "code",
   "execution_count": 20,
   "metadata": {},
   "outputs": [],
   "source": [
    "# Cool"
   ]
  },
  {
   "cell_type": "code",
   "execution_count": 21,
   "metadata": {},
   "outputs": [
    {
     "name": "stdout",
     "output_type": "stream",
     "text": [
      "a word is part of a sentence\n"
     ]
    }
   ],
   "source": [
    "# Now what if we have an arbitry number of arguments? e.g. the `print` function:\n",
    "print(\"a\", \"word\", \"is\", \"part\", \"of\", \"a\", \"sentence\")"
   ]
  },
  {
   "cell_type": "code",
   "execution_count": 22,
   "metadata": {},
   "outputs": [],
   "source": [
    "# Maybe it works like this:\n",
    "def my_custom_printer(word1, word2=None, word3=None, word4=None, word5=None, word6=None, word7=None, word8=None):\n",
    "    print(word1)\n",
    "    if word2:\n",
    "        print(word2)\n",
    "    if word3:\n",
    "        print(word3)\n",
    "    # continued...\n",
    "\n",
    "# but that's not very elegant and there would be an arbitrary limit"
   ]
  },
  {
   "cell_type": "code",
   "execution_count": 23,
   "metadata": {},
   "outputs": [
    {
     "name": "stdout",
     "output_type": "stream",
     "text": [
      "('a',)\n",
      "('a', 'word', 'is', 'part', 'of', 'a', 'sentence')\n"
     ]
    }
   ],
   "source": [
    "# In Python we can define a \"rest\" argument\n",
    "def my_custom_print(*args):\n",
    "    print(args)\n",
    "    \n",
    "my_custom_print(\"a\")\n",
    "my_custom_print(\"a\", \"word\", \"is\", \"part\", \"of\", \"a\", \"sentence\")"
   ]
  },
  {
   "cell_type": "code",
   "execution_count": 24,
   "metadata": {},
   "outputs": [],
   "source": [
    "# So we just get a list with all the \"extra\" arguments, and we can just work with the list :)"
   ]
  },
  {
   "cell_type": "code",
   "execution_count": 25,
   "metadata": {},
   "outputs": [
    {
     "ename": "TypeError",
     "evalue": "my_custom_print() got an unexpected keyword argument 'another_word'",
     "output_type": "error",
     "traceback": [
      "\u001b[0;31m---------------------------------------------------------------------------\u001b[0m",
      "\u001b[0;31mTypeError\u001b[0m                                 Traceback (most recent call last)",
      "\u001b[0;32m<ipython-input-25-7d90fc39e782>\u001b[0m in \u001b[0;36m<module>\u001b[0;34m\u001b[0m\n\u001b[1;32m      1\u001b[0m \u001b[0;31m# How does this handle keyword arguments?\u001b[0m\u001b[0;34m\u001b[0m\u001b[0;34m\u001b[0m\u001b[0;34m\u001b[0m\u001b[0m\n\u001b[0;32m----> 2\u001b[0;31m \u001b[0mmy_custom_print\u001b[0m\u001b[0;34m(\u001b[0m\u001b[0;34m\"a\"\u001b[0m\u001b[0;34m,\u001b[0m \u001b[0;34m\"word\"\u001b[0m\u001b[0;34m,\u001b[0m \u001b[0;34m\"is\"\u001b[0m\u001b[0;34m,\u001b[0m \u001b[0;34m\"part\"\u001b[0m\u001b[0;34m,\u001b[0m \u001b[0;34m\"of\"\u001b[0m\u001b[0;34m,\u001b[0m \u001b[0;34m\"a\"\u001b[0m\u001b[0;34m,\u001b[0m \u001b[0;34m\"sentence\"\u001b[0m\u001b[0;34m,\u001b[0m \u001b[0manother_word\u001b[0m\u001b[0;34m=\u001b[0m\u001b[0;34m\"yo\"\u001b[0m\u001b[0;34m)\u001b[0m\u001b[0;34m\u001b[0m\u001b[0;34m\u001b[0m\u001b[0m\n\u001b[0m",
      "\u001b[0;31mTypeError\u001b[0m: my_custom_print() got an unexpected keyword argument 'another_word'"
     ]
    }
   ],
   "source": [
    "# How does this handle keyword arguments?\n",
    "my_custom_print(\"a\", \"word\", \"is\", \"part\", \"of\", \"a\", \"sentence\", another_word=\"yo\")"
   ]
  },
  {
   "cell_type": "code",
   "execution_count": 26,
   "metadata": {},
   "outputs": [],
   "source": [
    "# Oh, we can not mix them. Ok, we'll cover kwargs later."
   ]
  },
  {
   "cell_type": "code",
   "execution_count": 27,
   "metadata": {},
   "outputs": [
    {
     "ename": "SyntaxError",
     "evalue": "invalid syntax (<ipython-input-27-c003aab763c9>, line 2)",
     "output_type": "error",
     "traceback": [
      "\u001b[0;36m  File \u001b[0;32m\"<ipython-input-27-c003aab763c9>\"\u001b[0;36m, line \u001b[0;32m2\u001b[0m\n\u001b[0;31m    def my_custom_print2(*args, *args2):\u001b[0m\n\u001b[0m                                ^\u001b[0m\n\u001b[0;31mSyntaxError\u001b[0m\u001b[0;31m:\u001b[0m invalid syntax\n"
     ]
    }
   ],
   "source": [
    "# Can we \"unpack\" multiple times?\n",
    "def my_custom_print2(*args, *args2):\n",
    "    print(args)\n",
    "    \n",
    "# no of course not, how would python know how to split the extra arguments in two parts"
   ]
  },
  {
   "cell_type": "code",
   "execution_count": 28,
   "metadata": {},
   "outputs": [
    {
     "name": "stdout",
     "output_type": "stream",
     "text": [
      "hi ()\n",
      "hi ('jo',)\n",
      "hi ('jo', 'jo2')\n"
     ]
    }
   ],
   "source": [
    "# So what if we have some mandatory, some optional arguments\n",
    "def my_custom_print2(mandatory_arg, *args):\n",
    "    print(mandatory_arg, args)\n",
    "    \n",
    "my_custom_print2(\"hi\")\n",
    "my_custom_print2(\"hi\", \"jo\")\n",
    "my_custom_print2(\"hi\", \"jo\", \"jo2\")"
   ]
  },
  {
   "cell_type": "code",
   "execution_count": 29,
   "metadata": {},
   "outputs": [
    {
     "ename": "TypeError",
     "evalue": "my_custom_print3() missing 1 required keyword-only argument: 'mandatory_arg'",
     "output_type": "error",
     "traceback": [
      "\u001b[0;31m---------------------------------------------------------------------------\u001b[0m",
      "\u001b[0;31mTypeError\u001b[0m                                 Traceback (most recent call last)",
      "\u001b[0;32m<ipython-input-29-4e7c47bc4bd1>\u001b[0m in \u001b[0;36m<module>\u001b[0;34m\u001b[0m\n\u001b[1;32m      4\u001b[0m     \u001b[0mprint\u001b[0m\u001b[0;34m(\u001b[0m\u001b[0margs\u001b[0m\u001b[0;34m,\u001b[0m \u001b[0mmandatory_arg\u001b[0m\u001b[0;34m)\u001b[0m\u001b[0;34m\u001b[0m\u001b[0;34m\u001b[0m\u001b[0m\n\u001b[1;32m      5\u001b[0m \u001b[0;34m\u001b[0m\u001b[0m\n\u001b[0;32m----> 6\u001b[0;31m \u001b[0mmy_custom_print3\u001b[0m\u001b[0;34m(\u001b[0m\u001b[0;34m\"hi\"\u001b[0m\u001b[0;34m)\u001b[0m\u001b[0;34m\u001b[0m\u001b[0;34m\u001b[0m\u001b[0m\n\u001b[0m\u001b[1;32m      7\u001b[0m \u001b[0mmy_custom_print3\u001b[0m\u001b[0;34m(\u001b[0m\u001b[0;34m\"hi\"\u001b[0m\u001b[0;34m,\u001b[0m \u001b[0;34m\"jo\"\u001b[0m\u001b[0;34m)\u001b[0m\u001b[0;34m\u001b[0m\u001b[0;34m\u001b[0m\u001b[0m\n\u001b[1;32m      8\u001b[0m \u001b[0mmy_custom_print3\u001b[0m\u001b[0;34m(\u001b[0m\u001b[0;34m\"hi\"\u001b[0m\u001b[0;34m,\u001b[0m \u001b[0;34m\"jo\"\u001b[0m\u001b[0;34m,\u001b[0m \u001b[0;34m\"jo2\"\u001b[0m\u001b[0;34m)\u001b[0m\u001b[0;34m\u001b[0m\u001b[0;34m\u001b[0m\u001b[0m\n",
      "\u001b[0;31mTypeError\u001b[0m: my_custom_print3() missing 1 required keyword-only argument: 'mandatory_arg'"
     ]
    }
   ],
   "source": [
    "# Can we change the order?\n",
    "\n",
    "def my_custom_print3(*args, mandatory_arg):\n",
    "    print(args, mandatory_arg)\n",
    "    \n",
    "my_custom_print3(\"hi\")\n",
    "my_custom_print3(\"hi\", \"jo\")\n",
    "my_custom_print3(\"hi\", \"jo\", \"jo2\")\n",
    "\n",
    "# Should this be a syntax error? The *args will \"eat\" all the arguments and the mandatory_arg will never be filled."
   ]
  },
  {
   "cell_type": "code",
   "execution_count": 30,
   "metadata": {},
   "outputs": [
    {
     "name": "stdout",
     "output_type": "stream",
     "text": [
      "('hi', 'jo') jo2\n"
     ]
    }
   ],
   "source": [
    "# Unless we use kwargs!\n",
    "# Here we have a mandatory keyword argument without a default.\n",
    "\n",
    "my_custom_print3(\"hi\", \"jo\", mandatory_arg=\"jo2\")"
   ]
  },
  {
   "cell_type": "code",
   "execution_count": 31,
   "metadata": {},
   "outputs": [
    {
     "name": "stdout",
     "output_type": "stream",
     "text": [
      "None\n",
      "<function <lambda> at 0x7f31f420a488>\n",
      "<function <lambda> at 0x7f31f420a488>\n"
     ]
    }
   ],
   "source": [
    "# Making keyword arguments mandatory\n",
    "\n",
    "# A slightly more refined example from https://www.python.org/dev/peps/pep-3102/\n",
    "\n",
    "# Let's use a compare function like this:\n",
    "\n",
    "def compare(a, b, key=None):\n",
    "    print(key)\n",
    "\n",
    "# it can be used like so:\n",
    "\n",
    "compare(1,2)\n",
    "compare(1,2, (lambda x: 1))\n",
    "compare(1,2, key=(lambda x: 1))\n",
    "\n",
    "# But you might complain that the middle version is not very readable, as \n",
    "# it is unclear what the 3rd positional argument is."
   ]
  },
  {
   "cell_type": "code",
   "execution_count": 32,
   "metadata": {},
   "outputs": [
    {
     "name": "stdout",
     "output_type": "stream",
     "text": [
      "None\n",
      "None\n",
      "<function <lambda> at 0x7f31f420a158>\n"
     ]
    }
   ],
   "source": [
    "# For better readability we want to force the developers to use a keyword for \"key\".\n",
    "\n",
    "# We can do that like so:\n",
    "\n",
    "def compare(a, b, *ignore, key=None):\n",
    "    print(key)\n",
    "\n",
    "compare(1,2)\n",
    "compare(1,2, (lambda x: 1))\n",
    "compare(1,2, key=(lambda x: 1))"
   ]
  },
  {
   "cell_type": "code",
   "execution_count": 33,
   "metadata": {},
   "outputs": [
    {
     "name": "stdout",
     "output_type": "stream",
     "text": [
      "None\n",
      "<function <lambda> at 0x7f31f420a598>\n"
     ]
    },
    {
     "ename": "TypeError",
     "evalue": "",
     "output_type": "error",
     "traceback": [
      "\u001b[0;31m---------------------------------------------------------------------------\u001b[0m",
      "\u001b[0;31mTypeError\u001b[0m                                 Traceback (most recent call last)",
      "\u001b[0;32m<ipython-input-33-748b60d64faa>\u001b[0m in \u001b[0;36m<module>\u001b[0;34m\u001b[0m\n\u001b[1;32m      9\u001b[0m \u001b[0;31m# note that these are reversed now:\u001b[0m\u001b[0;34m\u001b[0m\u001b[0;34m\u001b[0m\u001b[0;34m\u001b[0m\u001b[0m\n\u001b[1;32m     10\u001b[0m \u001b[0mcompare\u001b[0m\u001b[0;34m(\u001b[0m\u001b[0;36m1\u001b[0m\u001b[0;34m,\u001b[0m\u001b[0;36m2\u001b[0m\u001b[0;34m,\u001b[0m \u001b[0mkey\u001b[0m\u001b[0;34m=\u001b[0m\u001b[0;34m(\u001b[0m\u001b[0;32mlambda\u001b[0m \u001b[0mx\u001b[0m\u001b[0;34m:\u001b[0m \u001b[0;36m1\u001b[0m\u001b[0;34m)\u001b[0m\u001b[0;34m)\u001b[0m\u001b[0;34m\u001b[0m\u001b[0;34m\u001b[0m\u001b[0m\n\u001b[0;32m---> 11\u001b[0;31m \u001b[0mcompare\u001b[0m\u001b[0;34m(\u001b[0m\u001b[0;36m1\u001b[0m\u001b[0;34m,\u001b[0m\u001b[0;36m2\u001b[0m\u001b[0;34m,\u001b[0m \u001b[0;34m(\u001b[0m\u001b[0;32mlambda\u001b[0m \u001b[0mx\u001b[0m\u001b[0;34m:\u001b[0m \u001b[0;36m1\u001b[0m\u001b[0;34m)\u001b[0m\u001b[0;34m)\u001b[0m\u001b[0;34m\u001b[0m\u001b[0;34m\u001b[0m\u001b[0m\n\u001b[0m",
      "\u001b[0;32m<ipython-input-33-748b60d64faa>\u001b[0m in \u001b[0;36mcompare\u001b[0;34m(a, b, key, *ignore)\u001b[0m\n\u001b[1;32m      3\u001b[0m \u001b[0;32mdef\u001b[0m \u001b[0mcompare\u001b[0m\u001b[0;34m(\u001b[0m\u001b[0ma\u001b[0m\u001b[0;34m,\u001b[0m \u001b[0mb\u001b[0m\u001b[0;34m,\u001b[0m \u001b[0;34m*\u001b[0m\u001b[0mignore\u001b[0m\u001b[0;34m,\u001b[0m \u001b[0mkey\u001b[0m\u001b[0;34m=\u001b[0m\u001b[0;32mNone\u001b[0m\u001b[0;34m)\u001b[0m\u001b[0;34m:\u001b[0m\u001b[0;34m\u001b[0m\u001b[0;34m\u001b[0m\u001b[0m\n\u001b[1;32m      4\u001b[0m     \u001b[0;32mif\u001b[0m \u001b[0mignore\u001b[0m\u001b[0;34m:\u001b[0m  \u001b[0;31m# If ignore is not empty\u001b[0m\u001b[0;34m\u001b[0m\u001b[0;34m\u001b[0m\u001b[0m\n\u001b[0;32m----> 5\u001b[0;31m         \u001b[0;32mraise\u001b[0m \u001b[0mTypeError\u001b[0m\u001b[0;34m\u001b[0m\u001b[0;34m\u001b[0m\u001b[0m\n\u001b[0m\u001b[1;32m      6\u001b[0m     \u001b[0mprint\u001b[0m\u001b[0;34m(\u001b[0m\u001b[0mkey\u001b[0m\u001b[0;34m)\u001b[0m\u001b[0;34m\u001b[0m\u001b[0;34m\u001b[0m\u001b[0m\n\u001b[1;32m      7\u001b[0m \u001b[0;34m\u001b[0m\u001b[0m\n",
      "\u001b[0;31mTypeError\u001b[0m: "
     ]
    }
   ],
   "source": [
    "# But now *ignore silently ignores extra arguments, better to explicitly give an error\n",
    "\n",
    "def compare(a, b, *ignore, key=None):\n",
    "    if ignore:  # If ignore is not empty\n",
    "        raise TypeError\n",
    "    print(key)\n",
    "\n",
    "compare(1,2)\n",
    "# note that these are reversed now:\n",
    "compare(1,2, key=(lambda x: 1))\n",
    "compare(1,2, (lambda x: 1))"
   ]
  },
  {
   "cell_type": "code",
   "execution_count": 34,
   "metadata": {},
   "outputs": [
    {
     "ename": "TypeError",
     "evalue": "compare() takes 2 positional arguments but 3 were given",
     "output_type": "error",
     "traceback": [
      "\u001b[0;31m---------------------------------------------------------------------------\u001b[0m",
      "\u001b[0;31mTypeError\u001b[0m                                 Traceback (most recent call last)",
      "\u001b[0;32m<ipython-input-34-c59a1585cc5e>\u001b[0m in \u001b[0;36m<module>\u001b[0;34m\u001b[0m\n\u001b[1;32m      8\u001b[0m \u001b[0mcompare\u001b[0m\u001b[0;34m(\u001b[0m\u001b[0;36m1\u001b[0m\u001b[0;34m,\u001b[0m\u001b[0;36m2\u001b[0m\u001b[0;34m)\u001b[0m\u001b[0;34m\u001b[0m\u001b[0;34m\u001b[0m\u001b[0m\n\u001b[1;32m      9\u001b[0m \u001b[0mcompare\u001b[0m\u001b[0;34m(\u001b[0m\u001b[0;36m1\u001b[0m\u001b[0;34m,\u001b[0m\u001b[0;36m2\u001b[0m\u001b[0;34m,\u001b[0m \u001b[0mkey\u001b[0m\u001b[0;34m=\u001b[0m\u001b[0;34m(\u001b[0m\u001b[0;32mlambda\u001b[0m \u001b[0mx\u001b[0m\u001b[0;34m:\u001b[0m \u001b[0;36m1\u001b[0m\u001b[0;34m)\u001b[0m\u001b[0;34m)\u001b[0m\u001b[0;34m\u001b[0m\u001b[0;34m\u001b[0m\u001b[0m\n\u001b[0;32m---> 10\u001b[0;31m \u001b[0mcompare\u001b[0m\u001b[0;34m(\u001b[0m\u001b[0;36m1\u001b[0m\u001b[0;34m,\u001b[0m\u001b[0;36m2\u001b[0m\u001b[0;34m,\u001b[0m \u001b[0;34m(\u001b[0m\u001b[0;32mlambda\u001b[0m \u001b[0mx\u001b[0m\u001b[0;34m:\u001b[0m \u001b[0;36m1\u001b[0m\u001b[0;34m)\u001b[0m\u001b[0;34m)\u001b[0m\u001b[0;34m\u001b[0m\u001b[0;34m\u001b[0m\u001b[0m\n\u001b[0m",
      "\u001b[0;31mTypeError\u001b[0m: compare() takes 2 positional arguments but 3 were given"
     ]
    }
   ],
   "source": [
    "# But this pollutes the namespace with a useless \"ignore\" variable\n",
    "\n",
    "# We can do better:\n",
    "\n",
    "def compare(a, b, *, key=None):\n",
    "    pass\n",
    "\n",
    "compare(1,2)\n",
    "compare(1,2, key=(lambda x: 1))\n",
    "compare(1,2, (lambda x: 1))"
   ]
  },
  {
   "cell_type": "code",
   "execution_count": 35,
   "metadata": {},
   "outputs": [],
   "source": [
    "# and the feedback is also better!"
   ]
  },
  {
   "cell_type": "markdown",
   "metadata": {},
   "source": [
    "# Argument packing and unpacking"
   ]
  },
  {
   "cell_type": "code",
   "execution_count": 36,
   "metadata": {},
   "outputs": [
    {
     "name": "stdout",
     "output_type": "stream",
     "text": [
      "running screenshot on url https://www.easee.online, browser Chrome, version 86.1, resolution 1920x1080, image_type png\n"
     ]
    },
    {
     "data": {
      "text/plain": [
       "'Screenshot taken'"
      ]
     },
     "execution_count": 36,
     "metadata": {},
     "output_type": "execute_result"
    }
   ],
   "source": [
    "# When you call a function it goes through these phases\n",
    "\n",
    "# 1. Collecting the position arguments and keyword arguments\n",
    "\n",
    "kwargs = {\n",
    "    \"browser_version\": \"86.1\",\n",
    "}\n",
    "more_kwargs = {\n",
    "    \"browser_version\": \"1\",\n",
    "}\n",
    "even_more_kwargs = {\n",
    "    \"key\": \"1\",\n",
    "}\n",
    "args = [1,2,3]\n",
    "\n",
    "#take_screenshot(\"https://www.easee.online\", browser=\"Chrome\", **kwargs, **more_kwargs, *args)\n",
    "#take_screenshot(\"https://www.easee.online\", browser=\"Chrome\", *args, **kwargs, **more_kwargs)\n",
    "#take_screenshot(\"https://www.easee.online\", browser=\"Chrome\", **kwargs, **more_kwargs)\n",
    "#take_screenshot(\"https://www.easee.online\", browser=\"Chrome\", **kwargs, **more_kwargs)\n",
    "#take_screenshot(\"https://www.easee.online\", browser=\"Chrome\", **kwargs, **even_more_kwargs)\n",
    "#take_screenshot(\"https://www.easee.online\", use_webkit=True, *args, **kwargs)\n",
    "\n",
    "# wow this gets complicated. Python wants you to keep it simple.\n",
    "take_screenshot(\"https://www.easee.online\", use_webkit=True, **kwargs)\n"
   ]
  },
  {
   "cell_type": "code",
   "execution_count": 37,
   "metadata": {},
   "outputs": [
    {
     "ename": "NameError",
     "evalue": "name 'function_reference' is not defined",
     "output_type": "error",
     "traceback": [
      "\u001b[0;31m---------------------------------------------------------------------------\u001b[0m",
      "\u001b[0;31mNameError\u001b[0m                                 Traceback (most recent call last)",
      "\u001b[0;32m<ipython-input-37-0ae9169e2a26>\u001b[0m in \u001b[0;36m<module>\u001b[0;34m\u001b[0m\n\u001b[1;32m      3\u001b[0m \u001b[0;31m# the function, args and kwargs will be bundled into this:\u001b[0m\u001b[0;34m\u001b[0m\u001b[0;34m\u001b[0m\u001b[0;34m\u001b[0m\u001b[0m\n\u001b[1;32m      4\u001b[0m \u001b[0;34m\u001b[0m\u001b[0m\n\u001b[0;32m----> 5\u001b[0;31m \u001b[0;34m(\u001b[0m\u001b[0mfunction_reference\u001b[0m\u001b[0;34m,\u001b[0m \u001b[0marguments\u001b[0m\u001b[0;34m,\u001b[0m \u001b[0mkeyword_arguments\u001b[0m\u001b[0;34m)\u001b[0m\u001b[0;34m\u001b[0m\u001b[0;34m\u001b[0m\u001b[0m\n\u001b[0m",
      "\u001b[0;31mNameError\u001b[0m: name 'function_reference' is not defined"
     ]
    }
   ],
   "source": [
    "# 2. Transporting the args and kwargs to the function\n",
    "\n",
    "# the function, args and kwargs will be bundled into this:\n",
    "\n",
    "(function_reference, arguments, keyword_arguments)"
   ]
  },
  {
   "cell_type": "code",
   "execution_count": 38,
   "metadata": {},
   "outputs": [],
   "source": [
    "# 3. Then unpacking the args and kwargs into the right places for the function\n",
    "\n",
    "# We'll go into this below"
   ]
  },
  {
   "cell_type": "code",
   "execution_count": 39,
   "metadata": {},
   "outputs": [],
   "source": [
    "# 4. Assign default values to unspecified arguments\n",
    "\n",
    "# this speaks for itself"
   ]
  },
  {
   "cell_type": "code",
   "execution_count": 40,
   "metadata": {},
   "outputs": [],
   "source": [
    "# 5. Actually run the function body with all the arguments assigned.\n",
    "\n",
    "# this speaks for itself"
   ]
  },
  {
   "cell_type": "code",
   "execution_count": 41,
   "metadata": {},
   "outputs": [],
   "source": [
    "# Intermezzo\n",
    "\n",
    "# So we've seen argument unpacking.\n",
    "# It's pretty simple. Any extra positional (not keyword) arguments are captured if you\n",
    "# define *args in the function definition. Note that you can name this however you like.\n",
    "# You can also do\n",
    "\n",
    "def my_func(*arguments):\n",
    "    pass\n",
    "\n",
    "# or\n",
    "\n",
    "def my_func(*yoyoyoyo):\n",
    "    pass\n",
    "\n",
    "# naming it *args is just a convention. Please use it or your code will be very strange.\n",
    "\n",
    "\n",
    "# Back to unpacking the args and kwargs:\n",
    "\n",
    "# When the function is called and all the args and kwargs are packed properly, they have to be unpacked again.\n",
    "\n",
    "# The order for evaluating is this:\n",
    "# 1. first match any positional arguments\n",
    "# 2. then match all keyword arguments. If an argument is already filled, raise an exception\n",
    "# 3. any remaining keyword arguments go into the **kwargs, if defined. If not defined, raise exception\n",
    "# 4. if by this stage not all arguments without a default are used, raise an exception\n",
    "# 5. put any extra positional arguments in *args, if defined. If not defined, raise exception"
   ]
  },
  {
   "cell_type": "markdown",
   "metadata": {},
   "source": [
    "# A couple of rules when doing ...\n",
    "\n",
    "* A: Defining a function\n",
    "* B: Calling a function (packing / bundling all the arguments)\n",
    "* C: Executing a function (unpacking the arguments and matching it to the function)\n",
    "\n"
   ]
  },
  {
   "cell_type": "code",
   "execution_count": 42,
   "metadata": {},
   "outputs": [
    {
     "ename": "SyntaxError",
     "evalue": "non-default argument follows default argument (<ipython-input-42-06b0e68e32e2>, line 6)",
     "output_type": "error",
     "traceback": [
      "\u001b[0;36m  File \u001b[0;32m\"<ipython-input-42-06b0e68e32e2>\"\u001b[0;36m, line \u001b[0;32m6\u001b[0m\n\u001b[0;31m    def my_func(a=None, b):\u001b[0m\n\u001b[0m               ^\u001b[0m\n\u001b[0;31mSyntaxError\u001b[0m\u001b[0;31m:\u001b[0m non-default argument follows default argument\n"
     ]
    }
   ],
   "source": [
    "# A1: non-default can not follow default\n",
    "# good\n",
    "def my_func(a, b=None):\n",
    "    pass\n",
    "#bad\n",
    "def my_func(a=None, b):\n",
    "    pass"
   ]
  },
  {
   "cell_type": "code",
   "execution_count": 43,
   "metadata": {},
   "outputs": [
    {
     "ename": "SyntaxError",
     "evalue": "invalid syntax (<ipython-input-43-3defb479f2f6>, line 8)",
     "output_type": "error",
     "traceback": [
      "\u001b[0;36m  File \u001b[0;32m\"<ipython-input-43-3defb479f2f6>\"\u001b[0;36m, line \u001b[0;32m8\u001b[0m\n\u001b[0;31m    def my_func(**kwargs, a, b):\u001b[0m\n\u001b[0m                          ^\u001b[0m\n\u001b[0;31mSyntaxError\u001b[0m\u001b[0;31m:\u001b[0m invalid syntax\n"
     ]
    }
   ],
   "source": [
    "# A2: **kwargs should be at the end\n",
    "\n",
    "# good\n",
    "def my_func(a, b, **kwargs):\n",
    "    pass\n",
    "\n",
    "# bad\n",
    "def my_func(**kwargs, a, b):\n",
    "    pass"
   ]
  },
  {
   "cell_type": "code",
   "execution_count": 44,
   "metadata": {},
   "outputs": [
    {
     "ename": "SyntaxError",
     "evalue": "positional argument follows keyword argument (<ipython-input-44-d4a3d3a42117>, line 6)",
     "output_type": "error",
     "traceback": [
      "\u001b[0;36m  File \u001b[0;32m\"<ipython-input-44-d4a3d3a42117>\"\u001b[0;36m, line \u001b[0;32m6\u001b[0m\n\u001b[0;31m    take_screenshot(resolution=\"1024x786\", \"https://www.easee.online\")\u001b[0m\n\u001b[0m                                          ^\u001b[0m\n\u001b[0;31mSyntaxError\u001b[0m\u001b[0;31m:\u001b[0m positional argument follows keyword argument\n"
     ]
    }
   ],
   "source": [
    "#B1, positional keywords need to be first, keyword arguments later:\n",
    "#good\n",
    "take_screenshot(\"https://www.easee.online\", resolution=\"1024x786\")\n",
    "\n",
    "#bad\n",
    "take_screenshot(resolution=\"1024x786\", \"https://www.easee.online\")\n",
    "\n",
    "# You can NEVER put a positional keyword after a keyword argument"
   ]
  },
  {
   "cell_type": "code",
   "execution_count": 45,
   "metadata": {},
   "outputs": [],
   "source": [
    "# C at execution, the function just gets 1) a list of arguments and 2) a list of keyword arguments"
   ]
  },
  {
   "cell_type": "code",
   "execution_count": 46,
   "metadata": {},
   "outputs": [
    {
     "ename": "TypeError",
     "evalue": "my_func() takes 1 positional argument but 2 were given",
     "output_type": "error",
     "traceback": [
      "\u001b[0;31m---------------------------------------------------------------------------\u001b[0m",
      "\u001b[0;31mTypeError\u001b[0m                                 Traceback (most recent call last)",
      "\u001b[0;32m<ipython-input-46-ea5ab56e3fef>\u001b[0m in \u001b[0;36m<module>\u001b[0;34m\u001b[0m\n\u001b[1;32m      4\u001b[0m     \u001b[0;32mpass\u001b[0m\u001b[0;34m\u001b[0m\u001b[0;34m\u001b[0m\u001b[0m\n\u001b[1;32m      5\u001b[0m \u001b[0;34m\u001b[0m\u001b[0m\n\u001b[0;32m----> 6\u001b[0;31m \u001b[0mmy_func\u001b[0m\u001b[0;34m(\u001b[0m\u001b[0;36m1\u001b[0m\u001b[0;34m,\u001b[0m \u001b[0;36m2\u001b[0m\u001b[0;34m)\u001b[0m\u001b[0;34m\u001b[0m\u001b[0;34m\u001b[0m\u001b[0m\n\u001b[0m",
      "\u001b[0;31mTypeError\u001b[0m: my_func() takes 1 positional argument but 2 were given"
     ]
    }
   ],
   "source": [
    "# C1 Unless there is an \"overflow\" *args, or **kwargs defined, there can not be more argumemnts\n",
    "\n",
    "def my_func(a):\n",
    "    pass\n",
    "\n",
    "my_func(1, 2)"
   ]
  },
  {
   "cell_type": "code",
   "execution_count": 47,
   "metadata": {},
   "outputs": [
    {
     "ename": "TypeError",
     "evalue": "my_func() got an unexpected keyword argument 'd'",
     "output_type": "error",
     "traceback": [
      "\u001b[0;31m---------------------------------------------------------------------------\u001b[0m",
      "\u001b[0;31mTypeError\u001b[0m                                 Traceback (most recent call last)",
      "\u001b[0;32m<ipython-input-47-28e713346702>\u001b[0m in \u001b[0;36m<module>\u001b[0;34m\u001b[0m\n\u001b[1;32m      4\u001b[0m     \u001b[0;32mpass\u001b[0m\u001b[0;34m\u001b[0m\u001b[0;34m\u001b[0m\u001b[0m\n\u001b[1;32m      5\u001b[0m \u001b[0;34m\u001b[0m\u001b[0m\n\u001b[0;32m----> 6\u001b[0;31m \u001b[0mmy_func\u001b[0m\u001b[0;34m(\u001b[0m\u001b[0;36m1\u001b[0m\u001b[0;34m,\u001b[0m \u001b[0md\u001b[0m\u001b[0;34m=\u001b[0m\u001b[0;36m2\u001b[0m\u001b[0;34m)\u001b[0m\u001b[0;34m\u001b[0m\u001b[0;34m\u001b[0m\u001b[0m\n\u001b[0m",
      "\u001b[0;31mTypeError\u001b[0m: my_func() got an unexpected keyword argument 'd'"
     ]
    }
   ],
   "source": [
    "# C2 Unless there is an \"overflow\" **kwargs defined, all keyword arguments must be matched\n",
    "\n",
    "def my_func(a):\n",
    "    pass\n",
    "\n",
    "my_func(1, d=2)"
   ]
  },
  {
   "cell_type": "code",
   "execution_count": 48,
   "metadata": {},
   "outputs": [],
   "source": [
    "# Playing around with more details is left as an exercise to the reader"
   ]
  },
  {
   "cell_type": "markdown",
   "metadata": {},
   "source": [
    "# Next: mutable vs. immutable"
   ]
  },
  {
   "cell_type": "code",
   "execution_count": 49,
   "metadata": {},
   "outputs": [
    {
     "name": "stdout",
     "output_type": "stream",
     "text": [
      "[1, 2, 3]\n",
      "[1, 2, 3, 'heyyyyy']\n",
      "[1, 2, 3, 'heyyyyy', 'heyyyyy']\n"
     ]
    }
   ],
   "source": [
    "def add_item_to_list(input_list):\n",
    "    input_list.append(\"heyyyyy\")\n",
    "    \n",
    "yo = [1,2,3]\n",
    "print(yo)\n",
    "add_item_to_list(yo)\n",
    "print(yo)\n",
    "add_item_to_list(yo)\n",
    "print(yo)"
   ]
  },
  {
   "cell_type": "code",
   "execution_count": 50,
   "metadata": {},
   "outputs": [],
   "source": [
    "# functions can change objects!"
   ]
  },
  {
   "cell_type": "code",
   "execution_count": 51,
   "metadata": {},
   "outputs": [
    {
     "ename": "AttributeError",
     "evalue": "'tuple' object has no attribute 'append'",
     "output_type": "error",
     "traceback": [
      "\u001b[0;31m---------------------------------------------------------------------------\u001b[0m",
      "\u001b[0;31mAttributeError\u001b[0m                            Traceback (most recent call last)",
      "\u001b[0;32m<ipython-input-51-ce7c834b43f3>\u001b[0m in \u001b[0;36m<module>\u001b[0;34m\u001b[0m\n\u001b[1;32m      2\u001b[0m \u001b[0;34m\u001b[0m\u001b[0m\n\u001b[1;32m      3\u001b[0m \u001b[0myo\u001b[0m \u001b[0;34m=\u001b[0m \u001b[0;34m(\u001b[0m\u001b[0;36m1\u001b[0m\u001b[0;34m,\u001b[0m\u001b[0;36m2\u001b[0m\u001b[0;34m,\u001b[0m\u001b[0;36m3\u001b[0m\u001b[0;34m)\u001b[0m\u001b[0;34m\u001b[0m\u001b[0;34m\u001b[0m\u001b[0m\n\u001b[0;32m----> 4\u001b[0;31m \u001b[0madd_item_to_list\u001b[0m\u001b[0;34m(\u001b[0m\u001b[0myo\u001b[0m\u001b[0;34m)\u001b[0m\u001b[0;34m\u001b[0m\u001b[0;34m\u001b[0m\u001b[0m\n\u001b[0m\u001b[1;32m      5\u001b[0m \u001b[0;34m\u001b[0m\u001b[0m\n\u001b[1;32m      6\u001b[0m \u001b[0;31m# dicts and lists are mutable!\u001b[0m\u001b[0;34m\u001b[0m\u001b[0;34m\u001b[0m\u001b[0;34m\u001b[0m\u001b[0m\n",
      "\u001b[0;32m<ipython-input-49-2846245d4ad8>\u001b[0m in \u001b[0;36madd_item_to_list\u001b[0;34m(input_list)\u001b[0m\n\u001b[1;32m      1\u001b[0m \u001b[0;32mdef\u001b[0m \u001b[0madd_item_to_list\u001b[0m\u001b[0;34m(\u001b[0m\u001b[0minput_list\u001b[0m\u001b[0;34m)\u001b[0m\u001b[0;34m:\u001b[0m\u001b[0;34m\u001b[0m\u001b[0;34m\u001b[0m\u001b[0m\n\u001b[0;32m----> 2\u001b[0;31m     \u001b[0minput_list\u001b[0m\u001b[0;34m.\u001b[0m\u001b[0mappend\u001b[0m\u001b[0;34m(\u001b[0m\u001b[0;34m\"heyyyyy\"\u001b[0m\u001b[0;34m)\u001b[0m\u001b[0;34m\u001b[0m\u001b[0;34m\u001b[0m\u001b[0m\n\u001b[0m\u001b[1;32m      3\u001b[0m \u001b[0;34m\u001b[0m\u001b[0m\n\u001b[1;32m      4\u001b[0m \u001b[0myo\u001b[0m \u001b[0;34m=\u001b[0m \u001b[0;34m[\u001b[0m\u001b[0;36m1\u001b[0m\u001b[0;34m,\u001b[0m\u001b[0;36m2\u001b[0m\u001b[0;34m,\u001b[0m\u001b[0;36m3\u001b[0m\u001b[0;34m]\u001b[0m\u001b[0;34m\u001b[0m\u001b[0;34m\u001b[0m\u001b[0m\n\u001b[1;32m      5\u001b[0m \u001b[0mprint\u001b[0m\u001b[0;34m(\u001b[0m\u001b[0myo\u001b[0m\u001b[0;34m)\u001b[0m\u001b[0;34m\u001b[0m\u001b[0;34m\u001b[0m\u001b[0m\n",
      "\u001b[0;31mAttributeError\u001b[0m: 'tuple' object has no attribute 'append'"
     ]
    }
   ],
   "source": [
    "# if you don't want this, use immutable objects, such as numbers, strings, tuples!\n",
    "\n",
    "yo = (1,2,3)\n",
    "add_item_to_list(yo)\n",
    "\n",
    "# dicts and lists are mutable!\n",
    "# note: frozenset == immutable dict, tuple == immutable list"
   ]
  },
  {
   "cell_type": "code",
   "execution_count": 52,
   "metadata": {},
   "outputs": [
    {
     "name": "stdout",
     "output_type": "stream",
     "text": [
      "XYZ\n"
     ]
    }
   ],
   "source": [
    "# Strings are immutable\n",
    "\n",
    "def change_string(input_string):\n",
    "    input_string = input_string + \"AAAAA\"\n",
    "    \n",
    "s = \"XYZ\"\n",
    "change_string(s)\n",
    "print(s)"
   ]
  },
  {
   "cell_type": "code",
   "execution_count": 53,
   "metadata": {},
   "outputs": [
    {
     "name": "stdout",
     "output_type": "stream",
     "text": [
      "['something']\n",
      "['something', 'something']\n",
      "['something', 'something', 'something']\n",
      "['something', 'something', 'something', 'something']\n"
     ]
    }
   ],
   "source": [
    "# Mutable default objects in function definitions:\n",
    "\n",
    "def add_something_to_list(my_list=[]):\n",
    "    my_list.append(\"something\")\n",
    "    return my_list\n",
    "    \n",
    "print(add_something_to_list())\n",
    "print(add_something_to_list())\n",
    "print(add_something_to_list())\n",
    "print(add_something_to_list())"
   ]
  },
  {
   "cell_type": "code",
   "execution_count": 54,
   "metadata": {},
   "outputs": [],
   "source": [
    "# what the hell is going on!?"
   ]
  },
  {
   "cell_type": "code",
   "execution_count": 55,
   "metadata": {},
   "outputs": [
    {
     "data": {
      "text/plain": [
       "['__annotations__',\n",
       " '__call__',\n",
       " '__class__',\n",
       " '__closure__',\n",
       " '__code__',\n",
       " '__defaults__',\n",
       " '__delattr__',\n",
       " '__dict__',\n",
       " '__dir__',\n",
       " '__doc__',\n",
       " '__eq__',\n",
       " '__format__',\n",
       " '__ge__',\n",
       " '__get__',\n",
       " '__getattribute__',\n",
       " '__globals__',\n",
       " '__gt__',\n",
       " '__hash__',\n",
       " '__init__',\n",
       " '__init_subclass__',\n",
       " '__kwdefaults__',\n",
       " '__le__',\n",
       " '__lt__',\n",
       " '__module__',\n",
       " '__name__',\n",
       " '__ne__',\n",
       " '__new__',\n",
       " '__qualname__',\n",
       " '__reduce__',\n",
       " '__reduce_ex__',\n",
       " '__repr__',\n",
       " '__setattr__',\n",
       " '__sizeof__',\n",
       " '__str__',\n",
       " '__subclasshook__']"
      ]
     },
     "execution_count": 55,
     "metadata": {},
     "output_type": "execute_result"
    }
   ],
   "source": [
    "# The function is defined once, when the `[]` is evaluated and a new list is created and stored in function.\n",
    "\n",
    "dir(add_something_to_list)"
   ]
  },
  {
   "cell_type": "code",
   "execution_count": 56,
   "metadata": {},
   "outputs": [
    {
     "name": "stdout",
     "output_type": "stream",
     "text": [
      "(['something', 'something', 'something', 'something'],)\n"
     ]
    }
   ],
   "source": [
    "print(add_something_to_list.__defaults__)"
   ]
  },
  {
   "cell_type": "code",
   "execution_count": 57,
   "metadata": {},
   "outputs": [
    {
     "name": "stdout",
     "output_type": "stream",
     "text": [
      "['something']\n",
      "['something']\n",
      "['something']\n",
      "['something']\n"
     ]
    }
   ],
   "source": [
    "# The new list operation `[]`  is just executed once! Make sure you use immutable objects there.\n",
    "\n",
    "def add_something_to_list_proper(my_list=None):\n",
    "    if my_list is None:\n",
    "        my_list = []\n",
    "    my_list.append(\"something\")\n",
    "    return my_list\n",
    "\n",
    "print(add_something_to_list_proper())\n",
    "print(add_something_to_list_proper())\n",
    "print(add_something_to_list_proper())\n",
    "print(add_something_to_list_proper())"
   ]
  },
  {
   "cell_type": "markdown",
   "metadata": {},
   "source": [
    "# Functools partial"
   ]
  },
  {
   "cell_type": "code",
   "execution_count": 58,
   "metadata": {},
   "outputs": [],
   "source": [
    "# functools is a cool library.\n",
    "# if you understand functools.partial you get a cookie.\n",
    "\n",
    "\n",
    "def partial(func, *args, **keywords):\n",
    "    def newfunc(*fargs, **fkeywords):\n",
    "        newkeywords = keywords.copy()\n",
    "        newkeywords.update(fkeywords)\n",
    "        return func(*(args + fargs), **newkeywords)\n",
    "    newfunc.func = func\n",
    "    newfunc.args = args\n",
    "    newfunc.keywords = keywords\n",
    "    return newfunc"
   ]
  },
  {
   "cell_type": "code",
   "execution_count": 59,
   "metadata": {},
   "outputs": [
    {
     "name": "stdout",
     "output_type": "stream",
     "text": [
      "running screenshot on url https://www.easee.online, browser Firefox, version 37, resolution 1920x1080, image_type png\n"
     ]
    },
    {
     "data": {
      "text/plain": [
       "'Screenshot taken'"
      ]
     },
     "execution_count": 59,
     "metadata": {},
     "output_type": "execute_result"
    }
   ],
   "source": [
    "# Suppose the `take_screenshot` function from above did not define any defaults,\n",
    "# or not the right defaults for you. Then you could do this:\n",
    "\n",
    "from functools import partial\n",
    "\n",
    "take_screenshot_firefox = partial(take_screenshot, browser=\"Firefox\", browser_version=\"37\")\n",
    "\n",
    "take_screenshot_firefox(\"https://www.easee.online\")"
   ]
  },
  {
   "cell_type": "code",
   "execution_count": 60,
   "metadata": {},
   "outputs": [],
   "source": [
    "# again: understanding the functools partial definition above is left as an exercise. Kudos if you understand."
   ]
  },
  {
   "cell_type": "markdown",
   "metadata": {},
   "source": [
    "# Lambda functions"
   ]
  },
  {
   "cell_type": "code",
   "execution_count": 61,
   "metadata": {},
   "outputs": [],
   "source": [
    "# We started with simple lambda functions.\n",
    "\n",
    "# Lambda functions are just functions without a name. Great for one-liners.\n",
    "def get_users_from_database():\n",
    "    # whatever, this is just an example\n",
    "    return []\n",
    "\n",
    "user_search_result = filter(lambda user: user.last_name == \"Doe\" and user.first_name == \"Joe\", get_users_from_database())"
   ]
  },
  {
   "cell_type": "code",
   "execution_count": 62,
   "metadata": {},
   "outputs": [
    {
     "data": {
      "text/plain": [
       "<function __main__.<lambda>(a, *args, **kwargs)>"
      ]
     },
     "execution_count": 62,
     "metadata": {},
     "output_type": "execute_result"
    }
   ],
   "source": [
    "# lambda functions also support *args and **kwargs!\n",
    "\n",
    "lambda a, *args, **kwargs: print(a)"
   ]
  },
  {
   "cell_type": "markdown",
   "metadata": {},
   "source": [
    "# Type hinting"
   ]
  },
  {
   "cell_type": "code",
   "execution_count": 63,
   "metadata": {},
   "outputs": [
    {
     "data": {
      "text/plain": [
       "3"
      ]
     },
     "execution_count": 63,
     "metadata": {},
     "output_type": "execute_result"
    }
   ],
   "source": [
    "# Type hints are great!\n",
    "# They allow the interpreter and other code tools to reason about your code and help you spot problems.\n",
    "\n",
    "def concatenate_strings(a, b):\n",
    "    return a + b\n",
    "\n",
    "concatenate_strings(1, 2)"
   ]
  },
  {
   "cell_type": "code",
   "execution_count": 64,
   "metadata": {},
   "outputs": [],
   "source": [
    "# See the problem there? The computer didn't."
   ]
  },
  {
   "cell_type": "code",
   "execution_count": 65,
   "metadata": {},
   "outputs": [
    {
     "data": {
      "text/plain": [
       "3"
      ]
     },
     "execution_count": 65,
     "metadata": {},
     "output_type": "execute_result"
    }
   ],
   "source": [
    "# Type hints allow the computer to think about this.\n",
    "def concatenate_strings(a: str, b: str):\n",
    "    return a + b\n",
    "\n",
    "\n",
    "concatenate_strings(1, 2)"
   ]
  },
  {
   "cell_type": "code",
   "execution_count": 66,
   "metadata": {},
   "outputs": [],
   "source": [
    "# Ok, it just works... The tooling is not baked into the language, we can use `mypy` for this."
   ]
  },
  {
   "cell_type": "code",
   "execution_count": 67,
   "metadata": {},
   "outputs": [],
   "source": [
    "#> mypy jo.py\n",
    "#jo.py:5: error: Argument 1 to \"concatenate_strings\" has incompatible type \"int\"; expected \"str\"\n",
    "#jo.py:5: error: Argument 2 to \"concatenate_strings\" has incompatible type \"int\"; expected \"str\"\n",
    "#Found 2 errors in 1 file (checked 1 source file)"
   ]
  },
  {
   "cell_type": "code",
   "execution_count": 68,
   "metadata": {},
   "outputs": [
    {
     "data": {
      "text/plain": [
       "'12'"
      ]
     },
     "execution_count": 68,
     "metadata": {},
     "output_type": "execute_result"
    }
   ],
   "source": [
    "# But what if we want to support Java like overloading?\n",
    "# without type hints we could do this:\n",
    "\n",
    "def concatenate_strings(a, b):\n",
    "    if type(a) == int and type(b) == int:\n",
    "        return str(a) + str(b)\n",
    "    elif type(a) == str and type(b) == str:\n",
    "        return a + b\n",
    "    else:\n",
    "        raise ValueError(\"invalid types\")\n",
    "\n",
    "concatenate_strings(1, 2)\n"
   ]
  },
  {
   "cell_type": "code",
   "execution_count": 69,
   "metadata": {},
   "outputs": [
    {
     "name": "stdout",
     "output_type": "stream",
     "text": [
      "3\n",
      "ab\n"
     ]
    },
    {
     "ename": "TypeError",
     "evalue": "can only concatenate str (not \"int\") to str",
     "output_type": "error",
     "traceback": [
      "\u001b[0;31m---------------------------------------------------------------------------\u001b[0m",
      "\u001b[0;31mTypeError\u001b[0m                                 Traceback (most recent call last)",
      "\u001b[0;32m<ipython-input-69-b7826dbb2113>\u001b[0m in \u001b[0;36m<module>\u001b[0;34m\u001b[0m\n\u001b[1;32m      8\u001b[0m \u001b[0mprint\u001b[0m\u001b[0;34m(\u001b[0m\u001b[0mconcatenate_strings\u001b[0m\u001b[0;34m(\u001b[0m\u001b[0;36m1\u001b[0m\u001b[0;34m,\u001b[0m \u001b[0;36m2\u001b[0m\u001b[0;34m)\u001b[0m\u001b[0;34m)\u001b[0m\u001b[0;34m\u001b[0m\u001b[0;34m\u001b[0m\u001b[0m\n\u001b[1;32m      9\u001b[0m \u001b[0mprint\u001b[0m\u001b[0;34m(\u001b[0m\u001b[0mconcatenate_strings\u001b[0m\u001b[0;34m(\u001b[0m\u001b[0;34m\"a\"\u001b[0m\u001b[0;34m,\u001b[0m \u001b[0;34m\"b\"\u001b[0m\u001b[0;34m)\u001b[0m\u001b[0;34m)\u001b[0m\u001b[0;34m\u001b[0m\u001b[0;34m\u001b[0m\u001b[0m\n\u001b[0;32m---> 10\u001b[0;31m \u001b[0mprint\u001b[0m\u001b[0;34m(\u001b[0m\u001b[0mconcatenate_strings\u001b[0m\u001b[0;34m(\u001b[0m\u001b[0;34m\"a\"\u001b[0m\u001b[0;34m,\u001b[0m \u001b[0;36m2\u001b[0m\u001b[0;34m)\u001b[0m\u001b[0;34m)\u001b[0m\u001b[0;34m\u001b[0m\u001b[0;34m\u001b[0m\u001b[0m\n\u001b[0m",
      "\u001b[0;32m<ipython-input-69-b7826dbb2113>\u001b[0m in \u001b[0;36mconcatenate_strings\u001b[0;34m(a, b)\u001b[0m\n\u001b[1;32m      4\u001b[0m \u001b[0;34m\u001b[0m\u001b[0m\n\u001b[1;32m      5\u001b[0m \u001b[0;32mdef\u001b[0m \u001b[0mconcatenate_strings\u001b[0m\u001b[0;34m(\u001b[0m\u001b[0ma\u001b[0m\u001b[0;34m:\u001b[0m \u001b[0mUnion\u001b[0m\u001b[0;34m[\u001b[0m\u001b[0mstr\u001b[0m\u001b[0;34m,\u001b[0m \u001b[0mint\u001b[0m\u001b[0;34m]\u001b[0m\u001b[0;34m,\u001b[0m \u001b[0mb\u001b[0m\u001b[0;34m:\u001b[0m \u001b[0mUnion\u001b[0m\u001b[0;34m[\u001b[0m\u001b[0mstr\u001b[0m\u001b[0;34m,\u001b[0m \u001b[0mint\u001b[0m\u001b[0;34m]\u001b[0m\u001b[0;34m)\u001b[0m\u001b[0;34m:\u001b[0m\u001b[0;34m\u001b[0m\u001b[0;34m\u001b[0m\u001b[0m\n\u001b[0;32m----> 6\u001b[0;31m     \u001b[0;32mreturn\u001b[0m \u001b[0ma\u001b[0m \u001b[0;34m+\u001b[0m \u001b[0mb\u001b[0m\u001b[0;34m\u001b[0m\u001b[0;34m\u001b[0m\u001b[0m\n\u001b[0m\u001b[1;32m      7\u001b[0m \u001b[0;34m\u001b[0m\u001b[0m\n\u001b[1;32m      8\u001b[0m \u001b[0mprint\u001b[0m\u001b[0;34m(\u001b[0m\u001b[0mconcatenate_strings\u001b[0m\u001b[0;34m(\u001b[0m\u001b[0;36m1\u001b[0m\u001b[0;34m,\u001b[0m \u001b[0;36m2\u001b[0m\u001b[0;34m)\u001b[0m\u001b[0;34m)\u001b[0m\u001b[0;34m\u001b[0m\u001b[0;34m\u001b[0m\u001b[0m\n",
      "\u001b[0;31mTypeError\u001b[0m: can only concatenate str (not \"int\") to str"
     ]
    }
   ],
   "source": [
    "# With type hints we can do this (note that it is not equivalent to the above)\n",
    "\n",
    "from typing import Union\n",
    "\n",
    "def concatenate_strings(a: Union[str, int], b: Union[str, int]):\n",
    "    return a + b\n",
    "\n",
    "print(concatenate_strings(1, 2))\n",
    "print(concatenate_strings(\"a\", \"b\"))\n",
    "print(concatenate_strings(\"a\", 2))"
   ]
  },
  {
   "cell_type": "code",
   "execution_count": 70,
   "metadata": {},
   "outputs": [],
   "source": [
    "# the first two cases work. mypy catches this problem:\n",
    "\n",
    "# > jo.py:7: error: Unsupported operand types for + (\"str\" and \"int\")\n",
    "# jo.py:7: error: Unsupported operand types for + (\"int\" and \"str\")\n",
    "# jo.py:7: note: Both left and right operands are unions\n",
    "# Found 2 errors in 1 file (checked 1 source file)"
   ]
  },
  {
   "cell_type": "code",
   "execution_count": 71,
   "metadata": {},
   "outputs": [],
   "source": [
    "# What you must know:\n",
    "# * Type hinting is great for large projects or complex code\n",
    "# * Python has gradual type hinting, which is great\n",
    "# * It's ready for production use, but there's no widespread adoption yet"
   ]
  },
  {
   "cell_type": "markdown",
   "metadata": {},
   "source": [
    "# Wrap up\n",
    "\n",
    "Check out https://docs.python-guide.org/writing/gotchas/"
   ]
  }
 ],
 "metadata": {
  "kernelspec": {
   "display_name": "Python 3",
   "language": "python",
   "name": "python3"
  },
  "language_info": {
   "codemirror_mode": {
    "name": "ipython",
    "version": 3
   },
   "file_extension": ".py",
   "mimetype": "text/x-python",
   "name": "python",
   "nbconvert_exporter": "python",
   "pygments_lexer": "ipython3",
   "version": "3.7.3"
  }
 },
 "nbformat": 4,
 "nbformat_minor": 4
}
