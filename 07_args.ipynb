{
 "cells": [
  {
   "cell_type": "markdown",
   "metadata": {},
   "source": [
    "# Function arguments in Python"
   ]
  },
  {
   "cell_type": "markdown",
   "metadata": {},
   "source": [
    "**C O N T E N T S**\n",
    "- [Arguments](#1)\n",
    "    - [Types of arguments](#11)\n",
    "    - [Passing the arguments](#12)\n",
    "    - [Variable-length arguments (*args, *kwargs)](#13)\n",
    "    - [Handling pitfalls](#14)\n",
    "    - # TODO Packing/Unpacking arguments\n",
    "- [Functools.partial](#2)\n",
    "- [Lambda & Late binding](#3)"
   ]
  },
  {
   "cell_type": "markdown",
   "metadata": {},
   "source": [
    "<a id=\"1\"></a>\n",
    "## Arguments"
   ]
  },
  {
   "cell_type": "markdown",
   "metadata": {},
   "source": [
    "<a id=\"11\"></a>\n",
    "### 5 types of arguments:\n",
    "- default arguments\n",
    "- keyword arguments\n",
    "- positional arguments\n",
    "- arbitrary positional arguments (*args)\n",
    "- arbitrary keyword arguments (**kwargs)"
   ]
  },
  {
   "cell_type": "markdown",
   "metadata": {},
   "source": [
    "![function arguments and parameters](https://pynative.com/wp-content/uploads/2022/08/python_function_arguments_types.jpg)"
   ]
  },
  {
   "cell_type": "code",
   "execution_count": 28,
   "metadata": {},
   "outputs": [
    {
     "name": "stdout",
     "output_type": "stream",
     "text": [
      "None\n"
     ]
    }
   ],
   "source": [
    "# default argument\n",
    "def student(name=None):\n",
    "    print(name)\n",
    "    \n",
    "student()"
   ]
  },
  {
   "cell_type": "code",
   "execution_count": 29,
   "metadata": {},
   "outputs": [
    {
     "name": "stdout",
     "output_type": "stream",
     "text": [
      "Gene\n"
     ]
    }
   ],
   "source": [
    "# keyword argument\n",
    "def student(name):\n",
    "    print(name)\n",
    "\n",
    "student(name='Gene')"
   ]
  },
  {
   "cell_type": "code",
   "execution_count": 30,
   "metadata": {},
   "outputs": [
    {
     "name": "stdout",
     "output_type": "stream",
     "text": [
      "Gene\n"
     ]
    }
   ],
   "source": [
    "# positional argument\n",
    "def student(name):\n",
    "    print(name)\n",
    "    \n",
    "student('Gene')"
   ]
  },
  {
   "cell_type": "code",
   "execution_count": 31,
   "metadata": {},
   "outputs": [
    {
     "name": "stdout",
     "output_type": "stream",
     "text": [
      "('Gene', 'Zak')\n"
     ]
    }
   ],
   "source": [
    "# arbitary positional ARGumentS\n",
    "def student(*args):\n",
    "    print(args)\n",
    "\n",
    "student('Gene', 'Zak')"
   ]
  },
  {
   "cell_type": "code",
   "execution_count": 32,
   "metadata": {},
   "outputs": [
    {
     "name": "stdout",
     "output_type": "stream",
     "text": [
      "{'title': 'Gene', 'description': 'Zak'}\n"
     ]
    }
   ],
   "source": [
    "# arbitary Keyword ARGumentS\n",
    "def student(**kwargs):\n",
    "    print(kwargs)\n",
    "\n",
    "student(title='Gene', description='Zak')"
   ]
  },
  {
   "cell_type": "markdown",
   "metadata": {},
   "source": [
    "***\n",
    "<a id=\"12\"></a>\n",
    "### Ways to pass the arguments in function"
   ]
  },
  {
   "cell_type": "code",
   "execution_count": 33,
   "metadata": {},
   "outputs": [
    {
     "name": "stdout",
     "output_type": "stream",
     "text": [
      "Student Details: Jessa 14\n",
      "Student Details: Jon 12\n",
      "Student Details: Donald 13\n"
     ]
    }
   ],
   "source": [
    "# function with 2 keyword arguments\n",
    "def student(name, age):\n",
    "    print('Student Details:', name, age)\n",
    "\n",
    "# default function call\n",
    "student('Jessa', 14)\n",
    "\n",
    "# both keyword arguments\n",
    "student(name='Jon', age=12)\n",
    "\n",
    "# 1 positional and 1 keyword\n",
    "student('Donald', age=13)"
   ]
  },
  {
   "cell_type": "markdown",
   "metadata": {},
   "source": [
    "#### Important points"
   ]
  },
  {
   "cell_type": "markdown",
   "metadata": {},
   "source": [
    "> (!) default arguments should follow non-default arguments"
   ]
  },
  {
   "cell_type": "code",
   "execution_count": 34,
   "metadata": {},
   "outputs": [
    {
     "ename": "SyntaxError",
     "evalue": "non-default argument follows default argument (3979908648.py, line 1)",
     "output_type": "error",
     "traceback": [
      "\u001b[1;36m  Cell \u001b[1;32mIn[34], line 1\u001b[1;36m\u001b[0m\n\u001b[1;33m    def get_student(name, grade='Five', age):\u001b[0m\n\u001b[1;37m                                        ^\u001b[0m\n\u001b[1;31mSyntaxError\u001b[0m\u001b[1;31m:\u001b[0m non-default argument follows default argument\n"
     ]
    }
   ],
   "source": [
    "def get_student(name, grade='Five', age):\n",
    "    print(name, age, grade)"
   ]
  },
  {
   "cell_type": "markdown",
   "metadata": {},
   "source": [
    "> (!) keyword arguments should follow positional arguments only"
   ]
  },
  {
   "cell_type": "code",
   "execution_count": 36,
   "metadata": {},
   "outputs": [
    {
     "ename": "SyntaxError",
     "evalue": "positional argument follows keyword argument (1779554206.py, line 4)",
     "output_type": "error",
     "traceback": [
      "\u001b[1;36m  Cell \u001b[1;32mIn[36], line 4\u001b[1;36m\u001b[0m\n\u001b[1;33m    get_student(name='Jessa', 12, 'Six')\u001b[0m\n\u001b[1;37m                                       ^\u001b[0m\n\u001b[1;31mSyntaxError\u001b[0m\u001b[1;31m:\u001b[0m positional argument follows keyword argument\n"
     ]
    }
   ],
   "source": [
    "def get_student(name, age, grade):\n",
    "    print(name, age, grade)\n",
    "\n",
    "get_student(name='Jessa', 12, 'Six')"
   ]
  },
  {
   "cell_type": "markdown",
   "metadata": {},
   "source": [
    "> (!) all the keyword arguments passed must match one of the arguments accepted by the function"
   ]
  },
  {
   "cell_type": "code",
   "execution_count": 37,
   "metadata": {},
   "outputs": [
    {
     "name": "stdout",
     "output_type": "stream",
     "text": [
      "Jessa 12 Six\n"
     ]
    },
    {
     "ename": "TypeError",
     "evalue": "get_student() got an unexpected keyword argument 'standard'",
     "output_type": "error",
     "traceback": [
      "\u001b[1;31m---------------------------------------------------------------------------\u001b[0m",
      "\u001b[1;31mTypeError\u001b[0m                                 Traceback (most recent call last)",
      "Cell \u001b[1;32mIn[37], line 6\u001b[0m\n\u001b[0;32m      2\u001b[0m     \u001b[39mprint\u001b[39m(name, age, grade)\n\u001b[0;32m      4\u001b[0m get_student(grade\u001b[39m=\u001b[39m\u001b[39m'\u001b[39m\u001b[39mSix\u001b[39m\u001b[39m'\u001b[39m, name\u001b[39m=\u001b[39m\u001b[39m'\u001b[39m\u001b[39mJessa\u001b[39m\u001b[39m'\u001b[39m, age\u001b[39m=\u001b[39m\u001b[39m12\u001b[39m)\n\u001b[1;32m----> 6\u001b[0m get_student(name\u001b[39m=\u001b[39;49m\u001b[39m'\u001b[39;49m\u001b[39mJessa\u001b[39;49m\u001b[39m'\u001b[39;49m, age\u001b[39m=\u001b[39;49m\u001b[39m12\u001b[39;49m, standard\u001b[39m=\u001b[39;49m\u001b[39m'\u001b[39;49m\u001b[39mSix\u001b[39;49m\u001b[39m'\u001b[39;49m)\n",
      "\u001b[1;31mTypeError\u001b[0m: get_student() got an unexpected keyword argument 'standard'"
     ]
    }
   ],
   "source": [
    "def get_student(name, age, grade):\n",
    "    print(name, age, grade)\n",
    "\n",
    "get_student(grade='Six', name='Jessa', age=12)\n",
    "\n",
    "get_student(name='Jessa', age=12, standard='Six')"
   ]
  },
  {
   "cell_type": "markdown",
   "metadata": {},
   "source": [
    "> (!) no argument should receive a value more than once"
   ]
  },
  {
   "cell_type": "code",
   "execution_count": 38,
   "metadata": {},
   "outputs": [
    {
     "ename": "SyntaxError",
     "evalue": "keyword argument repeated: age (3781992675.py, line 4)",
     "output_type": "error",
     "traceback": [
      "\u001b[1;36m  Cell \u001b[1;32mIn[38], line 4\u001b[1;36m\u001b[0m\n\u001b[1;33m    student(name='Jon', age=12, grade='Six', age=12)\u001b[0m\n\u001b[1;37m                                             ^\u001b[0m\n\u001b[1;31mSyntaxError\u001b[0m\u001b[1;31m:\u001b[0m keyword argument repeated: age\n"
     ]
    }
   ],
   "source": [
    "def student(name, age, grade):\n",
    "    print(name, grade, age)\n",
    "\n",
    "student(name='Jon', age=12, grade='Six', age=12)"
   ]
  },
  {
   "cell_type": "markdown",
   "metadata": {},
   "source": [
    "***\n",
    "<a id=\"13\"></a>\n",
    "### Variable-length arguments"
   ]
  },
  {
   "cell_type": "markdown",
   "metadata": {},
   "source": [
    "If we need to pass multiple arguments to the function, we can use arbitrary arguments or variable-length arguments.\n",
    "\n",
    "**Types of Arbitrary Arguments**:\n",
    "- arbitrary positional arguments (*args)\n",
    "- arbitrary keyword arguments (**kwargs)"
   ]
  },
  {
   "cell_type": "markdown",
   "metadata": {},
   "source": [
    "#### Arbitrary positional arguments (*args)"
   ]
  },
  {
   "cell_type": "markdown",
   "metadata": {},
   "source": [
    "This is a simple function that takes three arguments and returns their average:"
   ]
  },
  {
   "cell_type": "code",
   "execution_count": 39,
   "metadata": {},
   "outputs": [
    {
     "name": "stdout",
     "output_type": "stream",
     "text": [
      "Average 63.333333333333336\n"
     ]
    }
   ],
   "source": [
    "def percentage(sub1, sub2, sub3):\n",
    "    avg = (sub1 + sub2 + sub3) / 3\n",
    "    print('Average', avg)\n",
    "\n",
    "percentage(56, 61, 73)"
   ]
  },
  {
   "cell_type": "markdown",
   "metadata": {},
   "source": [
    "This function works, but it’s limited to only three arguments. We can use function with variable-length arguments:"
   ]
  },
  {
   "cell_type": "code",
   "execution_count": 40,
   "metadata": {},
   "outputs": [
    {
     "name": "stdout",
     "output_type": "stream",
     "text": [
      "Average = 63.333333333333336\n"
     ]
    }
   ],
   "source": [
    "# function with variable-length arguments\n",
    "def percentage(*args):\n",
    "    sum = 0\n",
    "    for i in args:\n",
    "        # get total\n",
    "        sum = sum + i\n",
    "    # calculate average\n",
    "    avg = sum / len(args)\n",
    "    print('Average =', avg)\n",
    "\n",
    "percentage(56, 61, 73)"
   ]
  },
  {
   "cell_type": "markdown",
   "metadata": {},
   "source": [
    "> (!) **args** is just a name. You can choose any name that you prefer, such as *subjects. But better use *args. It's the worldwide standard. "
   ]
  },
  {
   "cell_type": "markdown",
   "metadata": {},
   "source": [
    "#### Arbitrary keyword arguments (**kwargs)"
   ]
  },
  {
   "cell_type": "code",
   "execution_count": 41,
   "metadata": {},
   "outputs": [
    {
     "name": "stdout",
     "output_type": "stream",
     "text": [
      "math = 56\n",
      "english = 61\n",
      "science = 73\n",
      "it = 89\n"
     ]
    }
   ],
   "source": [
    "# function with variable-length keyword arguments\n",
    "def percentage(**kwargs):\n",
    "    sum = 0\n",
    "    for sub in kwargs:\n",
    "        # get argument name\n",
    "        sub_name = sub\n",
    "        # get argument value\n",
    "        sub_marks = kwargs[sub]\n",
    "        print(sub_name, \"=\", sub_marks)\n",
    "\n",
    "# pass multiple keyword arguments\n",
    "percentage(math=56, english=61, science=73, it=89)"
   ]
  },
  {
   "cell_type": "markdown",
   "metadata": {},
   "source": [
    "> (!) kwargs must be after args"
   ]
  },
  {
   "cell_type": "code",
   "execution_count": 45,
   "metadata": {},
   "outputs": [
    {
     "ename": "SyntaxError",
     "evalue": "invalid syntax (3044639555.py, line 1)",
     "output_type": "error",
     "traceback": [
      "\u001b[1;36m  Cell \u001b[1;32mIn[45], line 1\u001b[1;36m\u001b[0m\n\u001b[1;33m    def calculator(**kwargs, *args):\u001b[0m\n\u001b[1;37m                             ^\u001b[0m\n\u001b[1;31mSyntaxError\u001b[0m\u001b[1;31m:\u001b[0m invalid syntax\n"
     ]
    }
   ],
   "source": [
    "def calculator(**kwargs, *args):\n",
    "    pass"
   ]
  },
  {
   "cell_type": "markdown",
   "metadata": {},
   "source": [
    "#### Forcing naming of parameters when calling a function"
   ]
  },
  {
   "cell_type": "markdown",
   "metadata": {},
   "source": [
    "> (!) parameters after “*” or “*identifier” are keyword-only parameters and may only be passed used keyword arguments"
   ]
  },
  {
   "cell_type": "code",
   "execution_count": 46,
   "metadata": {},
   "outputs": [
    {
     "name": "stdout",
     "output_type": "stream",
     "text": [
      "10 20\n"
     ]
    },
    {
     "ename": "TypeError",
     "evalue": "calculator() takes 1 positional argument but 2 were given",
     "output_type": "error",
     "traceback": [
      "\u001b[1;31m---------------------------------------------------------------------------\u001b[0m",
      "\u001b[1;31mTypeError\u001b[0m                                 Traceback (most recent call last)",
      "Cell \u001b[1;32mIn[46], line 6\u001b[0m\n\u001b[0;32m      2\u001b[0m     \u001b[39mprint\u001b[39m(pos, forcenamed)\n\u001b[0;32m      4\u001b[0m calculator(\u001b[39m10\u001b[39m, forcenamed\u001b[39m=\u001b[39m\u001b[39m20\u001b[39m)\n\u001b[1;32m----> 6\u001b[0m calculator(\u001b[39m10\u001b[39;49m, \u001b[39m20\u001b[39;49m)\n",
      "\u001b[1;31mTypeError\u001b[0m: calculator() takes 1 positional argument but 2 were given"
     ]
    }
   ],
   "source": [
    "def calculator(pos, *, forcenamed):\n",
    "    print(pos, forcenamed)\n",
    "    \n",
    "calculator(10, forcenamed=20)\n",
    "\n",
    "calculator(10, 20)"
   ]
  },
  {
   "cell_type": "markdown",
   "metadata": {},
   "source": [
    "***\n",
    "<a id=\"14\"></a>\n",
    "### Handling pitfalls"
   ]
  },
  {
   "cell_type": "markdown",
   "metadata": {},
   "source": [
    "Good to read: https://www.python-engineer.com/posts/5-python-pitfalls/"
   ]
  },
  {
   "cell_type": "markdown",
   "metadata": {},
   "source": [
    "Important case"
   ]
  },
  {
   "cell_type": "code",
   "execution_count": 54,
   "metadata": {},
   "outputs": [
    {
     "name": "stdout",
     "output_type": "stream",
     "text": [
      "[5]\n",
      "[5, 5]\n"
     ]
    }
   ],
   "source": [
    "# function with pitfall\n",
    "def func(arr = []):\n",
    "    arr.append(5)\n",
    "    print(arr)\n",
    "\n",
    "func()\n",
    "func()"
   ]
  },
  {
   "cell_type": "code",
   "execution_count": 55,
   "metadata": {},
   "outputs": [
    {
     "name": "stdout",
     "output_type": "stream",
     "text": [
      "[5]\n",
      "[5]\n"
     ]
    }
   ],
   "source": [
    "# way to fix\n",
    "def func(arr = None):\n",
    "    if arr is None:\n",
    "        arr = []\n",
    "    arr.append(5)\n",
    "    print(arr)\n",
    "\n",
    "func()\n",
    "func()"
   ]
  },
  {
   "cell_type": "markdown",
   "metadata": {},
   "source": [
    "> (!) it's happening because Python scope assign the default values only once"
   ]
  },
  {
   "cell_type": "markdown",
   "metadata": {},
   "source": [
    "<a id=\"2\"></a>\n",
    "## Functools.partial"
   ]
  },
  {
   "cell_type": "code",
   "execution_count": 57,
   "metadata": {},
   "outputs": [
    {
     "name": "stdout",
     "output_type": "stream",
     "text": [
      "20\n"
     ]
    }
   ],
   "source": [
    "def multiply(a, b):\n",
    "    return a * b\n",
    "\n",
    "\n",
    "def double(a):\n",
    "    return multiply(a, 2)\n",
    "\n",
    "\n",
    "result = double(10)\n",
    "print(result)  # 20"
   ]
  },
  {
   "cell_type": "code",
   "execution_count": 60,
   "metadata": {},
   "outputs": [
    {
     "name": "stdout",
     "output_type": "stream",
     "text": [
      "20\n",
      "20\n"
     ]
    }
   ],
   "source": [
    "from functools import partial\n",
    "\n",
    "def multiply(a, b):\n",
    "    return a * b\n",
    "\n",
    "\n",
    "double = partial(multiply, b=2)\n",
    "\n",
    "result = double(10)\n",
    "print(result)"
   ]
  },
  {
   "cell_type": "code",
   "execution_count": 65,
   "metadata": {},
   "outputs": [
    {
     "name": "stdout",
     "output_type": "stream",
     "text": [
      "20\n",
      "20\n",
      "30\n"
     ]
    }
   ],
   "source": [
    "from functools import partial\n",
    "\n",
    "\n",
    "def multiply(a, b):\n",
    "    return a*b\n",
    "\n",
    "\n",
    "x = 2\n",
    "f = partial(multiply, x)\n",
    "\n",
    "result = f(10)  # 20\n",
    "print(result)\n",
    "\n",
    "\n",
    "x = 3 # changing the x\n",
    "result = f(10)  # 20\n",
    "print(result)\n",
    "\n",
    "\n",
    "# way to use\n",
    "f = partial(multiply, x)\n",
    "result = f(10)  # 30\n",
    "print(result)"
   ]
  },
  {
   "cell_type": "markdown",
   "metadata": {},
   "source": [
    "# TODO - exercies - do self-made partial\n",
    "# TODO - log accum demo"
   ]
  },
  {
   "cell_type": "markdown",
   "metadata": {},
   "source": [
    "<a id=\"3\"></a>\n",
    "## Lambda & Late binding"
   ]
  },
  {
   "cell_type": "markdown",
   "metadata": {},
   "source": [
    "Good to read: https://realpython.com/python-lambda/#python-lambda-and-regular-functions"
   ]
  },
  {
   "cell_type": "markdown",
   "metadata": {},
   "source": [
    "lambda *arguments* : *expression*"
   ]
  },
  {
   "cell_type": "code",
   "execution_count": 69,
   "metadata": {},
   "outputs": [
    {
     "name": "stdout",
     "output_type": "stream",
     "text": [
      "15\n"
     ]
    }
   ],
   "source": [
    "x = lambda a : a + 10\n",
    "print(x(5))"
   ]
  },
  {
   "cell_type": "markdown",
   "metadata": {},
   "source": [
    "### Late binding"
   ]
  },
  {
   "cell_type": "code",
   "execution_count": 70,
   "metadata": {},
   "outputs": [
    {
     "name": "stdout",
     "output_type": "stream",
     "text": [
      "6\n",
      "6\n",
      "6\n"
     ]
    }
   ],
   "source": [
    "# Array of functions for adding numbers\n",
    "adders = []\n",
    "\n",
    "for x in [1, 2, 3]:\n",
    "    # Create a lambda function that adds x to another\n",
    "    # number and add it to the list of adders\n",
    "    adders.append(lambda number: number + x)\n",
    "\n",
    "# Apply each adder function to the number 3\n",
    "for adder in adders:\n",
    "    print(adder(3))\n",
    "    \n",
    "# 4, 5, 6? No."
   ]
  },
  {
   "cell_type": "markdown",
   "metadata": {},
   "source": [
    "Because lambda functions are closures. That means, that they “remember” how to access variables from the scope where they were defined.\n",
    "\n",
    "The important thing to know about these closures is that they are late-binding. What that means is that the lambda functions the code creates are not actually “add-1” and “add-2” functions. They’re “add-x” functions. Because the code in a function only runs when the function is executed, the value of x is only evaluated when the function runs, not when it's created."
   ]
  },
  {
   "cell_type": "markdown",
   "metadata": {},
   "source": [
    "> (!) Not just lambdas"
   ]
  },
  {
   "cell_type": "code",
   "execution_count": 71,
   "metadata": {},
   "outputs": [
    {
     "name": "stdout",
     "output_type": "stream",
     "text": [
      "The weather is Sunny\n",
      "The weather is Stormy\n"
     ]
    }
   ],
   "source": [
    "weather = \"Sunny\"\n",
    "\n",
    "def print_weather():\n",
    "    print(\"The weather is\", weather)\n",
    "\n",
    "print_weather()\n",
    "weather = \"Stormy\"\n",
    "print_weather()"
   ]
  },
  {
   "cell_type": "markdown",
   "metadata": {},
   "source": [
    "**Ways to getting out the bind**"
   ]
  },
  {
   "cell_type": "markdown",
   "metadata": {},
   "source": [
    "- extract a function"
   ]
  },
  {
   "cell_type": "code",
   "execution_count": null,
   "metadata": {},
   "outputs": [],
   "source": [
    "def create_adder(number_to_add):\n",
    "    return lambda number: number_to_add + number\n",
    "\n",
    "adders = []\n",
    "\n",
    "for x in [1, 2, 3]:\n",
    "    adders.append(create_adder(x))"
   ]
  },
  {
   "cell_type": "markdown",
   "metadata": {},
   "source": [
    "- basically the same but in one (hacky) lambda function"
   ]
  },
  {
   "cell_type": "code",
   "execution_count": null,
   "metadata": {},
   "outputs": [],
   "source": [
    "adders = []\n",
    "\n",
    "for x in [1, 2, 3]:\n",
    "    adder = lambda number, number_to_add=x: number_to_add + number\n",
    "    adders.append(adder)"
   ]
  },
  {
   "cell_type": "markdown",
   "metadata": {},
   "source": [
    "- using functools.partial"
   ]
  },
  {
   "cell_type": "code",
   "execution_count": null,
   "metadata": {},
   "outputs": [],
   "source": [
    "from functools import partial\n",
    "\n",
    "adders = []\n",
    "\n",
    "for x in [1, 2, 3]:\n",
    "    adder = partial(lambda number_to_add, number: number_to_add + number, x)\n",
    "    adders.append(adder)"
   ]
  },
  {
   "cell_type": "markdown",
   "metadata": {},
   "source": [
    "test yourself"
   ]
  },
  {
   "cell_type": "code",
   "execution_count": 2,
   "metadata": {},
   "outputs": [
    {
     "name": "stdout",
     "output_type": "stream",
     "text": [
      "Heya Ada the Orca\n"
     ]
    }
   ],
   "source": [
    "greeting = \"Hi\"\n",
    "\n",
    "def greet(name):\n",
    "    print(greeting + \" \" + name)\n",
    "\n",
    "greeting = \"Heya\"\n",
    "greet(\"Ada the Orca\")"
   ]
  }
 ],
 "metadata": {
  "kernelspec": {
   "display_name": "Python 3.10.4 64-bit",
   "language": "python",
   "name": "python3"
  },
  "language_info": {
   "codemirror_mode": {
    "name": "ipython",
    "version": 3
   },
   "file_extension": ".py",
   "mimetype": "text/x-python",
   "name": "python",
   "nbconvert_exporter": "python",
   "pygments_lexer": "ipython3",
   "version": "3.10.4"
  },
  "orig_nbformat": 4,
  "vscode": {
   "interpreter": {
    "hash": "350ec87d84c6c58898f5c2e4bbb3396f5f55fe152cf4ea5d1a9ddc7ca48985be"
   }
  }
 },
 "nbformat": 4,
 "nbformat_minor": 2
}
