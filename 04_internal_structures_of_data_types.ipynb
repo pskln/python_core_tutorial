{
 "cells": [
  {
   "cell_type": "markdown",
   "metadata": {
    "collapsed": true,
    "pycharm": {
     "name": "#%% md\n"
    }
   },
   "source": [
    "# Internal structures of data types"
   ]
  },
  {
   "cell_type": "markdown",
   "metadata": {
    "pycharm": {
     "name": "#%% md\n"
    }
   },
   "source": [
    "## list\n",
    "`list` is Dynamic array https://en.wikipedia.org/wiki/Dynamic_array\n",
    "\n",
    "![Dynamic array](images/Dynamic_array.png)\n",
    "\n",
    "Brief description: It reserves memory for array with extra space for future items in advance.\n",
    "\n",
    "- Fast read at random index.\n",
    "- Fast insert/delete to the end.\n",
    "- Slow insert/delete in the begging and middle, cause all data must be shifted to the end.\n",
    "\n",
    "Source code: https://github.com/python/cpython/blob/e42b705188271da108de42b55d9344642170aa2b/Objects/listobject.c\n",
    "Time complexity: https://wiki.python.org/moin/TimeComplexity#list\n",
    "\n",
    "Memory consumption:"
   ]
  },
  {
   "cell_type": "code",
   "execution_count": 1,
   "metadata": {
    "pycharm": {
     "name": "#%%\n"
    }
   },
   "outputs": [
    {
     "name": "stdout",
     "output_type": "stream",
     "text": [
      "[88, 120, 184, 256, 336, 424, 520, 632, 760, 904, 1064, 1240, 1440, 1664]\n"
     ]
    },
    {
     "data": {
      "text/plain": [
       "[<matplotlib.lines.Line2D at 0x117d65730>]"
      ]
     },
     "execution_count": 1,
     "metadata": {},
     "output_type": "execute_result"
    },
    {
     "data": {
      "image/png": "[encoded data removed]",
      "text/plain": [
       "<Figure size 432x288 with 1 Axes>"
      ]
     },
     "metadata": {
      "needs_background": "light"
     },
     "output_type": "display_data"
    }
   ],
   "source": [
    "import sys\n",
    "import matplotlib.pyplot as plt\n",
    "\n",
    "my_list = []\n",
    "list_actual_sizes = []\n",
    "\n",
    "for i in range(200):\n",
    "    my_list.append(i)\n",
    "    list_actual_sizes.append(sys.getsizeof(my_list))\n",
    "\n",
    "# for i in range(200):\n",
    "#     my_list.pop()\n",
    "#     list_actual_sizes.append(sys.getsizeof(my_list))\n",
    "\n",
    "print(sorted(set(list_actual_sizes)))\n",
    "plt.title('List memory usage')\n",
    "plt.xlabel('Amount of items')\n",
    "plt.ylabel('Memory usage')\n",
    "plt.plot(list_actual_sizes)\n"
   ]
  },
  {
   "cell_type": "markdown",
   "metadata": {
    "pycharm": {
     "name": "#%% md\n"
    }
   },
   "source": [
    "## collections.deque\n",
    "\n",
    "`deque` is Linked List - https://en.wikipedia.org/wiki/Linked_list\n",
    "\n",
    "![Linked list](images/Doubly-linked-list.png)\n",
    "\n",
    "- Slow read at random index\n",
    "- Fast at insert/delete to the begging and end\n",
    "\n",
    "Time complexity: https://wiki.python.org/moin/TimeComplexity#collections.deque\n",
    "\n",
    "Well... Actually it's a bit more complicated. It's a linked list of blocks (small arrays) with fixed size.\n",
    "\n",
    "Source code: https://github.com/python/cpython/blob/e42b705188271da108de42b55d9344642170aa2b/Modules/_collectionsmodule.c\n",
    "\n",
    "Memory consumption:"
   ]
  },
  {
   "cell_type": "code",
   "execution_count": 2,
   "metadata": {
    "pycharm": {
     "name": "#%%\n"
    }
   },
   "outputs": [
    {
     "name": "stdout",
     "output_type": "stream",
     "text": [
      "[624, 1152, 1680, 2208, 2736, 3264, 3792]\n"
     ]
    },
    {
     "data": {
      "text/plain": [
       "[<matplotlib.lines.Line2D at 0x117e6d070>]"
      ]
     },
     "execution_count": 2,
     "metadata": {},
     "output_type": "execute_result"
    },
    {
     "data": {
      "image/png": "[encoded data removed]",
      "text/plain": [
       "<Figure size 432x288 with 1 Axes>"
      ]
     },
     "metadata": {
      "needs_background": "light"
     },
     "output_type": "display_data"
    }
   ],
   "source": [
    "from collections import deque\n",
    "my_deque = deque()\n",
    "deque_actual_sizes = []\n",
    "\n",
    "for i in range(400):\n",
    "    my_deque.append(i)\n",
    "    deque_actual_sizes.append(sys.getsizeof(my_deque))\n",
    "\n",
    "# for i in range(1000):\n",
    "#     my_deque.pop()\n",
    "#     deque_actual_sizes.append(sys.getsizeof(my_deque))\n",
    "\n",
    "print(sorted(set(deque_actual_sizes)))\n",
    "\n",
    "plt.plot(deque_actual_sizes)"
   ]
  },
  {
   "cell_type": "markdown",
   "metadata": {
    "pycharm": {
     "name": "#%% md\n"
    }
   },
   "source": [
    "## dict\n",
    "\n",
    "`dict` is a Hash table - https://en.wikipedia.org/wiki/Hash_table\n",
    "\n",
    "https://speakerdeck.com/methane/new-dict-implementation-in-python-3-dot-6\n",
    "\n",
    "Since python3.7 dict officially respects the order of insertion.\n",
    "\n",
    "Time complexity: https://wiki.python.org/moin/TimeComplexity#dict\n",
    "\n",
    "Memory consumption:"
   ]
  },
  {
   "cell_type": "code",
   "execution_count": 3,
   "metadata": {
    "pycharm": {
     "name": "#%%\n"
    }
   },
   "outputs": [
    {
     "name": "stdout",
     "output_type": "stream",
     "text": [
      "[232, 360, 640, 1176, 2272]\n"
     ]
    },
    {
     "data": {
      "text/plain": [
       "[<matplotlib.lines.Line2D at 0x117ec5eb0>]"
      ]
     },
     "execution_count": 3,
     "metadata": {},
     "output_type": "execute_result"
    },
    {
     "data": {
      "image/png": "[encoded data removed]",
      "text/plain": [
       "<Figure size 432x288 with 1 Axes>"
      ]
     },
     "metadata": {
      "needs_background": "light"
     },
     "output_type": "display_data"
    }
   ],
   "source": [
    "my_dict = {}\n",
    "dict_actual_sizes = []\n",
    "\n",
    "for i in range(50):\n",
    "    my_dict[i] = i\n",
    "    dict_actual_sizes.append(sys.getsizeof(my_dict))\n",
    "\n",
    "print(sorted(set(dict_actual_sizes)))\n",
    "plt.plot(dict_actual_sizes)"
   ]
  },
  {
   "cell_type": "markdown",
   "metadata": {
    "pycharm": {
     "name": "#%% md\n"
    }
   },
   "source": [
    "## set\n",
    "\n",
    "`set` is very similar to dict, but with optimizations considering that all values are null.\n",
    "\n",
    "Time complexity: https://wiki.python.org/moin/TimeComplexity#set"
   ]
  },
  {
   "cell_type": "code",
   "execution_count": 4,
   "metadata": {
    "pycharm": {
     "name": "#%%\n"
    }
   },
   "outputs": [
    {
     "name": "stdout",
     "output_type": "stream",
     "text": [
      "[216, 728, 2264, 8408]\n"
     ]
    },
    {
     "data": {
      "text/plain": [
       "[<matplotlib.lines.Line2D at 0x117f296d0>]"
      ]
     },
     "execution_count": 4,
     "metadata": {},
     "output_type": "execute_result"
    },
    {
     "data": {
      "image/png": "[encoded data removed]",
      "text/plain": [
       "<Figure size 432x288 with 1 Axes>"
      ]
     },
     "metadata": {
      "needs_background": "light"
     },
     "output_type": "display_data"
    }
   ],
   "source": [
    "my_set = set()\n",
    "set_actual_sizes = []\n",
    "\n",
    "for i in range(100):\n",
    "    my_set.add(i)\n",
    "    set_actual_sizes.append(sys.getsizeof(my_set))\n",
    "\n",
    "print(sorted(set(set_actual_sizes)))\n",
    "plt.plot(set_actual_sizes)"
   ]
  },
  {
   "cell_type": "markdown",
   "metadata": {
    "pycharm": {
     "name": "#%% md\n"
    }
   },
   "source": [
    "## QUIZ"
   ]
  },
  {
   "cell_type": "code",
   "execution_count": 5,
   "metadata": {
    "pycharm": {
     "name": "#%%\n"
    }
   },
   "outputs": [],
   "source": [
    "# helpers\n",
    "\n",
    "import timeit\n",
    "import time\n",
    "from contextlib import contextmanager\n",
    "\n",
    "@contextmanager\n",
    "def timeme(name):\n",
    "    start = time.process_time()\n",
    "    try:\n",
    "        yield\n",
    "    finally:\n",
    "        elapsed = time.process_time() - start\n",
    "        print(f'{name}: took {elapsed:.6f}')"
   ]
  },
  {
   "cell_type": "code",
   "execution_count": 6,
   "metadata": {
    "pycharm": {
     "name": "#%%\n"
    }
   },
   "outputs": [
    {
     "name": "stdout",
     "output_type": "stream",
     "text": [
      "list: took 0.122190\n",
      "queue: took 33.140081\n"
     ]
    }
   ],
   "source": [
    "arr = [x for x in range(1_000_000)]\n",
    "arr2 = deque(arr)\n",
    "\n",
    "with timeme(\"list\"):\n",
    "    for i in range(len(arr)):\n",
    "        arr[i]*2\n",
    "\n",
    "\n",
    "with timeme(\"queue\"):\n",
    "    for i in range(len(arr2)):\n",
    "        arr2[i]*2"
   ]
  },
  {
   "cell_type": "markdown",
   "metadata": {
    "pycharm": {
     "name": "#%% md\n"
    }
   },
   "source": [
    "What is faster?"
   ]
  },
  {
   "cell_type": "code",
   "execution_count": 7,
   "metadata": {
    "pycharm": {
     "name": "#%%\n"
    }
   },
   "outputs": [
    {
     "name": "stdout",
     "output_type": "stream",
     "text": [
      "operation1 with deque 10.948332290000003\n",
      "operation1 with list 13.220499405000005\n"
     ]
    }
   ],
   "source": [
    "import random\n",
    "import string\n",
    "from collections import deque\n",
    "\n",
    "def operation1(arr):\n",
    "    \"\"\"Insert b after each a\"\"\"\n",
    "    indexes = []\n",
    "    for i, value in enumerate(arr):\n",
    "        if value == 'a':\n",
    "            indexes.append(i)\n",
    "\n",
    "    indexes.reverse()\n",
    "    for i in indexes:\n",
    "        arr.insert(i+1, 'b')\n",
    "\n",
    "\n",
    "arr1 = [random.choice(string.ascii_lowercase) for _ in range(1_000_000)]\n",
    "arr2 = deque(arr1)\n",
    "\n",
    "\n",
    "print(f'operation1 with deque {timeit.timeit(lambda: operation1(arr2), number=1)}')\n",
    "print(f'operation1 with list {timeit.timeit(lambda: operation1(arr1), number=1)}')"
   ]
  },
  {
   "cell_type": "markdown",
   "metadata": {
    "pycharm": {
     "name": "#%% md\n"
    }
   },
   "source": [
    "What is faster on smaller amount of data?"
   ]
  },
  {
   "cell_type": "code",
   "execution_count": 8,
   "metadata": {
    "pycharm": {
     "name": "#%%\n"
    }
   },
   "outputs": [
    {
     "name": "stdout",
     "output_type": "stream",
     "text": [
      "operation1 with deque on 1000 : 9.813799999847106e-05\n",
      "operation1 with list on 1000 : 9.45280000053117e-05\n"
     ]
    }
   ],
   "source": [
    "arr1 = [random.choice(string.ascii_lowercase) for _ in range(1_000)]\n",
    "arr2 = deque(arr1)\n",
    "\n",
    "\n",
    "print(f'operation1 with deque on 1000 : {timeit.timeit(lambda: operation1(arr2), number=1)}')\n",
    "print(f'operation1 with list on 1000 : {timeit.timeit(lambda: operation1(arr1), number=1)}')"
   ]
  },
  {
   "cell_type": "markdown",
   "metadata": {},
   "source": [
    "What is faster when it's used as a queue?"
   ]
  },
  {
   "cell_type": "code",
   "execution_count": 9,
   "metadata": {
    "pycharm": {
     "name": "#%%\n"
    }
   },
   "outputs": [
    {
     "name": "stdout",
     "output_type": "stream",
     "text": [
      "plain_recursion_with_deque 0.9613772889999979\n",
      "plain_recursion_with_list 8.652433681999995\n"
     ]
    }
   ],
   "source": [
    "def plain_recursion_with_deque():\n",
    "    queue = deque()\n",
    "    queue.append('')\n",
    "\n",
    "    while len(queue[0]) < 10:\n",
    "        cur = queue.popleft()\n",
    "        for char in ('a', 'b', 'c'):\n",
    "            queue.append(cur + char)\n",
    "\n",
    "def plain_recursion_with_list():\n",
    "    queue = list()\n",
    "    queue.append('')\n",
    "\n",
    "    while len(queue[0]) < 10:\n",
    "        cur = queue.pop(0)\n",
    "        for char in ('a', 'b', 'c'):\n",
    "            queue.append(cur + char)\n",
    "\n",
    "print('plain_recursion_with_deque', timeit.timeit(plain_recursion_with_deque, number=50))\n",
    "print('plain_recursion_with_list',timeit.timeit(plain_recursion_with_list, number=50))\n"
   ]
  }
 ],
 "metadata": {
  "kernelspec": {
   "display_name": "Python 3.10.4 64-bit",
   "language": "python",
   "name": "python3"
  },
  "language_info": {
   "codemirror_mode": {
    "name": "ipython",
    "version": 3
   },
   "file_extension": ".py",
   "mimetype": "text/x-python",
   "name": "python",
   "nbconvert_exporter": "python",
   "pygments_lexer": "ipython3",
   "version": "3.10.4"
  },
  "vscode": {
   "interpreter": {
    "hash": "350ec87d84c6c58898f5c2e4bbb3396f5f55fe152cf4ea5d1a9ddc7ca48985be"
   }
  }
 },
 "nbformat": 4,
 "nbformat_minor": 1
}
