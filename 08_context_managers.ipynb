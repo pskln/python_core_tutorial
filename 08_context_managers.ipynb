{
 "cells": [
  {
   "cell_type": "markdown",
   "metadata": {
    "collapsed": true,
    "pycharm": {
     "name": "#%% md\n"
    }
   },
   "source": [
    "### What for?\n",
    "\n",
    "If you have two related operations which you’d like to execute as a pair,\n",
    "with a block of code in between. Context managers allow you to do specifically that."
   ]
  },
  {
   "cell_type": "markdown",
   "metadata": {
    "pycharm": {
     "name": "#%% md\n"
    }
   },
   "source": [
    "### Examples\n",
    "\n",
    "File reading, these two are equivalent codes:"
   ]
  },
  {
   "cell_type": "code",
   "execution_count": 1,
   "metadata": {
    "pycharm": {
     "name": "#%%\n"
    }
   },
   "outputs": [
    {
     "name": "stdout",
     "output_type": "stream",
     "text": [
      "2211\n"
     ]
    }
   ],
   "source": [
    "file = open('README.md', 'r')\n",
    "try:\n",
    "    content = file.read()\n",
    "finally:\n",
    "    file.close() # don't forget to close it!\n",
    "\n",
    "print(len(content))"
   ]
  },
  {
   "cell_type": "code",
   "execution_count": 2,
   "metadata": {
    "pycharm": {
     "name": "#%%\n"
    }
   },
   "outputs": [
    {
     "name": "stdout",
     "output_type": "stream",
     "text": [
      "2211\n"
     ]
    }
   ],
   "source": [
    "with open('README.md', 'r') as file:\n",
    "    content = file.read()\n",
    "\n",
    "print(len(content))"
   ]
  },
  {
   "cell_type": "code",
   "execution_count": null,
   "metadata": {
    "pycharm": {
     "name": "#%%\n"
    }
   },
   "outputs": [],
   "source": [
    "# Django atomic transaction for DB\n",
    "\n",
    "from django.db import transaction\n",
    "\n",
    "with transaction.atomic():\n",
    "    # This code executes inside a transaction.\n",
    "    obj = MyModel.objects.first()\n",
    "    obj.my_field = 13\n",
    "    obj.save()\n"
   ]
  },
  {
   "cell_type": "markdown",
   "metadata": {
    "pycharm": {
     "name": "#%% md\n"
    }
   },
   "source": [
    "### Implementing context manager:"
   ]
  },
  {
   "cell_type": "code",
   "execution_count": 4,
   "metadata": {
    "pycharm": {
     "name": "#%%\n"
    }
   },
   "outputs": [
    {
     "name": "stdout",
     "output_type": "stream",
     "text": [
      "Code: \"code1\" took 1.0036\n"
     ]
    }
   ],
   "source": [
    "import time\n",
    "\n",
    "class MyTimer:\n",
    "    DEBUG = False\n",
    "    def __init__(self, code_name):\n",
    "        self.code_name = code_name\n",
    "        self.start_time = None\n",
    "\n",
    "    def __enter__(self):\n",
    "        if self.DEBUG:\n",
    "            print(f'__enter__ ({self.code_name})')\n",
    "        self.start_time = time.time()\n",
    "\n",
    "    def __exit__(self, exception_type, exception_value, traceback):\n",
    "        if self.DEBUG:\n",
    "            print(f'__exit__ ({self.code_name})')\n",
    "        print(f'Code: \"{self.code_name}\" took {time.time() - self.start_time:.4f}')\n",
    "\n",
    "\n",
    "a = 10\n",
    "b = 100\n",
    "\n",
    "with MyTimer(\"code1\"):\n",
    "    time.sleep(1)\n",
    "    c = a ** b"
   ]
  },
  {
   "cell_type": "code",
   "execution_count": 5,
   "metadata": {
    "pycharm": {
     "name": "#%%\n"
    }
   },
   "outputs": [
    {
     "name": "stdout",
     "output_type": "stream",
     "text": [
      "Code: \"For loop [0]\" took 0.2038\n",
      "Code: \"For loop [1]\" took 0.2001\n",
      "Code: \"For loop [2]\" took 0.2022\n",
      "Code: \"For loop [3]\" took 0.2038\n",
      "Code: \"For loop [4]\" took 0.2050\n",
      "Code: \"For loop [5]\" took 0.2046\n",
      "Code: \"For loop [6]\" took 0.2041\n",
      "Code: \"For loop [7]\" took 0.2045\n",
      "Code: \"For loop [8]\" took 0.2052\n",
      "Code: \"For loop [9]\" took 0.2041\n",
      "Code: \"code2\" took 3.0446\n"
     ]
    }
   ],
   "source": [
    "with MyTimer(\"code2\"):\n",
    "    time.sleep(1)\n",
    "    for i in range(a):\n",
    "        with MyTimer(f\"For loop [{i}]\"):\n",
    "            time.sleep(0.2)\n",
    "            c = a ** a"
   ]
  },
  {
   "cell_type": "code",
   "execution_count": 6,
   "metadata": {
    "pycharm": {
     "name": "#%%\n"
    }
   },
   "outputs": [
    {
     "name": "stdout",
     "output_type": "stream",
     "text": [
      "__enter__ (code3)\n",
      "__exit__ (code3)\n",
      "Code: \"code3\" took 1.0032\n"
     ]
    }
   ],
   "source": [
    "my_timer = MyTimer(\"code3\")\n",
    "my_timer.DEBUG = True\n",
    "\n",
    "with my_timer:\n",
    "    time.sleep(1)"
   ]
  },
  {
   "cell_type": "markdown",
   "metadata": {
    "pycharm": {
     "name": "#%% md\n"
    }
   },
   "source": [
    "`__enter__`  can return the object that will be used in `with <manager> as <return_from_enter>:`"
   ]
  },
  {
   "cell_type": "code",
   "execution_count": 7,
   "metadata": {
    "pycharm": {
     "name": "#%%\n"
    }
   },
   "outputs": [
    {
     "name": "stdout",
     "output_type": "stream",
     "text": [
      "3\n",
      "Code: \"code4\" took 1.0033\n"
     ]
    }
   ],
   "source": [
    "class MyTimer2:\n",
    "    def __init__(self, code_name):\n",
    "        self.code_name = code_name\n",
    "        self.start_time = None\n",
    "\n",
    "    def __enter__(self):\n",
    "        self.start_time = time.time()\n",
    "        return 3\n",
    "\n",
    "    def __exit__(self, exception_type, exception_value, traceback):\n",
    "        print(f'Code: \"{self.code_name}\" took {time.time() - self.start_time:.4f}')\n",
    "\n",
    "my_timer2 = MyTimer2('code4')\n",
    "with my_timer2 as something:\n",
    "    print(something)  # something is `3`\n",
    "    time.sleep(1)\n"
   ]
  },
  {
   "cell_type": "code",
   "execution_count": 8,
   "metadata": {
    "pycharm": {
     "name": "#%%\n"
    }
   },
   "outputs": [
    {
     "name": "stdout",
     "output_type": "stream",
     "text": [
      "<__main__.MyTimer3 object at 0x109e79d90>\n",
      "Code: \"code5\" took 1.4131. Betweens: 1.005, 1.209\n"
     ]
    }
   ],
   "source": [
    "class MyTimer3:\n",
    "    def __init__(self, code_name):\n",
    "        self.code_name = code_name\n",
    "        self.start_time = None\n",
    "        self.betweens = []\n",
    "\n",
    "    def __enter__(self):\n",
    "        self.start_time = time.time()\n",
    "        return self\n",
    "\n",
    "    def between(self):\n",
    "        self.betweens.append(time.time() - self.start_time)\n",
    "\n",
    "    def __exit__(self, exception_type, exception_value, traceback):\n",
    "        betweens = ', '.join(f'{x:.3f}' for x in self.betweens)\n",
    "        print(f'Code: \"{self.code_name}\" took {time.time() - self.start_time:.4f}. Betweens: {betweens}')\n",
    "\n",
    "\n",
    "with MyTimer3('code5') as timer:\n",
    "    print(timer)  # time is MyTimer3 object\n",
    "    time.sleep(1)\n",
    "    timer.between()\n",
    "    time.sleep(0.2)\n",
    "    timer.between()\n",
    "    time.sleep(0.2)\n"
   ]
  },
  {
   "cell_type": "code",
   "execution_count": 9,
   "metadata": {
    "pycharm": {
     "name": "#%%\n"
    }
   },
   "outputs": [
    {
     "name": "stdout",
     "output_type": "stream",
     "text": [
      "Will __exit__ be executed?\n",
      "Code: \"code6\" took 0.2040\n"
     ]
    },
    {
     "ename": "Exception",
     "evalue": "Ooops",
     "output_type": "error",
     "traceback": [
      "\u001B[0;31m---------------------------------------------------------------------------\u001B[0m",
      "\u001B[0;31mException\u001B[0m                                 Traceback (most recent call last)",
      "\u001B[0;32m<ipython-input-9-220918f38bfc>\u001B[0m in \u001B[0;36m<module>\u001B[0;34m\u001B[0m\n\u001B[1;32m     15\u001B[0m \u001B[0;32mwith\u001B[0m \u001B[0mMyTimer4\u001B[0m\u001B[0;34m(\u001B[0m\u001B[0;34m'code6'\u001B[0m\u001B[0;34m)\u001B[0m \u001B[0;32mas\u001B[0m \u001B[0mtimer\u001B[0m\u001B[0;34m:\u001B[0m\u001B[0;34m\u001B[0m\u001B[0;34m\u001B[0m\u001B[0m\n\u001B[1;32m     16\u001B[0m     \u001B[0mtime\u001B[0m\u001B[0;34m.\u001B[0m\u001B[0msleep\u001B[0m\u001B[0;34m(\u001B[0m\u001B[0;36m0.2\u001B[0m\u001B[0;34m)\u001B[0m\u001B[0;34m\u001B[0m\u001B[0;34m\u001B[0m\u001B[0m\n\u001B[0;32m---> 17\u001B[0;31m     \u001B[0;32mraise\u001B[0m \u001B[0mException\u001B[0m\u001B[0;34m(\u001B[0m\u001B[0;34m\"Ooops\"\u001B[0m\u001B[0;34m)\u001B[0m\u001B[0;34m\u001B[0m\u001B[0;34m\u001B[0m\u001B[0m\n\u001B[0m\u001B[1;32m     18\u001B[0m     \u001B[0mprint\u001B[0m\u001B[0;34m(\u001B[0m\u001B[0;34m'Will it reach this code?'\u001B[0m\u001B[0;34m)\u001B[0m\u001B[0;34m\u001B[0m\u001B[0;34m\u001B[0m\u001B[0m\n\u001B[1;32m     19\u001B[0m \u001B[0;34m\u001B[0m\u001B[0m\n",
      "\u001B[0;31mException\u001B[0m: Ooops"
     ]
    }
   ],
   "source": [
    "class MyTimer4:\n",
    "    def __init__(self, code_name):\n",
    "        self.code_name = code_name\n",
    "        self.start_time = None\n",
    "\n",
    "    def __enter__(self):\n",
    "        self.start_time = time.time()\n",
    "        return self\n",
    "\n",
    "    def __exit__(self, exception_type, exception_value, traceback):\n",
    "        print(\"Will __exit__ be executed?\")\n",
    "        print(f'Code: \"{self.code_name}\" took {time.time() - self.start_time:.4f}')\n",
    "\n",
    "\n",
    "with MyTimer4('code6') as timer:\n",
    "    time.sleep(0.2)\n",
    "    raise Exception(\"Ooops\")\n",
    "    print('Will it reach this code?')\n",
    "\n",
    "print('outside of with')"
   ]
  },
  {
   "cell_type": "markdown",
   "metadata": {
    "pycharm": {
     "name": "#%% md\n"
    }
   },
   "source": [
    "`__exit__` should return boolean, whether exception is handled by it context manager or not"
   ]
  },
  {
   "cell_type": "code",
   "execution_count": 10,
   "metadata": {
    "pycharm": {
     "name": "#%%\n"
    }
   },
   "outputs": [],
   "source": [
    "class MyTimer5:\n",
    "    def __init__(self, code_name):\n",
    "        self.code_name = code_name\n",
    "        self.start_time = None\n",
    "\n",
    "    def __enter__(self):\n",
    "        self.start_time = time.time()\n",
    "        return self\n",
    "\n",
    "    def __exit__(self, exception_type, exception_value, traceback):\n",
    "        print(\"Will __exit__ be executed?\")\n",
    "        print(f'Code: \"{self.code_name}\" took {time.time() - self.start_time:.4f}')\n",
    "        print(exception_type, exception_value)\n",
    "        if isinstance(exception_value, KeyError):\n",
    "            return True"
   ]
  },
  {
   "cell_type": "code",
   "execution_count": 11,
   "metadata": {
    "pycharm": {
     "name": "#%%\n"
    }
   },
   "outputs": [
    {
     "name": "stdout",
     "output_type": "stream",
     "text": [
      "Will __exit__ be executed?\n",
      "Code: \"code6\" took 0.2041\n",
      "<class 'KeyError'> 'Ooops'\n",
      "outside of with\n"
     ]
    }
   ],
   "source": [
    "with MyTimer5('code6') as timer:\n",
    "    time.sleep(0.2)\n",
    "    raise KeyError(\"Ooops\")\n",
    "    print('Will it reach this code?')\n",
    "\n",
    "print('outside of with')"
   ]
  },
  {
   "cell_type": "code",
   "execution_count": 12,
   "metadata": {
    "pycharm": {
     "name": "#%%\n"
    }
   },
   "outputs": [
    {
     "name": "stdout",
     "output_type": "stream",
     "text": [
      "Will __exit__ be executed?\n",
      "Code: \"code6\" took 0.2048\n",
      "<class 'Exception'> Ooops\n"
     ]
    },
    {
     "ename": "Exception",
     "evalue": "Ooops",
     "output_type": "error",
     "traceback": [
      "\u001B[0;31m---------------------------------------------------------------------------\u001B[0m",
      "\u001B[0;31mException\u001B[0m                                 Traceback (most recent call last)",
      "\u001B[0;32m<ipython-input-12-e405cce1356b>\u001B[0m in \u001B[0;36m<module>\u001B[0;34m\u001B[0m\n\u001B[1;32m      1\u001B[0m \u001B[0;32mwith\u001B[0m \u001B[0mMyTimer5\u001B[0m\u001B[0;34m(\u001B[0m\u001B[0;34m'code6'\u001B[0m\u001B[0;34m)\u001B[0m \u001B[0;32mas\u001B[0m \u001B[0mtimer\u001B[0m\u001B[0;34m:\u001B[0m\u001B[0;34m\u001B[0m\u001B[0;34m\u001B[0m\u001B[0m\n\u001B[1;32m      2\u001B[0m     \u001B[0mtime\u001B[0m\u001B[0;34m.\u001B[0m\u001B[0msleep\u001B[0m\u001B[0;34m(\u001B[0m\u001B[0;36m0.2\u001B[0m\u001B[0;34m)\u001B[0m\u001B[0;34m\u001B[0m\u001B[0;34m\u001B[0m\u001B[0m\n\u001B[0;32m----> 3\u001B[0;31m     \u001B[0;32mraise\u001B[0m \u001B[0mException\u001B[0m\u001B[0;34m(\u001B[0m\u001B[0;34m\"Ooops\"\u001B[0m\u001B[0;34m)\u001B[0m\u001B[0;34m\u001B[0m\u001B[0;34m\u001B[0m\u001B[0m\n\u001B[0m\u001B[1;32m      4\u001B[0m     \u001B[0mprint\u001B[0m\u001B[0;34m(\u001B[0m\u001B[0;34m'Will it reach this code?'\u001B[0m\u001B[0;34m)\u001B[0m\u001B[0;34m\u001B[0m\u001B[0;34m\u001B[0m\u001B[0m\n\u001B[1;32m      5\u001B[0m \u001B[0;34m\u001B[0m\u001B[0m\n",
      "\u001B[0;31mException\u001B[0m: Ooops"
     ]
    }
   ],
   "source": [
    "with MyTimer5('code6') as timer:\n",
    "    time.sleep(0.2)\n",
    "    raise Exception(\"Ooops\")\n",
    "    print('Will it reach this code?')\n",
    "\n",
    "print('outside of with')\n"
   ]
  },
  {
   "cell_type": "markdown",
   "metadata": {
    "pycharm": {
     "name": "#%% md\n"
    }
   },
   "source": [
    "### Implementing context manager as function\n",
    "\n",
    "Classic example"
   ]
  },
  {
   "cell_type": "code",
   "execution_count": 13,
   "metadata": {
    "pycharm": {
     "name": "#%%\n"
    }
   },
   "outputs": [
    {
     "name": "stdout",
     "output_type": "stream",
     "text": [
      "file=<_io.TextIOWrapper name='README.md' mode='r' encoding='UTF-8'>\n",
      "2211\n"
     ]
    }
   ],
   "source": [
    "from contextlib import contextmanager\n",
    "\n",
    "@contextmanager\n",
    "def my_timer(filename):\n",
    "    f = open(filename, 'r')\n",
    "    try:\n",
    "        yield f # you can yield nothing with `yield` if you yield something it can be used with \"as ...\"\n",
    "    finally:\n",
    "        f.close()\n",
    "\n",
    "\n",
    "with my_timer('README.md') as file:\n",
    "    print(f'{file=}')\n",
    "    content = file.read()\n",
    "    print(len(content))"
   ]
  },
  {
   "cell_type": "markdown",
   "metadata": {
    "pycharm": {
     "name": "#%% md\n"
    }
   },
   "source": [
    "Timer example"
   ]
  },
  {
   "cell_type": "code",
   "execution_count": 14,
   "metadata": {
    "pycharm": {
     "name": "#%%\n"
    }
   },
   "outputs": [
    {
     "name": "stdout",
     "output_type": "stream",
     "text": [
      "Code: \"code 7\" took 1.0042\n"
     ]
    }
   ],
   "source": [
    "from contextlib import contextmanager\n",
    "\n",
    "@contextmanager\n",
    "def my_timer(code_name):\n",
    "    start_time = time.time()\n",
    "    try:\n",
    "        yield\n",
    "    finally:\n",
    "        print(f'Code: \"{code_name}\" took {time.time() - start_time:.4f}')\n",
    "\n",
    "with my_timer('code 7'):\n",
    "    time.sleep(1)"
   ]
  }
 ],
 "metadata": {
  "kernelspec": {
   "display_name": "Python 3",
   "language": "python",
   "name": "python3"
  },
  "language_info": {
   "codemirror_mode": {
    "name": "ipython",
    "version": 3
   },
   "file_extension": ".py",
   "mimetype": "text/x-python",
   "name": "python",
   "nbconvert_exporter": "python",
   "pygments_lexer": "ipython3",
   "version": "3.8.8"
  }
 },
 "nbformat": 4,
 "nbformat_minor": 1
}