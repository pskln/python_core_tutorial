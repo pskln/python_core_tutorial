{
 "cells": [
  {
   "cell_type": "markdown",
   "metadata": {},
   "source": [
    "# Python LEGB scopes\n",
    "\n",
    "See https://realpython.com/python-scope-legb-rule/"
   ]
  },
  {
   "cell_type": "markdown",
   "metadata": {},
   "source": [
    "In programming, the scope of a name defines the area of a program in which you can unambiguously access that name, \n",
    "such as variables, functions, objects, and so on. A name will only be visible to and accessible by the code in its \n",
    "scope. Several programming languages take advantage of scope for avoiding name collisions and unpredictable \n",
    "behaviors. Most commonly, you’ll distinguish two general scopes:\n",
    "    \n",
    "1. Global scope: The names that you define in this scope are available to all your code.\n",
    "1. Local scope: The names that you define in this scope are only available or visible to the code within the scope."
   ]
  },
  {
   "cell_type": "markdown",
   "metadata": {},
   "source": [
    "Names and Scopes in Python\n",
    "Since Python is a dynamically-typed language, variables in Python come into existence when you first assign them a value. On the other hand, functions and classes are available after you define them using def or class, respectively. Finally, modules exist after you import them. As a summary, you can create Python names through one of the following operations:\n",
    "\n",
    "| Operation | Statement |\n",
    "|:--------- |:--------- |\n",
    "| Assignments | `x = value` |\n",
    "| Import operations | `import module or from module import name` |\n",
    "| Function definitions | `def my_func(): ...` |\n",
    "| Argument definitions in the context of functions | `def my_func(arg1, arg2,... argN): ...` |\n",
    "| Class definitions\t| `class MyClass: ...` |\n",
    "\n",
    "All these operations create or, in the case of assignments, update new Python names because all of them assign a name to a variable, constant, function, class, instance, module, or other Python object."
   ]
  },
  {
   "cell_type": "markdown",
   "metadata": {},
   "source": [
    "Python scopes are implemented as dictionaries that map names to objects. These dictionaries are commonly called namespaces. These are the concrete mechanisms that Python uses to store names. They’re stored in a special attribute called .__dict__.\n",
    "\n",
    "Names at the top level of a module are stored in the module’s namespace. In other words, they’re stored in the module’s .__dict__ attribute."
   ]
  },
  {
   "cell_type": "code",
   "execution_count": 185,
   "metadata": {
    "scrolled": true
   },
   "outputs": [
    {
     "data": {
      "text/plain": [
       "dict_keys(['__name__', '__doc__', '__package__', '__loader__', '__spec__', 'addaudithook', 'audit', 'breakpointhook', 'callstats', '_clear_type_cache', '_current_frames', 'displayhook', 'exc_info', 'excepthook', 'exit', 'getdefaultencoding', 'getdlopenflags', 'getallocatedblocks', 'getfilesystemencoding', 'getfilesystemencodeerrors', 'getrefcount', 'getrecursionlimit', 'getsizeof', '_getframe', 'intern', 'is_finalizing', 'setcheckinterval', 'getcheckinterval', 'setswitchinterval', 'getswitchinterval', 'setdlopenflags', 'setprofile', 'getprofile', 'setrecursionlimit', 'settrace', 'gettrace', 'call_tracing', '_debugmallocstats', 'set_coroutine_origin_tracking_depth', 'get_coroutine_origin_tracking_depth', 'set_asyncgen_hooks', 'get_asyncgen_hooks', 'unraisablehook', 'modules', 'stderr', '__stderr__', '__displayhook__', '__excepthook__', '__breakpointhook__', '__unraisablehook__', 'version', 'hexversion', '_git', '_framework', 'api_version', 'copyright', 'platform', 'maxsize', 'float_info', 'int_info', 'hash_info', 'maxunicode', 'builtin_module_names', 'byteorder', 'abiflags', 'version_info', 'implementation', 'flags', 'float_repr_style', 'thread_info', 'meta_path', 'path_importer_cache', 'path_hooks', 'path', 'executable', '_base_executable', 'prefix', 'base_prefix', 'exec_prefix', 'base_exec_prefix', 'pycache_prefix', 'argv', 'warnoptions', '_xoptions', 'dont_write_bytecode', '__stdin__', 'stdin', '__stdout__', 'stdout', '_home', '__interactivehook__', 'ps1', 'ps2', 'ps3', 'last_type', 'last_value', 'last_traceback'])"
      ]
     },
     "execution_count": 185,
     "metadata": {},
     "output_type": "execute_result"
    }
   ],
   "source": [
    "import sys\n",
    "sys.__dict__.keys()"
   ]
  },
  {
   "cell_type": "code",
   "execution_count": 190,
   "metadata": {},
   "outputs": [],
   "source": [
    "if sys.__name__ == \"__main__\":\n",
    "    print(\"bla\")"
   ]
  },
  {
   "cell_type": "markdown",
   "metadata": {},
   "source": [
    "Accessing scope"
   ]
  },
  {
   "cell_type": "code",
   "execution_count": 4,
   "metadata": {},
   "outputs": [
    {
     "data": {
      "text/plain": [
       "'sys'"
      ]
     },
     "execution_count": 4,
     "metadata": {},
     "output_type": "execute_result"
    }
   ],
   "source": [
    "sys.__dict__['__name__']"
   ]
  },
  {
   "cell_type": "markdown",
   "metadata": {},
   "source": [
    "Python resolves names using the so-called **LEGB** rule, which is named after the Python scope for names. The letters in LEGB stand for **Local**, **Enclosing**, **Global**, and **Built-in**. Here’s a quick overview of what these terms mean:\n",
    "\n",
    "## Local (or function) scope\n",
    "\n",
    "Local (or function) scope is the code block or body of any Python function or lambda expression. This Python scope contains the names that you define inside the function. These names will only be visible from the code of the function. It’s created at **function call**, not at **function definition**, so you’ll have as many different local scopes as function calls. This is true even if you call the same function multiple times, or recursively. Each call will result in a new local scope being created."
   ]
  },
  {
   "cell_type": "code",
   "execution_count": 198,
   "metadata": {},
   "outputs": [
    {
     "name": "stdout",
     "output_type": "stream",
     "text": [
      "The square of 10 is: 100\n",
      "The square of 4 is: 16\n"
     ]
    },
    {
     "data": {
      "text/plain": [
       "True"
      ]
     },
     "execution_count": 198,
     "metadata": {},
     "output_type": "execute_result"
    }
   ],
   "source": [
    "def square(base = False):\n",
    "    result = base ** 2\n",
    "    print(f'The square of {base} is: {result}')\n",
    "    return True\n",
    "\n",
    "square(10)\n",
    "square(4)"
   ]
  },
  {
   "cell_type": "code",
   "execution_count": 193,
   "metadata": {},
   "outputs": [
    {
     "name": "stdout",
     "output_type": "stream",
     "text": [
      "The square of 10 is: 100\n"
     ]
    },
    {
     "ename": "NameError",
     "evalue": "name 'result' is not defined",
     "output_type": "error",
     "traceback": [
      "\u001b[0;31m\u001b[0m",
      "\u001b[0;31mNameError\u001b[0mTraceback (most recent call last)",
      "\u001b[0;32m<ipython-input-193-3655fdef7217>\u001b[0m in \u001b[0;36m<module>\u001b[0;34m\u001b[0m\n\u001b[1;32m      1\u001b[0m \u001b[0msquare\u001b[0m\u001b[0;34m(\u001b[0m\u001b[0;36m10\u001b[0m\u001b[0;34m)\u001b[0m\u001b[0;34m\u001b[0m\u001b[0;34m\u001b[0m\u001b[0m\n\u001b[0;32m----> 2\u001b[0;31m \u001b[0mresult\u001b[0m  \u001b[0;31m# Isn't accessible from outside square()\u001b[0m\u001b[0;34m\u001b[0m\u001b[0;34m\u001b[0m\u001b[0m\n\u001b[0m\u001b[1;32m      3\u001b[0m \u001b[0mbase\u001b[0m  \u001b[0;31m# Isn't accessible from outside square()\u001b[0m\u001b[0;34m\u001b[0m\u001b[0;34m\u001b[0m\u001b[0m\n",
      "\u001b[0;31mNameError\u001b[0m: name 'result' is not defined"
     ]
    }
   ],
   "source": [
    "square(10)\n",
    "result  # Isn't accessible from outside square()\n",
    "base  # Isn't accessible from outside square()"
   ]
  },
  {
   "cell_type": "code",
   "execution_count": 196,
   "metadata": {},
   "outputs": [
    {
     "data": {
      "text/plain": [
       "('base', 'result')"
      ]
     },
     "execution_count": 196,
     "metadata": {},
     "output_type": "execute_result"
    }
   ],
   "source": [
    "square.__code__.co_varnames # variable names"
   ]
  },
  {
   "cell_type": "code",
   "execution_count": 108,
   "metadata": {},
   "outputs": [
    {
     "data": {
      "text/plain": [
       "1"
      ]
     },
     "execution_count": 108,
     "metadata": {},
     "output_type": "execute_result"
    }
   ],
   "source": [
    "square.__code__.co_argcount # amount of aruments it takes"
   ]
  },
  {
   "cell_type": "code",
   "execution_count": 199,
   "metadata": {},
   "outputs": [
    {
     "data": {
      "text/plain": [
       "(None, 2, 'The square of ', ' is: ', True)"
      ]
     },
     "execution_count": 199,
     "metadata": {},
     "output_type": "execute_result"
    }
   ],
   "source": [
    "square.__code__.co_consts #constants in function"
   ]
  },
  {
   "cell_type": "code",
   "execution_count": 105,
   "metadata": {},
   "outputs": [
    {
     "data": {
      "text/plain": [
       "'square'"
      ]
     },
     "execution_count": 105,
     "metadata": {},
     "output_type": "execute_result"
    }
   ],
   "source": [
    "square.__code__.co_name # function name"
   ]
  },
  {
   "cell_type": "markdown",
   "metadata": {},
   "source": [
    "How many local scopes?\n",
    "\n",
    "for base?   \n",
    "for x in a?   \n",
    "for x in b?   "
   ]
  },
  {
   "cell_type": "code",
   "execution_count": 202,
   "metadata": {},
   "outputs": [
    {
     "name": "stdout",
     "output_type": "stream",
     "text": [
      "1\n"
     ]
    }
   ],
   "source": [
    "timesCalled = 0\n",
    "def sq(x):\n",
    "    global timesCalled\n",
    "    timesCalled += 1\n",
    "    return x ** 2\n",
    "\n",
    "sq(4)\n",
    "print(timesCalled)\n",
    "        \n",
    "a = list(sq(x) for x in range(10, 15))\n",
    "b = [(lambda x: x*x)(x) for x in range (-2, 17)]"
   ]
  },
  {
   "cell_type": "code",
   "execution_count": 53,
   "metadata": {},
   "outputs": [
    {
     "name": "stdout",
     "output_type": "stream",
     "text": [
      "scope x in sq: 5\n",
      "scope x in b: 38\n",
      "scope x in a: 5\n"
     ]
    }
   ],
   "source": [
    "print(\"scope x in sq: {}\".format(timesCalled)) \n",
    "print(\"scope x in b: {}\".format(2 * len(b)))\n",
    "print(\"scope x in a: {}\".format(len(a)))\n"
   ]
  },
  {
   "cell_type": "code",
   "execution_count": 79,
   "metadata": {},
   "outputs": [
    {
     "name": "stdout",
     "output_type": "stream",
     "text": [
      "took 2 iterations to reach 4.147577427414219e+22\n",
      "took 3 iterations to reach 8302939159482839.0\n"
     ]
    }
   ],
   "source": [
    "from math import sqrt\n",
    "\n",
    "def rsq(x, calls = 0):\n",
    "    y = (x ** sqrt(x)) / sqrt(x)\n",
    "      \n",
    "    if y < (10 ** 10):\n",
    "        rsq(y, calls + 1)\n",
    "    else:\n",
    "        \n",
    "        print(\"took {} iterations to reach {}\".format(calls, y))\n",
    "        \n",
    "rsq(4)\n",
    "rsq(3)\n"
   ]
  },
  {
   "cell_type": "markdown",
   "metadata": {},
   "source": [
    "You can inspect the names and parameters of a function using .__code__, which is an attribute that holds information on the function’s internal code. "
   ]
  },
  {
   "cell_type": "markdown",
   "metadata": {},
   "source": [
    "## Enclosing (or nonlocal) scope\n",
    "\n",
    "Enclosing (or nonlocal) scope is a special scope that only exists for nested functions. If the local scope is an inner or nested function, then the enclosing scope is the scope of the outer or enclosing function. This scope contains the names that you define in the enclosing function. The names in the enclosing scope are visible from the code of the inner and enclosing functions."
   ]
  },
  {
   "cell_type": "code",
   "execution_count": 216,
   "metadata": {},
   "outputs": [
    {
     "name": "stdout",
     "output_type": "stream",
     "text": [
      "outer func\n",
      "Printing var from inner_func(): 100\n",
      "Printing var from inner_inner_func(): 101\n",
      "Printing var from outer_func(): 101\n"
     ]
    }
   ],
   "source": [
    "def outer_func():\n",
    "    # This block is the Local scope of outer_func()\n",
    "    var1 = 100  # A nonlocal var\n",
    "        \n",
    "    # It's also the enclosing scope of inner_func()\n",
    "    def inner_func():\n",
    "        # This block is the Local scope of inner_func()\n",
    "        print(f\"Printing var from inner_func(): {var1}\")\n",
    "        #print(f\"Printing another_var from inner_func(): {another_var}\")\n",
    "        \n",
    "        def inner_inner_func():\n",
    "            nonlocal var1\n",
    "            var1 +=1\n",
    "            print(f\"Printing var from inner_inner_func(): {var1}\")\n",
    "            \n",
    "        inner_inner_func()\n",
    "        \n",
    "    inner_func()\n",
    "    #another_var = 200  # This is defined after calling inner_func()\n",
    "    print(f\"Printing var from outer_func(): {var1}\")\n",
    "\n",
    "print(\"outer func\")\n",
    "outer_func()\n",
    "\n",
    "#print(\"inner func, should error\")\n",
    "#inner_func()"
   ]
  },
  {
   "cell_type": "markdown",
   "metadata": {},
   "source": [
    "## Global (or module) scope\n",
    "\n",
    "\n",
    "Global (or module) scope is the top-most scope in a Python program, script, or module. This Python scope contains all of the names that you define at the top level of a program or a module. Names in this Python scope are visible from everywhere in your code."
   ]
  },
  {
   "cell_type": "code",
   "execution_count": 223,
   "metadata": {},
   "outputs": [
    {
     "data": {
      "text/plain": [
       "True"
      ]
     },
     "execution_count": 223,
     "metadata": {},
     "output_type": "execute_result"
    }
   ],
   "source": [
    "len(dir())  == len(__main__.__dict__)\n"
   ]
  },
  {
   "cell_type": "code",
   "execution_count": 149,
   "metadata": {},
   "outputs": [
    {
     "name": "stdout",
     "output_type": "stream",
     "text": [
      "10000\n"
     ]
    },
    {
     "data": {
      "text/plain": [
       "'var'"
      ]
     },
     "execution_count": 149,
     "metadata": {},
     "output_type": "execute_result"
    }
   ],
   "source": [
    "import __main__\n",
    "\n",
    "var = 10000\n",
    "\n",
    "print(__main__.__dict__['var'])\n",
    "\n",
    "## Use dir to get the global scope\n",
    "dir()[-1] # get the last one\n",
    "\n"
   ]
  },
  {
   "cell_type": "code",
   "execution_count": 208,
   "metadata": {},
   "outputs": [
    {
     "name": "stdout",
     "output_type": "stream",
     "text": [
      "Var from func: 200\n",
      "Var from global: 200\n"
     ]
    }
   ],
   "source": [
    "var = 10000\n",
    "\n",
    "def func():\n",
    "    global var\n",
    "    var = 200 # All of a sudden var in local\n",
    "    print(\"Var from func: {}\".format(var))\n",
    "    \n",
    "func()\n",
    "print(\"Var from global: {}\".format(var))"
   ]
  },
  {
   "cell_type": "markdown",
   "metadata": {},
   "source": [
    "Another example with scopes"
   ]
  },
  {
   "cell_type": "code",
   "execution_count": 134,
   "metadata": {},
   "outputs": [
    {
     "name": "stdout",
     "output_type": "stream",
     "text": [
      "{'__module__': '__main__', 'x': <function MyClass.x at 0x7f2a20084550>, '__dict__': <attribute '__dict__' of 'MyClass' objects>, '__weakref__': <attribute '__weakref__' of 'MyClass' objects>, '__doc__': None}\n",
      "{'__module__': '__main__', 'h': 12, 'y': <function MyOtherClass.y at 0x7f2a0bfbdc10>, '__doc__': None}\n",
      "Random number from MyOtherClass.y.yy: 0.6903161716600756\n",
      "101\n"
     ]
    }
   ],
   "source": [
    "from random import random\n",
    "\n",
    "g = random()\n",
    "class MyClass:\n",
    "    def x():\n",
    "        pass\n",
    "    \n",
    "class MyOtherClass(MyClass):\n",
    "    global g\n",
    "    h = 12\n",
    "    def y():\n",
    "        G = 100\n",
    "        def yy():\n",
    "            G += 1\n",
    "            print(G)\n",
    "            return g \n",
    "        \n",
    "        print(\"Random number from MyOtherClass.y.yy: {}\".format(yy()))\n",
    "        return G\n",
    "    \n",
    "    \n",
    "print(MyClass.__dict__)\n",
    "print(MyOtherClass.__dict__)\n",
    "\n",
    "print(MyOtherClass.y())\n",
    "#print(__main__.__dict__)"
   ]
  },
  {
   "cell_type": "markdown",
   "metadata": {},
   "source": [
    "## LEG scopes"
   ]
  },
  {
   "cell_type": "code",
   "execution_count": 161,
   "metadata": {},
   "outputs": [
    {
     "name": "stdout",
     "output_type": "stream",
     "text": [
      "100\n"
     ]
    }
   ],
   "source": [
    "# This area is the global or module scope\n",
    "number = 100\n",
    "def outer_func():\n",
    "    var = 10\n",
    "    # This block is the local scope of outer_func()\n",
    "    # It's also the enclosing scope of inner_func()\n",
    "    def inner_func():\n",
    "        # This block is the local scope of inner_func()\n",
    "        print(number)\n",
    "\n",
    "    inner_func()\n",
    "        \n",
    "outer_func()"
   ]
  },
  {
   "cell_type": "markdown",
   "metadata": {},
   "source": [
    "## Built-in scope \n",
    "\n",
    "Built-in scope is a special Python scope that’s created or loaded whenever you run a script or open an interactive session. This scope contains names such as keywords, functions, exceptions, and other attributes that are built into Python. Names in this Python scope are also available from everywhere in your code. It’s automatically loaded by Python when you run a program or script."
   ]
  },
  {
   "cell_type": "code",
   "execution_count": 229,
   "metadata": {},
   "outputs": [
    {
     "data": {
      "text/plain": [
       "13"
      ]
     },
     "execution_count": 229,
     "metadata": {},
     "output_type": "execute_result"
    }
   ],
   "source": [
    "abs(-13)\n"
   ]
  },
  {
   "cell_type": "code",
   "execution_count": 162,
   "metadata": {
    "scrolled": false
   },
   "outputs": [
    {
     "data": {
      "text/plain": [
       "['ArithmeticError',\n",
       " 'AssertionError',\n",
       " 'AttributeError',\n",
       " 'BaseException',\n",
       " 'BlockingIOError',\n",
       " 'BrokenPipeError',\n",
       " 'BufferError',\n",
       " 'BytesWarning',\n",
       " 'ChildProcessError',\n",
       " 'ConnectionAbortedError',\n",
       " 'ConnectionError',\n",
       " 'ConnectionRefusedError',\n",
       " 'ConnectionResetError',\n",
       " 'DeprecationWarning',\n",
       " 'EOFError',\n",
       " 'Ellipsis',\n",
       " 'EnvironmentError',\n",
       " 'Exception',\n",
       " 'False',\n",
       " 'FileExistsError',\n",
       " 'FileNotFoundError',\n",
       " 'FloatingPointError',\n",
       " 'FutureWarning',\n",
       " 'GeneratorExit',\n",
       " 'IOError',\n",
       " 'ImportError',\n",
       " 'ImportWarning',\n",
       " 'IndentationError',\n",
       " 'IndexError',\n",
       " 'InterruptedError',\n",
       " 'IsADirectoryError',\n",
       " 'KeyError',\n",
       " 'KeyboardInterrupt',\n",
       " 'LookupError',\n",
       " 'MemoryError',\n",
       " 'ModuleNotFoundError',\n",
       " 'NameError',\n",
       " 'None',\n",
       " 'NotADirectoryError',\n",
       " 'NotImplemented',\n",
       " 'NotImplementedError',\n",
       " 'OSError',\n",
       " 'OverflowError',\n",
       " 'PendingDeprecationWarning',\n",
       " 'PermissionError',\n",
       " 'ProcessLookupError',\n",
       " 'RecursionError',\n",
       " 'ReferenceError',\n",
       " 'ResourceWarning',\n",
       " 'RuntimeError',\n",
       " 'RuntimeWarning',\n",
       " 'StopAsyncIteration',\n",
       " 'StopIteration',\n",
       " 'SyntaxError',\n",
       " 'SyntaxWarning',\n",
       " 'SystemError',\n",
       " 'SystemExit',\n",
       " 'TabError',\n",
       " 'TimeoutError',\n",
       " 'True',\n",
       " 'TypeError',\n",
       " 'UnboundLocalError',\n",
       " 'UnicodeDecodeError',\n",
       " 'UnicodeEncodeError',\n",
       " 'UnicodeError',\n",
       " 'UnicodeTranslateError',\n",
       " 'UnicodeWarning',\n",
       " 'UserWarning',\n",
       " 'ValueError',\n",
       " 'Warning',\n",
       " 'ZeroDivisionError',\n",
       " '__IPYTHON__',\n",
       " '__build_class__',\n",
       " '__debug__',\n",
       " '__doc__',\n",
       " '__import__',\n",
       " '__loader__',\n",
       " '__name__',\n",
       " '__package__',\n",
       " '__spec__',\n",
       " 'abs',\n",
       " 'all',\n",
       " 'any',\n",
       " 'ascii',\n",
       " 'bin',\n",
       " 'bool',\n",
       " 'breakpoint',\n",
       " 'bytearray',\n",
       " 'bytes',\n",
       " 'callable',\n",
       " 'chr',\n",
       " 'classmethod',\n",
       " 'compile',\n",
       " 'complex',\n",
       " 'copyright',\n",
       " 'credits',\n",
       " 'delattr',\n",
       " 'dict',\n",
       " 'dir',\n",
       " 'display',\n",
       " 'divmod',\n",
       " 'enumerate',\n",
       " 'eval',\n",
       " 'exec',\n",
       " 'filter',\n",
       " 'float',\n",
       " 'format',\n",
       " 'frozenset',\n",
       " 'get_ipython',\n",
       " 'getattr',\n",
       " 'globals',\n",
       " 'hasattr',\n",
       " 'hash',\n",
       " 'help',\n",
       " 'hex',\n",
       " 'id',\n",
       " 'input',\n",
       " 'int',\n",
       " 'isinstance',\n",
       " 'issubclass',\n",
       " 'iter',\n",
       " 'len',\n",
       " 'license',\n",
       " 'list',\n",
       " 'locals',\n",
       " 'map',\n",
       " 'max',\n",
       " 'memoryview',\n",
       " 'min',\n",
       " 'next',\n",
       " 'object',\n",
       " 'oct',\n",
       " 'open',\n",
       " 'ord',\n",
       " 'pow',\n",
       " 'print',\n",
       " 'property',\n",
       " 'range',\n",
       " 'repr',\n",
       " 'reversed',\n",
       " 'round',\n",
       " 'set',\n",
       " 'setattr',\n",
       " 'slice',\n",
       " 'sorted',\n",
       " 'staticmethod',\n",
       " 'str',\n",
       " 'sum',\n",
       " 'super',\n",
       " 'tuple',\n",
       " 'type',\n",
       " 'vars',\n",
       " 'zip']"
      ]
     },
     "execution_count": 162,
     "metadata": {},
     "output_type": "execute_result"
    }
   ],
   "source": [
    "\n",
    "dir(__builtins__)"
   ]
  },
  {
   "cell_type": "code",
   "execution_count": 228,
   "metadata": {},
   "outputs": [
    {
     "data": {
      "text/plain": [
       "dict_keys(['__name__', '__doc__', '__package__', '__loader__', '__spec__', '__builtin__', '__builtins__', '_ih', '_oh', '_dh', 'In', 'Out', 'get_ipython', 'exit', 'quit', '_', '__', '___', '_i', '_ii', '_iii', '_i1', 'sys', '_1', '_i2', '_2', '_i3', '_3', '_i4', '_4', '_i5', '_i6', 'square', '_i7', '_i8', '_i9', '_i10', '_i11', '_11', '_i12', '_i13', '_i14', '_14', '_i15', '_15', '_i16', '_i17', '_17', '_i18', '_18', '_i19', 'sq', '_19', '_i20', '_20', '_i21', '_21', '_i22', '_22', '_i23', '_23', '_i24', 'a', 'b', '_i25', '_25', '_i26', '_26', '_i27', '_i28', '_28', '_i29', '_i30', '_i31', 'rsq', '_i32', '_i33', '_i34', '_i35', '_i36', '_i37', '_i38', '_i39', '_i40', '_i41', '_41', '_i42', '_i43', '_i44', '_i45', '_i46', '_i47', '_i48', '_i49', 'timesCalled', '_i50', '_i51', '_i52', '_i53', '_i54', '_i55', 'sqrt', '_i56', '_i57', '_i58', '_i59', '_i60', '_i61', '_i62', '_i63', '_i64', '_i65', '_i66', '_i67', '_i68', '_i69', '_i70', '_i71', '_i72', '_i73', '_i74', '_i75', '_i76', '_i77', '_i78', '_i79', '_i80', '_i81', 'MyClass', 'c', '_81', '_i82', 'g', 'MyOtherClass', '_82', '_i83', 'd', '_83', '_i84', '_84', '_i85', '_85', '_i86', '_86', '_i87', '_i88', '_i89', '_i90', '_i91', '__main__', '_i92', '_i93', '_i94', '_i95', '_i96', '_96', '_i97', '_97', '_i98', '_98', '_i99', '_99', '_i100', '_100', '_i101', '_101', '_i102', '_102', '_i103', '_103', '_i104', '_104', '_i105', '_105', '_i106', '_106', '_i107', '_107', '_i108', '_108', '_i109', '_109', '_i110', '_110', '_i111', 'outer_func', '_i112', '_i113', '_i114', '_i115', '_i116', '_i117', '_i118', '_i119', '_i120', '_i121', '_i122', '_i123', '_i124', '_i125', '_i126', '_i127', '_i128', '_i129', '_i130', '_i131', '_i132', 'random', '_i133', '_i134', '_i135', 'var', '_135', '_i136', '_136', '_i137', '_i138', '_138', '_i139', '_139', '_i140', '_140', '_i141', '_i142', 'func', '_i143', '_i144', '_i145', '_i146', '_i147', '_i148', '_i149', '_149', '_i150', '_i151', '_i152', '_i153', '_i154', '_i155', '_i156', '_i157', '_i158', '_i159', '_i160', 'number', '_i161', '_i162', '_162', '_i163', 'jemoeder', '_163', '_i164', '_164', '_i165', '_i166', '_166', '_i167', '_167', '_i168', '_i169', '_i170', '_i171', '_i172', '_i173', '_i174', 'randint', '_i175', '_i176', '_i177', 'builtins', '_i178', '_i179', '_i180', '_i181', '_i182', '_i183', '_i184', '_184', '_i185', '_185', '_i186', '_186', '_i187', '_187', '_i188', '_i189', '_i190', '_i191', '_i192', '_i193', '_i194', '_i195', '_195', '_i196', '_196', '_i197', '_197', '_i198', '_198', '_i199', '_199', '_i200', '_i201', '_i202', '_i203', '_i204', '_i205', '_i206', '_i207', '_i208', '_i209', '_i210', '_i211', '_i212', '_i213', '_i215', '_i216', '_i217', '_217', '_i218', '_218', '_i219', '_i220', '_220', '_i221', '_221', '_i222', '_222', '_i223', '_223', '_i224', '_224', '_i225', '_225', '_i226', '_226', '_i227', '_227', '_i228'])"
      ]
     },
     "execution_count": 228,
     "metadata": {},
     "output_type": "execute_result"
    }
   ],
   "source": [
    "__main__.__dict__.keys()"
   ]
  },
  {
   "cell_type": "code",
   "execution_count": 3,
   "metadata": {},
   "outputs": [
    {
     "name": "stdout",
     "output_type": "stream",
     "text": [
      "[-15, -14, -13, -11, -10, -9, -8, -4, -4, -3, -3, -3, -1, 0, 0, 0, 1, 4, 8, 9]\n",
      "4950\n",
      "-1\n"
     ]
    }
   ],
   "source": [
    "import builtins as jemoeder\n",
    "from random import randint\n",
    "\n",
    "jemoeder is __builtins__\n",
    "\n",
    "def sum(x, y):\n",
    "    return x-y \n",
    "\n",
    "print(jemoeder.sorted([randint(-x, x) for x in range(20)]))\n",
    "print(__builtins__.sum(range(100)))\n",
    "print(sum(2, 3))"
   ]
  },
  {
   "cell_type": "code",
   "execution_count": 7,
   "metadata": {},
   "outputs": [
    {
     "name": "stdout",
     "output_type": "stream",
     "text": [
      "16\n",
      "16\n",
      "81\n"
     ]
    }
   ],
   "source": [
    "import builtins\n",
    "\n",
    "builtins.mysq = (lambda x: x*x)\n",
    "builtins.var2 = 9\n",
    "\n",
    "\n",
    "print(__builtins__.mysq(4))\n",
    "print(builtins.mysq(__builtins__.var2))"
   ]
  },
  {
   "cell_type": "code",
   "execution_count": 8,
   "metadata": {},
   "outputs": [
    {
     "data": {
      "text/plain": [
       "9"
      ]
     },
     "execution_count": 8,
     "metadata": {},
     "output_type": "execute_result"
    }
   ],
   "source": [
    "mysq(4)\n",
    "var2\n",
    "\n"
   ]
  },
  {
   "cell_type": "markdown",
   "metadata": {},
   "source": [
    "## What doe StackOverflow say???!!1\n",
    "\n",
    "https://stackoverflow.com/questions/7054228/accessing-a-function-within-a-functionnested-function\n",
    "\n",
    "Actually, a concise rule for Python Scope resolution, from [Learning Python, 3rd. Ed.](https://www.amazon.com/dp/0596513984). (These rules are specific to variable names, not attributes. If you reference it without a period, these rules apply.)\n",
    "\n",
    "LEGB Rule\n",
    "\n",
    "Local — Names assigned in any way within a function (`def` or `lambda`), and not declared global in that function\n",
    "\n",
    "Enclosing-function — Names assigned in the local scope of any and all statically enclosing functions (`def` or `lambda`), from inner to outer\n",
    "\n",
    "Global (module) — Names assigned at the top-level of a module file, or by executing a `global` statement in a `def` within the file\n",
    "\n",
    "Built-in (Python) — Names preassigned in the built-in names module: `open`, `range`, `SyntaxError`, etc\n",
    "\n",
    "So, in the case of\n",
    "\n",
    "```python\n",
    "\n",
    "code1 # global\n",
    "class Foo:\n",
    "    code2 # local \n",
    "    def spam(): # enclosed\n",
    "        global code1 # global in enclosed place\n",
    "        code3 # local\n",
    "        for code4: # local\n",
    "            code5 #local\n",
    "            x()\n",
    "```\n",
    "\n",
    "The for loop does not have its own namespace. In LEGB order, the scopes would be\n",
    "\n",
    "* `L`: Local in `def spam` (in `code3`, `code4`, and `code5`)      \n",
    "* `E`: Any enclosing functions (if the whole example were in another `def`)     \n",
    "* `G`: Were there any `x` declared globally in the module (in `code1`)?     \n",
    "* `B`: Any builtin `x` in Python.    \n",
    "\n",
    "\n",
    "`x` will never be found in `code2` (even in cases where you might expect it would, see [Antti's answer](https://stackoverflow.com/questions/291978/short-description-of-the-scoping-rules/23471004#23471004) or [here](https://stackoverflow.com/questions/13905741/accessing-class-variables-from-a-list-comprehension-in-the-class-definition)).\n",
    "\n"
   ]
  }
 ],
 "metadata": {
  "kernelspec": {
   "display_name": "Python 3.10.4 64-bit",
   "language": "python",
   "name": "python3"
  },
  "language_info": {
   "codemirror_mode": {
    "name": "ipython",
    "version": 3
   },
   "file_extension": ".py",
   "mimetype": "text/x-python",
   "name": "python",
   "nbconvert_exporter": "python",
   "pygments_lexer": "ipython3",
   "version": "3.10.4"
  },
  "vscode": {
   "interpreter": {
    "hash": "350ec87d84c6c58898f5c2e4bbb3396f5f55fe152cf4ea5d1a9ddc7ca48985be"
   }
  }
 },
 "nbformat": 4,
 "nbformat_minor": 4
}
